{
 "cells": [
  {
   "cell_type": "markdown",
   "id": "f4095ae4-7294-4b28-853e-88d235002c97",
   "metadata": {},
   "source": [
    "# Инициализация"
   ]
  },
  {
   "cell_type": "markdown",
   "id": "2f2318d2-9df8-4911-915e-15b725c44f8a",
   "metadata": {},
   "source": [
    "Загружаем библиотеки необходимые для выполнения кода ноутбука."
   ]
  },
  {
   "cell_type": "code",
   "execution_count": 1,
   "id": "662d04e7-1b0b-4e4a-9ddf-4526d7fef119",
   "metadata": {},
   "outputs": [
    {
     "name": "stderr",
     "output_type": "stream",
     "text": [
      "/home/mle-user/mle_projects/final_projects/mle-project-sprint-4-v001/.venv_recsys/lib/python3.10/site-packages/tqdm/auto.py:21: TqdmWarning: IProgress not found. Please update jupyter and ipywidgets. See https://ipywidgets.readthedocs.io/en/stable/user_install.html\n",
      "  from .autonotebook import tqdm as notebook_tqdm\n"
     ]
    }
   ],
   "source": [
    "# Standard library imports\n",
    "import calendar\n",
    "import gc\n",
    "\n",
    "# Third-party library imports\n",
    "import joblib\n",
    "import matplotlib.pyplot as plt\n",
    "import numpy as np\n",
    "import pandas as pd\n",
    "import scipy\n",
    "import seaborn as sns\n",
    "from catboost import CatBoostClassifier, Pool\n",
    "from implicit.als import AlternatingLeastSquares\n",
    "from sklearn.preprocessing import LabelEncoder\n",
    "\n",
    "# Setting constants\n",
    "RANDOM_STATE = 42\n",
    "\n",
    "# Tweaking additional settings\n",
    "sns.set_theme()"
   ]
  },
  {
   "cell_type": "markdown",
   "id": "bf80fbc5-b660-4fac-8fbb-a5cae77313b3",
   "metadata": {},
   "source": [
    "# === ЭТАП 1 ==="
   ]
  },
  {
   "cell_type": "markdown",
   "id": "5263a8b3-fe99-4204-8a2e-105182792c11",
   "metadata": {},
   "source": [
    "# Загрузка первичных данных"
   ]
  },
  {
   "cell_type": "markdown",
   "id": "1b54a6a5-1656-4e3c-99d1-49dc39451d33",
   "metadata": {},
   "source": [
    "Перед загрузкой данных необходимо вначале загрузить данные при помощи команды `wget` как указано в файле `README.md`. Следующие первичные данные были заранее скачаны и перемещены в папку `data`:\n",
    "- `tracks.parquet`\n",
    "- `catalog_names.parquet`\n",
    "- `interactions.parquet`\n",
    "\n",
    "В случае отсутствия данных в папке `data`, файлы будут искаться и в текущей директории, в связи с чем код загрузки данных следующий:"
   ]
  },
  {
   "cell_type": "code",
   "execution_count": 2,
   "id": "d95b9f93-0175-4626-8c13-22f47781e849",
   "metadata": {},
   "outputs": [
    {
     "name": "stdout",
     "output_type": "stream",
     "text": [
      "CPU times: user 9.23 s, sys: 11.1 s, total: 20.3 s\n",
      "Wall time: 31.3 s\n"
     ]
    }
   ],
   "source": [
    "%%time\n",
    "try:\n",
    "    tracks = pd.read_parquet(\"data/tracks.parquet\")\n",
    "    catalog_names = pd.read_parquet(\"data/catalog_names.parquet\")\n",
    "    events = pd.read_parquet(\"data/interactions.parquet\")\n",
    "except FileNotFoundError:\n",
    "    tracks = pd.read_parquet(\"tracks.parquet\")\n",
    "    catalog_names = pd.read_parquet(\"catalog_names.parquet\")\n",
    "    events = pd.read_parquet(\"interactions.parquet\")"
   ]
  },
  {
   "cell_type": "markdown",
   "id": "8174481c-3471-40e8-92be-0114af835d3d",
   "metadata": {},
   "source": [
    "Подобная схема будет использоваться в дальнейшем при загрузке и сохранении данных."
   ]
  },
  {
   "cell_type": "markdown",
   "id": "e8f2a1f7-a05f-4f39-af90-5f4018aa6f9d",
   "metadata": {},
   "source": [
    "# Обзор данных"
   ]
  },
  {
   "cell_type": "markdown",
   "id": "46a85307-896c-4fac-9fcf-f0dffa90889e",
   "metadata": {},
   "source": [
    "Теперь когда данные загружены, проверим их на предмет наличия явных проблем. Проанализируем каждый из созданных на предыдущем этапе датафреймов:\n",
    "\n",
    "* `tracks`\n",
    "* `catalog_names`\n",
    "* `events`"
   ]
  },
  {
   "cell_type": "markdown",
   "id": "48d9751c-712f-4637-9944-d76fdcf15507",
   "metadata": {},
   "source": [
    "## Tracks"
   ]
  },
  {
   "cell_type": "markdown",
   "id": "c475d8b1-3b26-43cc-87e3-c811fe8cf23e",
   "metadata": {},
   "source": [
    "Для начала рассмотрим данные о музыкальных треках из `tracks`:"
   ]
  },
  {
   "cell_type": "code",
   "execution_count": 3,
   "id": "c9f8f17e-9b56-4f5a-a463-f694a993effb",
   "metadata": {},
   "outputs": [
    {
     "name": "stdout",
     "output_type": "stream",
     "text": [
      "<class 'pandas.core.frame.DataFrame'>\n",
      "RangeIndex: 1000000 entries, 0 to 999999\n",
      "Data columns (total 4 columns):\n",
      " #   Column    Non-Null Count    Dtype \n",
      "---  ------    --------------    ----- \n",
      " 0   track_id  1000000 non-null  int64 \n",
      " 1   albums    1000000 non-null  object\n",
      " 2   artists   1000000 non-null  object\n",
      " 3   genres    1000000 non-null  object\n",
      "dtypes: int64(1), object(3)\n",
      "memory usage: 30.5+ MB\n"
     ]
    }
   ],
   "source": [
    "tracks.info()"
   ]
  },
  {
   "cell_type": "markdown",
   "id": "1d4988d5-ec8b-45a9-b9a2-66acd56741d9",
   "metadata": {},
   "source": [
    "Вывод общей информации о музыкальных треках показывает, что в данных присутствует информация о 1 млн объектов с информацией о альбоме, в котором конкретный трек присутствует, исполнителе и жанре. \n",
    "\n",
    "Проверим, точно ли каждая строка датафрейма однозначно определена (то есть нет дубликатов идентификаторов треков):"
   ]
  },
  {
   "cell_type": "code",
   "execution_count": 4,
   "id": "89a3ce08-fa36-417c-8ecd-a9e546cbeb88",
   "metadata": {},
   "outputs": [],
   "source": [
    "assert tracks.track_id.duplicated().sum() == 0"
   ]
  },
  {
   "cell_type": "markdown",
   "id": "3894132b-8b14-4935-856b-00a203dca311",
   "metadata": {},
   "source": [
    "Все в норме, у нас есть данные о 1 млн уникальных музыкальных треков. Посмотрим, как выглядит датафрейм, вывев первые 5 строк:"
   ]
  },
  {
   "cell_type": "code",
   "execution_count": 5,
   "id": "0f163592-0b4e-4ff9-8bf8-eb2377d25cf5",
   "metadata": {},
   "outputs": [
    {
     "data": {
      "text/html": [
       "<div>\n",
       "<style scoped>\n",
       "    .dataframe tbody tr th:only-of-type {\n",
       "        vertical-align: middle;\n",
       "    }\n",
       "\n",
       "    .dataframe tbody tr th {\n",
       "        vertical-align: top;\n",
       "    }\n",
       "\n",
       "    .dataframe thead th {\n",
       "        text-align: right;\n",
       "    }\n",
       "</style>\n",
       "<table border=\"1\" class=\"dataframe\">\n",
       "  <thead>\n",
       "    <tr style=\"text-align: right;\">\n",
       "      <th></th>\n",
       "      <th>track_id</th>\n",
       "      <th>albums</th>\n",
       "      <th>artists</th>\n",
       "      <th>genres</th>\n",
       "    </tr>\n",
       "  </thead>\n",
       "  <tbody>\n",
       "    <tr>\n",
       "      <th>0</th>\n",
       "      <td>26</td>\n",
       "      <td>[3, 2490753]</td>\n",
       "      <td>[16]</td>\n",
       "      <td>[11, 21]</td>\n",
       "    </tr>\n",
       "    <tr>\n",
       "      <th>1</th>\n",
       "      <td>38</td>\n",
       "      <td>[3, 2490753]</td>\n",
       "      <td>[16]</td>\n",
       "      <td>[11, 21]</td>\n",
       "    </tr>\n",
       "    <tr>\n",
       "      <th>2</th>\n",
       "      <td>135</td>\n",
       "      <td>[12, 214, 2490809]</td>\n",
       "      <td>[84]</td>\n",
       "      <td>[11]</td>\n",
       "    </tr>\n",
       "    <tr>\n",
       "      <th>3</th>\n",
       "      <td>136</td>\n",
       "      <td>[12, 214, 2490809]</td>\n",
       "      <td>[84]</td>\n",
       "      <td>[11]</td>\n",
       "    </tr>\n",
       "    <tr>\n",
       "      <th>4</th>\n",
       "      <td>138</td>\n",
       "      <td>[12, 214, 322, 72275, 72292, 91199, 213505, 24...</td>\n",
       "      <td>[84]</td>\n",
       "      <td>[11]</td>\n",
       "    </tr>\n",
       "  </tbody>\n",
       "</table>\n",
       "</div>"
      ],
      "text/plain": [
       "   track_id                                             albums artists  \\\n",
       "0        26                                       [3, 2490753]    [16]   \n",
       "1        38                                       [3, 2490753]    [16]   \n",
       "2       135                                 [12, 214, 2490809]    [84]   \n",
       "3       136                                 [12, 214, 2490809]    [84]   \n",
       "4       138  [12, 214, 322, 72275, 72292, 91199, 213505, 24...    [84]   \n",
       "\n",
       "     genres  \n",
       "0  [11, 21]  \n",
       "1  [11, 21]  \n",
       "2      [11]  \n",
       "3      [11]  \n",
       "4      [11]  "
      ]
     },
     "execution_count": 5,
     "metadata": {},
     "output_type": "execute_result"
    }
   ],
   "source": [
    "tracks.head()"
   ]
  },
  {
   "cell_type": "markdown",
   "id": "2ec7182a-c26a-448b-ac6f-078e00f47b9c",
   "metadata": {},
   "source": [
    "Здесь как раз и вырисовывается первая проблема: будет проблематично работать с такими списками как значениями датафрейма. Дело даже не только в том, что такой формат данных непригоден для дальнейшего построения рекомендательной системы, но и ввиду того, что даже пустой список будет являться значением, то есть следующий код ожидаемо не найдет пропущенных значений:"
   ]
  },
  {
   "cell_type": "code",
   "execution_count": 6,
   "id": "44110b74-d3c8-4b67-b83e-187282355e69",
   "metadata": {},
   "outputs": [
    {
     "data": {
      "text/plain": [
       "track_id    0\n",
       "albums      0\n",
       "artists     0\n",
       "genres      0\n",
       "dtype: int64"
      ]
     },
     "execution_count": 6,
     "metadata": {},
     "output_type": "execute_result"
    }
   ],
   "source": [
    "tracks.isna().sum()"
   ]
  },
  {
   "cell_type": "markdown",
   "id": "68c43b60-255c-41c2-8459-fa86af32a5b8",
   "metadata": {},
   "source": [
    "Итак, нам необходимо придумать способ, как нам разъединить эти списки. К счастью, метод `explode` библиотеки `pandas` занимается как раз таки этим. Поскольку в каждой из колонок, содержащих списки, размеры списков разные, придется последовательно применить данной метод к каждой из таких колонок следующим образом:"
   ]
  },
  {
   "cell_type": "code",
   "execution_count": 7,
   "id": "5bf66714-6d4c-49ce-b37a-18d5a8c048e6",
   "metadata": {},
   "outputs": [
    {
     "name": "stdout",
     "output_type": "stream",
     "text": [
      "CPU times: user 8.26 s, sys: 973 ms, total: 9.23 s\n",
      "Wall time: 9.23 s\n"
     ]
    },
    {
     "data": {
      "text/html": [
       "<div>\n",
       "<style scoped>\n",
       "    .dataframe tbody tr th:only-of-type {\n",
       "        vertical-align: middle;\n",
       "    }\n",
       "\n",
       "    .dataframe tbody tr th {\n",
       "        vertical-align: top;\n",
       "    }\n",
       "\n",
       "    .dataframe thead th {\n",
       "        text-align: right;\n",
       "    }\n",
       "</style>\n",
       "<table border=\"1\" class=\"dataframe\">\n",
       "  <thead>\n",
       "    <tr style=\"text-align: right;\">\n",
       "      <th></th>\n",
       "      <th>track_id</th>\n",
       "      <th>albums</th>\n",
       "      <th>artists</th>\n",
       "      <th>genres</th>\n",
       "    </tr>\n",
       "  </thead>\n",
       "  <tbody>\n",
       "    <tr>\n",
       "      <th>0</th>\n",
       "      <td>26</td>\n",
       "      <td>3</td>\n",
       "      <td>16</td>\n",
       "      <td>11</td>\n",
       "    </tr>\n",
       "    <tr>\n",
       "      <th>1</th>\n",
       "      <td>26</td>\n",
       "      <td>3</td>\n",
       "      <td>16</td>\n",
       "      <td>21</td>\n",
       "    </tr>\n",
       "    <tr>\n",
       "      <th>2</th>\n",
       "      <td>26</td>\n",
       "      <td>2490753</td>\n",
       "      <td>16</td>\n",
       "      <td>11</td>\n",
       "    </tr>\n",
       "    <tr>\n",
       "      <th>3</th>\n",
       "      <td>26</td>\n",
       "      <td>2490753</td>\n",
       "      <td>16</td>\n",
       "      <td>21</td>\n",
       "    </tr>\n",
       "    <tr>\n",
       "      <th>4</th>\n",
       "      <td>38</td>\n",
       "      <td>3</td>\n",
       "      <td>16</td>\n",
       "      <td>11</td>\n",
       "    </tr>\n",
       "  </tbody>\n",
       "</table>\n",
       "</div>"
      ],
      "text/plain": [
       "   track_id   albums artists genres\n",
       "0        26        3      16     11\n",
       "1        26        3      16     21\n",
       "2        26  2490753      16     11\n",
       "3        26  2490753      16     21\n",
       "4        38        3      16     11"
      ]
     },
     "execution_count": 7,
     "metadata": {},
     "output_type": "execute_result"
    }
   ],
   "source": [
    "%%time\n",
    "tracks = tracks \\\n",
    "            .explode(column=[\"albums\"], ignore_index=True) \\\n",
    "            .explode(column=[\"artists\"], ignore_index=True) \\\n",
    "            .explode(column=[\"genres\"], ignore_index=True)\n",
    "\n",
    "tracks.head()"
   ]
  },
  {
   "cell_type": "markdown",
   "id": "797b685d-707d-476a-a6a1-d48800762293",
   "metadata": {},
   "source": [
    "Мы видим теперь, что у нас нет больше списков, поскольку мы раздробили значения в списках по `track_id`. В результате размер датафрейма увеличился, ведь теперь у нас списки разбились по идентификатору трека. Теперь конечно мы уже сможем понять, где есть пропуски:"
   ]
  },
  {
   "cell_type": "code",
   "execution_count": 8,
   "id": "43a1cc69-484e-4b63-9186-7ba04dd5da27",
   "metadata": {},
   "outputs": [
    {
     "data": {
      "text/plain": [
       "track_id        0\n",
       "albums         18\n",
       "artists     41789\n",
       "genres      36675\n",
       "dtype: int64"
      ]
     },
     "execution_count": 8,
     "metadata": {},
     "output_type": "execute_result"
    }
   ],
   "source": [
    "tracks.isna().sum()"
   ]
  },
  {
   "cell_type": "code",
   "execution_count": 9,
   "id": "928486f8-5c91-4ea7-b57f-5cfc290426e8",
   "metadata": {},
   "outputs": [
    {
     "data": {
      "text/plain": [
       "track_id    0.000000\n",
       "albums      0.000003\n",
       "artists     0.006177\n",
       "genres      0.005421\n",
       "dtype: float64"
      ]
     },
     "execution_count": 9,
     "metadata": {},
     "output_type": "execute_result"
    }
   ],
   "source": [
    "tracks.isna().sum() / tracks.shape[0]"
   ]
  },
  {
   "cell_type": "markdown",
   "id": "293173f1-f493-4db7-af14-a3f189b32970",
   "metadata": {},
   "source": [
    "Видим, что у нас все-таки присутствуют в данных треки с неизвестными альбомами, исполнителями и жанрами. Более подробно такие треки будут рассмотрены позже. Сейчас же для удобства переименуем колонки, ведь у нас здесь именно идентификаторы:"
   ]
  },
  {
   "cell_type": "code",
   "execution_count": 10,
   "id": "042613ae-e6d0-4a58-be6b-55c0071f19db",
   "metadata": {},
   "outputs": [
    {
     "data": {
      "text/html": [
       "<div>\n",
       "<style scoped>\n",
       "    .dataframe tbody tr th:only-of-type {\n",
       "        vertical-align: middle;\n",
       "    }\n",
       "\n",
       "    .dataframe tbody tr th {\n",
       "        vertical-align: top;\n",
       "    }\n",
       "\n",
       "    .dataframe thead th {\n",
       "        text-align: right;\n",
       "    }\n",
       "</style>\n",
       "<table border=\"1\" class=\"dataframe\">\n",
       "  <thead>\n",
       "    <tr style=\"text-align: right;\">\n",
       "      <th></th>\n",
       "      <th>track_id</th>\n",
       "      <th>album_id</th>\n",
       "      <th>artist_id</th>\n",
       "      <th>genre_id</th>\n",
       "    </tr>\n",
       "  </thead>\n",
       "  <tbody>\n",
       "    <tr>\n",
       "      <th>0</th>\n",
       "      <td>26</td>\n",
       "      <td>3</td>\n",
       "      <td>16</td>\n",
       "      <td>11</td>\n",
       "    </tr>\n",
       "    <tr>\n",
       "      <th>1</th>\n",
       "      <td>26</td>\n",
       "      <td>3</td>\n",
       "      <td>16</td>\n",
       "      <td>21</td>\n",
       "    </tr>\n",
       "    <tr>\n",
       "      <th>2</th>\n",
       "      <td>26</td>\n",
       "      <td>2490753</td>\n",
       "      <td>16</td>\n",
       "      <td>11</td>\n",
       "    </tr>\n",
       "  </tbody>\n",
       "</table>\n",
       "</div>"
      ],
      "text/plain": [
       "   track_id album_id artist_id genre_id\n",
       "0        26        3        16       11\n",
       "1        26        3        16       21\n",
       "2        26  2490753        16       11"
      ]
     },
     "execution_count": 10,
     "metadata": {},
     "output_type": "execute_result"
    }
   ],
   "source": [
    "tracks = tracks.rename(\n",
    "    columns= {\n",
    "        \"albums\": \"album_id\",\n",
    "        \"artists\": \"artist_id\",\n",
    "        \"genres\": \"genre_id\",\n",
    "    }\n",
    ")\n",
    "\n",
    "tracks.head(3)"
   ]
  },
  {
   "cell_type": "markdown",
   "id": "15add7fb-76e3-4573-ac96-7c09fe051ab9",
   "metadata": {},
   "source": [
    "## Catalogue"
   ]
  },
  {
   "cell_type": "markdown",
   "id": "4fe4c53a-fd0d-4e7c-adf1-26577b70a825",
   "metadata": {},
   "source": [
    "Теперь рассмотрим датафрейм `catalog_names`:"
   ]
  },
  {
   "cell_type": "code",
   "execution_count": 11,
   "id": "efd2e2eb-3bec-4ce1-87ac-232bab8bc0d0",
   "metadata": {},
   "outputs": [
    {
     "name": "stdout",
     "output_type": "stream",
     "text": [
      "<class 'pandas.core.frame.DataFrame'>\n",
      "RangeIndex: 1812471 entries, 0 to 1812470\n",
      "Data columns (total 3 columns):\n",
      " #   Column  Dtype \n",
      "---  ------  ----- \n",
      " 0   id      int64 \n",
      " 1   type    object\n",
      " 2   name    object\n",
      "dtypes: int64(1), object(2)\n",
      "memory usage: 41.5+ MB\n"
     ]
    }
   ],
   "source": [
    "catalog_names.info()"
   ]
  },
  {
   "cell_type": "code",
   "execution_count": 12,
   "id": "9cd54cb3-e6c2-4ac3-adc0-56e6a708f730",
   "metadata": {},
   "outputs": [
    {
     "data": {
      "text/html": [
       "<div>\n",
       "<style scoped>\n",
       "    .dataframe tbody tr th:only-of-type {\n",
       "        vertical-align: middle;\n",
       "    }\n",
       "\n",
       "    .dataframe tbody tr th {\n",
       "        vertical-align: top;\n",
       "    }\n",
       "\n",
       "    .dataframe thead th {\n",
       "        text-align: right;\n",
       "    }\n",
       "</style>\n",
       "<table border=\"1\" class=\"dataframe\">\n",
       "  <thead>\n",
       "    <tr style=\"text-align: right;\">\n",
       "      <th></th>\n",
       "      <th>id</th>\n",
       "      <th>type</th>\n",
       "      <th>name</th>\n",
       "    </tr>\n",
       "  </thead>\n",
       "  <tbody>\n",
       "    <tr>\n",
       "      <th>0</th>\n",
       "      <td>3</td>\n",
       "      <td>album</td>\n",
       "      <td>Taller Children</td>\n",
       "    </tr>\n",
       "    <tr>\n",
       "      <th>1</th>\n",
       "      <td>12</td>\n",
       "      <td>album</td>\n",
       "      <td>Wild Young Hearts</td>\n",
       "    </tr>\n",
       "    <tr>\n",
       "      <th>2</th>\n",
       "      <td>13</td>\n",
       "      <td>album</td>\n",
       "      <td>Lonesome Crow</td>\n",
       "    </tr>\n",
       "    <tr>\n",
       "      <th>3</th>\n",
       "      <td>17</td>\n",
       "      <td>album</td>\n",
       "      <td>Graffiti Soul</td>\n",
       "    </tr>\n",
       "    <tr>\n",
       "      <th>4</th>\n",
       "      <td>26</td>\n",
       "      <td>album</td>\n",
       "      <td>Blues Six Pack</td>\n",
       "    </tr>\n",
       "  </tbody>\n",
       "</table>\n",
       "</div>"
      ],
      "text/plain": [
       "   id   type               name\n",
       "0   3  album    Taller Children\n",
       "1  12  album  Wild Young Hearts\n",
       "2  13  album      Lonesome Crow\n",
       "3  17  album      Graffiti Soul\n",
       "4  26  album     Blues Six Pack"
      ]
     },
     "execution_count": 12,
     "metadata": {},
     "output_type": "execute_result"
    }
   ],
   "source": [
    "catalog_names.head()"
   ]
  },
  {
   "cell_type": "code",
   "execution_count": 13,
   "id": "71686564-7d87-4bff-8701-b86785dc2247",
   "metadata": {},
   "outputs": [
    {
     "data": {
      "text/plain": [
       "id      0\n",
       "type    0\n",
       "name    0\n",
       "dtype: int64"
      ]
     },
     "execution_count": 13,
     "metadata": {},
     "output_type": "execute_result"
    }
   ],
   "source": [
    "catalog_names.isna().sum()"
   ]
  },
  {
   "cell_type": "code",
   "execution_count": 14,
   "id": "200155a0-1932-4c89-b52a-b7f099286fcf",
   "metadata": {},
   "outputs": [
    {
     "data": {
      "text/plain": [
       "type\n",
       "track     1000000\n",
       "album      658724\n",
       "artist     153581\n",
       "genre         166\n",
       "Name: count, dtype: int64"
      ]
     },
     "execution_count": 14,
     "metadata": {},
     "output_type": "execute_result"
    }
   ],
   "source": [
    "catalog_names.type.value_counts()"
   ]
  },
  {
   "cell_type": "markdown",
   "id": "a89908b8-5819-4da9-9f27-a8130afd0507",
   "metadata": {},
   "source": [
    "Видим, что буквально в один датафрейм забили данные о названиях треков, альбомов, исполнителей и жанров. В таком виде это крайне неудобно, так что одним из решений может быть разбить датафрейм на несколько суб-датафреймов:\n",
    "\n",
    "* `genres` => Данные о жанрах\n",
    "* `track_names` => Данные о названиях треков\n",
    "* `albums` => Данные о названиях альбомов\n",
    "* `artists` => Данные о исполнителях"
   ]
  },
  {
   "cell_type": "code",
   "execution_count": 15,
   "id": "4648699f-126b-4621-8b2f-f023bc53e81e",
   "metadata": {},
   "outputs": [
    {
     "data": {
      "text/html": [
       "<div>\n",
       "<style scoped>\n",
       "    .dataframe tbody tr th:only-of-type {\n",
       "        vertical-align: middle;\n",
       "    }\n",
       "\n",
       "    .dataframe tbody tr th {\n",
       "        vertical-align: top;\n",
       "    }\n",
       "\n",
       "    .dataframe thead th {\n",
       "        text-align: right;\n",
       "    }\n",
       "</style>\n",
       "<table border=\"1\" class=\"dataframe\">\n",
       "  <thead>\n",
       "    <tr style=\"text-align: right;\">\n",
       "      <th></th>\n",
       "      <th>genre_id</th>\n",
       "      <th>genre</th>\n",
       "    </tr>\n",
       "  </thead>\n",
       "  <tbody>\n",
       "    <tr>\n",
       "      <th>812305</th>\n",
       "      <td>0</td>\n",
       "      <td>all</td>\n",
       "    </tr>\n",
       "    <tr>\n",
       "      <th>812306</th>\n",
       "      <td>1</td>\n",
       "      <td>eastern</td>\n",
       "    </tr>\n",
       "    <tr>\n",
       "      <th>812307</th>\n",
       "      <td>2</td>\n",
       "      <td>rusrock</td>\n",
       "    </tr>\n",
       "  </tbody>\n",
       "</table>\n",
       "</div>"
      ],
      "text/plain": [
       "        genre_id    genre\n",
       "812305         0      all\n",
       "812306         1  eastern\n",
       "812307         2  rusrock"
      ]
     },
     "execution_count": 15,
     "metadata": {},
     "output_type": "execute_result"
    }
   ],
   "source": [
    "genres = catalog_names \\\n",
    "            .query(\"type == 'genre'\") \\\n",
    "            .drop(\"type\", axis=1) \\\n",
    "            .rename(\n",
    "                columns={\n",
    "                    \"id\": \"genre_id\",\n",
    "                    \"name\": \"genre\"\n",
    "                }\n",
    "            )\n",
    "\n",
    "genres.head(3)"
   ]
  },
  {
   "cell_type": "code",
   "execution_count": 16,
   "id": "dc93ab46-aad3-4359-80c2-118458a0a5b4",
   "metadata": {},
   "outputs": [
    {
     "data": {
      "text/html": [
       "<div>\n",
       "<style scoped>\n",
       "    .dataframe tbody tr th:only-of-type {\n",
       "        vertical-align: middle;\n",
       "    }\n",
       "\n",
       "    .dataframe tbody tr th {\n",
       "        vertical-align: top;\n",
       "    }\n",
       "\n",
       "    .dataframe thead th {\n",
       "        text-align: right;\n",
       "    }\n",
       "</style>\n",
       "<table border=\"1\" class=\"dataframe\">\n",
       "  <thead>\n",
       "    <tr style=\"text-align: right;\">\n",
       "      <th></th>\n",
       "      <th>track_id</th>\n",
       "      <th>track</th>\n",
       "    </tr>\n",
       "  </thead>\n",
       "  <tbody>\n",
       "    <tr>\n",
       "      <th>812471</th>\n",
       "      <td>26</td>\n",
       "      <td>Complimentary Me</td>\n",
       "    </tr>\n",
       "    <tr>\n",
       "      <th>812472</th>\n",
       "      <td>38</td>\n",
       "      <td>Momma's Boy</td>\n",
       "    </tr>\n",
       "    <tr>\n",
       "      <th>812473</th>\n",
       "      <td>135</td>\n",
       "      <td>Atticus</td>\n",
       "    </tr>\n",
       "  </tbody>\n",
       "</table>\n",
       "</div>"
      ],
      "text/plain": [
       "        track_id             track\n",
       "812471        26  Complimentary Me\n",
       "812472        38       Momma's Boy\n",
       "812473       135           Atticus"
      ]
     },
     "execution_count": 16,
     "metadata": {},
     "output_type": "execute_result"
    }
   ],
   "source": [
    "track_names = catalog_names \\\n",
    "            .query(\"type == 'track'\") \\\n",
    "            .drop(\"type\", axis=1) \\\n",
    "            .rename(\n",
    "                columns={\n",
    "                    \"id\": \"track_id\",\n",
    "                    \"name\": \"track\"\n",
    "                }\n",
    "            )\n",
    "\n",
    "track_names.head(3)"
   ]
  },
  {
   "cell_type": "code",
   "execution_count": 17,
   "id": "99c82769-76da-4045-aedf-4abf0f7c5453",
   "metadata": {},
   "outputs": [
    {
     "data": {
      "text/html": [
       "<div>\n",
       "<style scoped>\n",
       "    .dataframe tbody tr th:only-of-type {\n",
       "        vertical-align: middle;\n",
       "    }\n",
       "\n",
       "    .dataframe tbody tr th {\n",
       "        vertical-align: top;\n",
       "    }\n",
       "\n",
       "    .dataframe thead th {\n",
       "        text-align: right;\n",
       "    }\n",
       "</style>\n",
       "<table border=\"1\" class=\"dataframe\">\n",
       "  <thead>\n",
       "    <tr style=\"text-align: right;\">\n",
       "      <th></th>\n",
       "      <th>album_id</th>\n",
       "      <th>album</th>\n",
       "    </tr>\n",
       "  </thead>\n",
       "  <tbody>\n",
       "    <tr>\n",
       "      <th>0</th>\n",
       "      <td>3</td>\n",
       "      <td>Taller Children</td>\n",
       "    </tr>\n",
       "    <tr>\n",
       "      <th>1</th>\n",
       "      <td>12</td>\n",
       "      <td>Wild Young Hearts</td>\n",
       "    </tr>\n",
       "    <tr>\n",
       "      <th>2</th>\n",
       "      <td>13</td>\n",
       "      <td>Lonesome Crow</td>\n",
       "    </tr>\n",
       "  </tbody>\n",
       "</table>\n",
       "</div>"
      ],
      "text/plain": [
       "   album_id              album\n",
       "0         3    Taller Children\n",
       "1        12  Wild Young Hearts\n",
       "2        13      Lonesome Crow"
      ]
     },
     "execution_count": 17,
     "metadata": {},
     "output_type": "execute_result"
    }
   ],
   "source": [
    "albums = catalog_names \\\n",
    "            .query(\"type == 'album'\") \\\n",
    "            .drop(\"type\", axis=1) \\\n",
    "            .rename(\n",
    "                columns={\n",
    "                    \"id\": \"album_id\",\n",
    "                    \"name\": \"album\"\n",
    "                }\n",
    "            )\n",
    "\n",
    "albums.head(3)"
   ]
  },
  {
   "cell_type": "code",
   "execution_count": 18,
   "id": "9bf9a258-5323-4793-a1e6-4775c1a08f4a",
   "metadata": {},
   "outputs": [
    {
     "data": {
      "text/html": [
       "<div>\n",
       "<style scoped>\n",
       "    .dataframe tbody tr th:only-of-type {\n",
       "        vertical-align: middle;\n",
       "    }\n",
       "\n",
       "    .dataframe tbody tr th {\n",
       "        vertical-align: top;\n",
       "    }\n",
       "\n",
       "    .dataframe thead th {\n",
       "        text-align: right;\n",
       "    }\n",
       "</style>\n",
       "<table border=\"1\" class=\"dataframe\">\n",
       "  <thead>\n",
       "    <tr style=\"text-align: right;\">\n",
       "      <th></th>\n",
       "      <th>artist_id</th>\n",
       "      <th>artist</th>\n",
       "    </tr>\n",
       "  </thead>\n",
       "  <tbody>\n",
       "    <tr>\n",
       "      <th>658724</th>\n",
       "      <td>4</td>\n",
       "      <td>Kenny Dorham</td>\n",
       "    </tr>\n",
       "    <tr>\n",
       "      <th>658725</th>\n",
       "      <td>5</td>\n",
       "      <td>Max Roach</td>\n",
       "    </tr>\n",
       "    <tr>\n",
       "      <th>658726</th>\n",
       "      <td>7</td>\n",
       "      <td>Francis Rossi</td>\n",
       "    </tr>\n",
       "  </tbody>\n",
       "</table>\n",
       "</div>"
      ],
      "text/plain": [
       "        artist_id         artist\n",
       "658724          4   Kenny Dorham\n",
       "658725          5      Max Roach\n",
       "658726          7  Francis Rossi"
      ]
     },
     "execution_count": 18,
     "metadata": {},
     "output_type": "execute_result"
    }
   ],
   "source": [
    "artists = catalog_names \\\n",
    "            .query(\"type == 'artist'\") \\\n",
    "            .drop(\"type\", axis=1) \\\n",
    "            .rename(\n",
    "                columns={\n",
    "                    \"id\": \"artist_id\",\n",
    "                    \"name\": \"artist\"\n",
    "                }\n",
    "            )\n",
    "\n",
    "artists.head(3)"
   ]
  },
  {
   "cell_type": "markdown",
   "id": "6e40ce1a-63a2-4ba8-9ffb-e7a6e0576da3",
   "metadata": {},
   "source": [
    "## Items"
   ]
  },
  {
   "cell_type": "markdown",
   "id": "2663b1a4-387e-4cfe-8b60-ecf4233bd0a0",
   "metadata": {},
   "source": [
    "Теперь когда у нас есть отдельные датафреймы, мы можем их смержить по их соответствующим идентификаторам с датафреймом `tracks` для того чтобы получить более ясную информацию о треках:"
   ]
  },
  {
   "cell_type": "code",
   "execution_count": 19,
   "id": "fc20ff77-7d16-4bc2-b7fc-c0a14a944343",
   "metadata": {},
   "outputs": [
    {
     "name": "stdout",
     "output_type": "stream",
     "text": [
      "CPU times: user 9.34 s, sys: 3.63 s, total: 13 s\n",
      "Wall time: 13 s\n"
     ]
    }
   ],
   "source": [
    "%%time\n",
    "items = tracks \\\n",
    "            .merge(track_names, on=\"track_id\", how=\"left\") \\\n",
    "            .merge(albums, on=\"album_id\", how=\"left\") \\\n",
    "            .merge(artists, on=\"artist_id\", how=\"left\") \\\n",
    "            .merge(genres, on=\"genre_id\", how=\"left\")"
   ]
  },
  {
   "cell_type": "markdown",
   "id": "7369f208-dc37-44f7-9357-57dfffeef3a5",
   "metadata": {},
   "source": [
    "Оставим информацию только о идентификаторе трека и строчной информации о них:"
   ]
  },
  {
   "cell_type": "code",
   "execution_count": 20,
   "id": "1ab70be3-ca7e-45f7-97d1-91093ef3adf0",
   "metadata": {},
   "outputs": [
    {
     "data": {
      "text/html": [
       "<div>\n",
       "<style scoped>\n",
       "    .dataframe tbody tr th:only-of-type {\n",
       "        vertical-align: middle;\n",
       "    }\n",
       "\n",
       "    .dataframe tbody tr th {\n",
       "        vertical-align: top;\n",
       "    }\n",
       "\n",
       "    .dataframe thead th {\n",
       "        text-align: right;\n",
       "    }\n",
       "</style>\n",
       "<table border=\"1\" class=\"dataframe\">\n",
       "  <thead>\n",
       "    <tr style=\"text-align: right;\">\n",
       "      <th></th>\n",
       "      <th>track_id</th>\n",
       "      <th>track</th>\n",
       "      <th>artist</th>\n",
       "      <th>album</th>\n",
       "      <th>genre</th>\n",
       "    </tr>\n",
       "  </thead>\n",
       "  <tbody>\n",
       "    <tr>\n",
       "      <th>0</th>\n",
       "      <td>26</td>\n",
       "      <td>Complimentary Me</td>\n",
       "      <td>Elizabeth &amp; the Catapult</td>\n",
       "      <td>Taller Children</td>\n",
       "      <td>pop</td>\n",
       "    </tr>\n",
       "    <tr>\n",
       "      <th>1</th>\n",
       "      <td>26</td>\n",
       "      <td>Complimentary Me</td>\n",
       "      <td>Elizabeth &amp; the Catapult</td>\n",
       "      <td>Taller Children</td>\n",
       "      <td>folk</td>\n",
       "    </tr>\n",
       "    <tr>\n",
       "      <th>2</th>\n",
       "      <td>26</td>\n",
       "      <td>Complimentary Me</td>\n",
       "      <td>Elizabeth &amp; the Catapult</td>\n",
       "      <td>Taller Children</td>\n",
       "      <td>pop</td>\n",
       "    </tr>\n",
       "    <tr>\n",
       "      <th>3</th>\n",
       "      <td>26</td>\n",
       "      <td>Complimentary Me</td>\n",
       "      <td>Elizabeth &amp; the Catapult</td>\n",
       "      <td>Taller Children</td>\n",
       "      <td>folk</td>\n",
       "    </tr>\n",
       "    <tr>\n",
       "      <th>4</th>\n",
       "      <td>38</td>\n",
       "      <td>Momma's Boy</td>\n",
       "      <td>Elizabeth &amp; the Catapult</td>\n",
       "      <td>Taller Children</td>\n",
       "      <td>pop</td>\n",
       "    </tr>\n",
       "  </tbody>\n",
       "</table>\n",
       "</div>"
      ],
      "text/plain": [
       "   track_id             track                    artist            album genre\n",
       "0        26  Complimentary Me  Elizabeth & the Catapult  Taller Children   pop\n",
       "1        26  Complimentary Me  Elizabeth & the Catapult  Taller Children  folk\n",
       "2        26  Complimentary Me  Elizabeth & the Catapult  Taller Children   pop\n",
       "3        26  Complimentary Me  Elizabeth & the Catapult  Taller Children  folk\n",
       "4        38       Momma's Boy  Elizabeth & the Catapult  Taller Children   pop"
      ]
     },
     "execution_count": 20,
     "metadata": {},
     "output_type": "execute_result"
    }
   ],
   "source": [
    "items = items[[\"track_id\", \"track\", \"artist\", \"album\", \"genre\"]]\n",
    "items.head()"
   ]
  },
  {
   "cell_type": "markdown",
   "id": "eb3592a1-7979-4994-aa09-43620b1079da",
   "metadata": {},
   "source": [
    "Чтобы было возможно однозначно идентифицировать трек, необходимо избавиться от неявных дубликатов и оставить только один. Можно в данном случае выбрать треки многими способами, но для удобства здесь в качестве решения выберем только первый идентификатор трека из дубликатов трека:"
   ]
  },
  {
   "cell_type": "code",
   "execution_count": 21,
   "id": "3bdee36c-d4a1-43be-9f97-5f3b22285cbf",
   "metadata": {},
   "outputs": [
    {
     "data": {
      "text/html": [
       "<div>\n",
       "<style scoped>\n",
       "    .dataframe tbody tr th:only-of-type {\n",
       "        vertical-align: middle;\n",
       "    }\n",
       "\n",
       "    .dataframe tbody tr th {\n",
       "        vertical-align: top;\n",
       "    }\n",
       "\n",
       "    .dataframe thead th {\n",
       "        text-align: right;\n",
       "    }\n",
       "</style>\n",
       "<table border=\"1\" class=\"dataframe\">\n",
       "  <thead>\n",
       "    <tr style=\"text-align: right;\">\n",
       "      <th></th>\n",
       "      <th>track_id</th>\n",
       "      <th>track</th>\n",
       "      <th>artist</th>\n",
       "      <th>album</th>\n",
       "      <th>genre</th>\n",
       "    </tr>\n",
       "  </thead>\n",
       "  <tbody>\n",
       "    <tr>\n",
       "      <th>0</th>\n",
       "      <td>26</td>\n",
       "      <td>Complimentary Me</td>\n",
       "      <td>Elizabeth &amp; the Catapult</td>\n",
       "      <td>Taller Children</td>\n",
       "      <td>pop</td>\n",
       "    </tr>\n",
       "    <tr>\n",
       "      <th>4</th>\n",
       "      <td>38</td>\n",
       "      <td>Momma's Boy</td>\n",
       "      <td>Elizabeth &amp; the Catapult</td>\n",
       "      <td>Taller Children</td>\n",
       "      <td>pop</td>\n",
       "    </tr>\n",
       "    <tr>\n",
       "      <th>8</th>\n",
       "      <td>135</td>\n",
       "      <td>Atticus</td>\n",
       "      <td>Noisettes</td>\n",
       "      <td>Wild Young Hearts</td>\n",
       "      <td>pop</td>\n",
       "    </tr>\n",
       "    <tr>\n",
       "      <th>11</th>\n",
       "      <td>136</td>\n",
       "      <td>24 Hours</td>\n",
       "      <td>Noisettes</td>\n",
       "      <td>Wild Young Hearts</td>\n",
       "      <td>pop</td>\n",
       "    </tr>\n",
       "    <tr>\n",
       "      <th>14</th>\n",
       "      <td>138</td>\n",
       "      <td>Don't Upset The Rhythm (Go Baby Go)</td>\n",
       "      <td>Noisettes</td>\n",
       "      <td>Wild Young Hearts</td>\n",
       "      <td>pop</td>\n",
       "    </tr>\n",
       "  </tbody>\n",
       "</table>\n",
       "</div>"
      ],
      "text/plain": [
       "    track_id                                track                    artist  \\\n",
       "0         26                     Complimentary Me  Elizabeth & the Catapult   \n",
       "4         38                          Momma's Boy  Elizabeth & the Catapult   \n",
       "8        135                              Atticus                 Noisettes   \n",
       "11       136                             24 Hours                 Noisettes   \n",
       "14       138  Don't Upset The Rhythm (Go Baby Go)                 Noisettes   \n",
       "\n",
       "                album genre  \n",
       "0     Taller Children   pop  \n",
       "4     Taller Children   pop  \n",
       "8   Wild Young Hearts   pop  \n",
       "11  Wild Young Hearts   pop  \n",
       "14  Wild Young Hearts   pop  "
      ]
     },
     "execution_count": 21,
     "metadata": {},
     "output_type": "execute_result"
    }
   ],
   "source": [
    "items = items.groupby(\"track_id\").head(1)\n",
    "items.head()"
   ]
  },
  {
   "cell_type": "code",
   "execution_count": 22,
   "id": "e6d0e9ed-5ba5-45e6-91a9-21a298b83631",
   "metadata": {},
   "outputs": [],
   "source": [
    "assert items.track_id.duplicated().sum() == 0"
   ]
  },
  {
   "cell_type": "code",
   "execution_count": 23,
   "id": "705ffbae-d923-4758-9f50-00c58c2cd579",
   "metadata": {},
   "outputs": [
    {
     "name": "stdout",
     "output_type": "stream",
     "text": [
      "<class 'pandas.core.frame.DataFrame'>\n",
      "Index: 1000000 entries, 0 to 6765309\n",
      "Data columns (total 5 columns):\n",
      " #   Column    Non-Null Count    Dtype \n",
      "---  ------    --------------    ----- \n",
      " 0   track_id  1000000 non-null  int64 \n",
      " 1   track     1000000 non-null  object\n",
      " 2   artist    984631 non-null   object\n",
      " 3   album     999982 non-null   object\n",
      " 4   genre     996306 non-null   object\n",
      "dtypes: int64(1), object(4)\n",
      "memory usage: 311.1 MB\n"
     ]
    }
   ],
   "source": [
    "items.info(memory_usage=\"deep\")"
   ]
  },
  {
   "cell_type": "code",
   "execution_count": 24,
   "id": "7c003422-2069-4c19-9995-c5b418c9f8b9",
   "metadata": {},
   "outputs": [
    {
     "data": {
      "text/plain": [
       "track_id        0\n",
       "track           0\n",
       "artist      15369\n",
       "album          18\n",
       "genre        3694\n",
       "dtype: int64"
      ]
     },
     "execution_count": 24,
     "metadata": {},
     "output_type": "execute_result"
    }
   ],
   "source": [
    "items.isna().sum()"
   ]
  },
  {
   "cell_type": "markdown",
   "id": "aa767b2c-833b-4f8f-8412-8f7f809892b4",
   "metadata": {},
   "source": [
    "Теперь мы можем рассмотреть треки с неизвестными исполнителями, альбомами и жанрами."
   ]
  },
  {
   "cell_type": "markdown",
   "id": "8ef88639-02f8-4d08-8956-33c4b9f2b66f",
   "metadata": {},
   "source": [
    "### Неизвестные альбомы"
   ]
  },
  {
   "cell_type": "markdown",
   "id": "fb684e8d-188f-479b-a72b-4b078a09312d",
   "metadata": {},
   "source": [
    "Видим, что у нас в данных (после мержа и после удаления дубликатов) все же остались треки, у которых отсутствуют названия исполнителей, альбома и жанров. Взглянем сначала на неизвестные альбомы:"
   ]
  },
  {
   "cell_type": "code",
   "execution_count": 25,
   "id": "da382ddb-3c7f-4e01-927d-4daa40b2af91",
   "metadata": {},
   "outputs": [
    {
     "data": {
      "text/html": [
       "<div>\n",
       "<style scoped>\n",
       "    .dataframe tbody tr th:only-of-type {\n",
       "        vertical-align: middle;\n",
       "    }\n",
       "\n",
       "    .dataframe tbody tr th {\n",
       "        vertical-align: top;\n",
       "    }\n",
       "\n",
       "    .dataframe thead th {\n",
       "        text-align: right;\n",
       "    }\n",
       "</style>\n",
       "<table border=\"1\" class=\"dataframe\">\n",
       "  <thead>\n",
       "    <tr style=\"text-align: right;\">\n",
       "      <th></th>\n",
       "      <th>track_id</th>\n",
       "      <th>track</th>\n",
       "      <th>artist</th>\n",
       "      <th>album</th>\n",
       "      <th>genre</th>\n",
       "    </tr>\n",
       "  </thead>\n",
       "  <tbody>\n",
       "    <tr>\n",
       "      <th>2730910</th>\n",
       "      <td>20200372</td>\n",
       "      <td>На скотч</td>\n",
       "      <td>NaN</td>\n",
       "      <td>NaN</td>\n",
       "      <td>NaN</td>\n",
       "    </tr>\n",
       "    <tr>\n",
       "      <th>2730923</th>\n",
       "      <td>20200380</td>\n",
       "      <td>Yo Te Quiero (Я тебя люблю)</td>\n",
       "      <td>NaN</td>\n",
       "      <td>NaN</td>\n",
       "      <td>NaN</td>\n",
       "    </tr>\n",
       "    <tr>\n",
       "      <th>2739901</th>\n",
       "      <td>20305116</td>\n",
       "      <td>Мой путь</td>\n",
       "      <td>NaN</td>\n",
       "      <td>NaN</td>\n",
       "      <td>NaN</td>\n",
       "    </tr>\n",
       "    <tr>\n",
       "      <th>2739914</th>\n",
       "      <td>20305121</td>\n",
       "      <td>Вечность</td>\n",
       "      <td>NaN</td>\n",
       "      <td>NaN</td>\n",
       "      <td>NaN</td>\n",
       "    </tr>\n",
       "    <tr>\n",
       "      <th>2837815</th>\n",
       "      <td>20756854</td>\n",
       "      <td>Виновата</td>\n",
       "      <td>NaN</td>\n",
       "      <td>NaN</td>\n",
       "      <td>NaN</td>\n",
       "    </tr>\n",
       "    <tr>\n",
       "      <th>2879025</th>\n",
       "      <td>21196099</td>\n",
       "      <td>Are You with Me</td>\n",
       "      <td>NaN</td>\n",
       "      <td>NaN</td>\n",
       "      <td>NaN</td>\n",
       "    </tr>\n",
       "    <tr>\n",
       "      <th>2879037</th>\n",
       "      <td>21196103</td>\n",
       "      <td>Historia de Amor</td>\n",
       "      <td>NaN</td>\n",
       "      <td>NaN</td>\n",
       "      <td>NaN</td>\n",
       "    </tr>\n",
       "    <tr>\n",
       "      <th>2879042</th>\n",
       "      <td>21196105</td>\n",
       "      <td>Stronger Than Ever</td>\n",
       "      <td>NaN</td>\n",
       "      <td>NaN</td>\n",
       "      <td>NaN</td>\n",
       "    </tr>\n",
       "    <tr>\n",
       "      <th>2879051</th>\n",
       "      <td>21196107</td>\n",
       "      <td>Here We Go</td>\n",
       "      <td>NaN</td>\n",
       "      <td>NaN</td>\n",
       "      <td>NaN</td>\n",
       "    </tr>\n",
       "    <tr>\n",
       "      <th>2879058</th>\n",
       "      <td>21196109</td>\n",
       "      <td>Long Story Short</td>\n",
       "      <td>NaN</td>\n",
       "      <td>NaN</td>\n",
       "      <td>NaN</td>\n",
       "    </tr>\n",
       "    <tr>\n",
       "      <th>2879060</th>\n",
       "      <td>21196111</td>\n",
       "      <td>Otherside</td>\n",
       "      <td>NaN</td>\n",
       "      <td>NaN</td>\n",
       "      <td>NaN</td>\n",
       "    </tr>\n",
       "    <tr>\n",
       "      <th>2879072</th>\n",
       "      <td>21196116</td>\n",
       "      <td>Just Friends</td>\n",
       "      <td>NaN</td>\n",
       "      <td>NaN</td>\n",
       "      <td>NaN</td>\n",
       "    </tr>\n",
       "    <tr>\n",
       "      <th>2879073</th>\n",
       "      <td>21196117</td>\n",
       "      <td>Lost</td>\n",
       "      <td>NaN</td>\n",
       "      <td>NaN</td>\n",
       "      <td>NaN</td>\n",
       "    </tr>\n",
       "    <tr>\n",
       "      <th>2879074</th>\n",
       "      <td>21196118</td>\n",
       "      <td>Promesses</td>\n",
       "      <td>NaN</td>\n",
       "      <td>NaN</td>\n",
       "      <td>NaN</td>\n",
       "    </tr>\n",
       "    <tr>\n",
       "      <th>4486171</th>\n",
       "      <td>28530632</td>\n",
       "      <td>Рухты ару</td>\n",
       "      <td>NaN</td>\n",
       "      <td>NaN</td>\n",
       "      <td>NaN</td>\n",
       "    </tr>\n",
       "    <tr>\n",
       "      <th>4879792</th>\n",
       "      <td>34828749</td>\n",
       "      <td>Алтыным</td>\n",
       "      <td>NaN</td>\n",
       "      <td>NaN</td>\n",
       "      <td>NaN</td>\n",
       "    </tr>\n",
       "    <tr>\n",
       "      <th>4996810</th>\n",
       "      <td>36598340</td>\n",
       "      <td>Ғашықтар Сыры</td>\n",
       "      <td>NaN</td>\n",
       "      <td>NaN</td>\n",
       "      <td>NaN</td>\n",
       "    </tr>\n",
       "    <tr>\n",
       "      <th>5683494</th>\n",
       "      <td>51641225</td>\n",
       "      <td>Классно</td>\n",
       "      <td>NaN</td>\n",
       "      <td>NaN</td>\n",
       "      <td>NaN</td>\n",
       "    </tr>\n",
       "  </tbody>\n",
       "</table>\n",
       "</div>"
      ],
      "text/plain": [
       "         track_id                        track artist album genre\n",
       "2730910  20200372                     На скотч    NaN   NaN   NaN\n",
       "2730923  20200380  Yo Te Quiero (Я тебя люблю)    NaN   NaN   NaN\n",
       "2739901  20305116                     Мой путь    NaN   NaN   NaN\n",
       "2739914  20305121                     Вечность    NaN   NaN   NaN\n",
       "2837815  20756854                     Виновата    NaN   NaN   NaN\n",
       "2879025  21196099              Are You with Me    NaN   NaN   NaN\n",
       "2879037  21196103             Historia de Amor    NaN   NaN   NaN\n",
       "2879042  21196105           Stronger Than Ever    NaN   NaN   NaN\n",
       "2879051  21196107                   Here We Go    NaN   NaN   NaN\n",
       "2879058  21196109             Long Story Short    NaN   NaN   NaN\n",
       "2879060  21196111                    Otherside    NaN   NaN   NaN\n",
       "2879072  21196116                 Just Friends    NaN   NaN   NaN\n",
       "2879073  21196117                         Lost    NaN   NaN   NaN\n",
       "2879074  21196118                    Promesses    NaN   NaN   NaN\n",
       "4486171  28530632                    Рухты ару    NaN   NaN   NaN\n",
       "4879792  34828749                      Алтыным    NaN   NaN   NaN\n",
       "4996810  36598340                Ғашықтар Сыры    NaN   NaN   NaN\n",
       "5683494  51641225                      Классно    NaN   NaN   NaN"
      ]
     },
     "execution_count": 25,
     "metadata": {},
     "output_type": "execute_result"
    }
   ],
   "source": [
    "items[(items.album.isna() == True)]"
   ]
  },
  {
   "cell_type": "markdown",
   "id": "7d6bfc99-3d70-4f97-83b8-bccf1ced8a60",
   "metadata": {},
   "source": [
    "### Неизвестные исполнители"
   ]
  },
  {
   "cell_type": "markdown",
   "id": "029bbee7-be17-4b2a-8c09-43618b9c9bb7",
   "metadata": {},
   "source": [
    "Теперь посмотрим на неизвестных исполнителей, где заметим, что в основном это касается треков-подкастов:"
   ]
  },
  {
   "cell_type": "code",
   "execution_count": 26,
   "id": "03dfafaf-645e-448a-bc17-1fe5d91cb598",
   "metadata": {},
   "outputs": [
    {
     "data": {
      "text/html": [
       "<div>\n",
       "<style scoped>\n",
       "    .dataframe tbody tr th:only-of-type {\n",
       "        vertical-align: middle;\n",
       "    }\n",
       "\n",
       "    .dataframe tbody tr th {\n",
       "        vertical-align: top;\n",
       "    }\n",
       "\n",
       "    .dataframe thead th {\n",
       "        text-align: right;\n",
       "    }\n",
       "</style>\n",
       "<table border=\"1\" class=\"dataframe\">\n",
       "  <thead>\n",
       "    <tr style=\"text-align: right;\">\n",
       "      <th></th>\n",
       "      <th>track_id</th>\n",
       "      <th>track</th>\n",
       "      <th>artist</th>\n",
       "      <th>album</th>\n",
       "      <th>genre</th>\n",
       "    </tr>\n",
       "  </thead>\n",
       "  <tbody>\n",
       "    <tr>\n",
       "      <th>6692475</th>\n",
       "      <td>91006543</td>\n",
       "      <td>Женский тайм-менеджмент • Анна Всехсвятская, «...</td>\n",
       "      <td>NaN</td>\n",
       "      <td>Потом доделаю</td>\n",
       "      <td>podcasts</td>\n",
       "    </tr>\n",
       "    <tr>\n",
       "      <th>6251773</th>\n",
       "      <td>67572186</td>\n",
       "      <td>Комиксы для убогих // Отмена школьных экзамено...</td>\n",
       "      <td>NaN</td>\n",
       "      <td>Самые честные новости</td>\n",
       "      <td>podcasts</td>\n",
       "    </tr>\n",
       "    <tr>\n",
       "      <th>6562778</th>\n",
       "      <td>80807054</td>\n",
       "      <td>Образование будущего: каким оно будет</td>\n",
       "      <td>NaN</td>\n",
       "      <td>Smart Reading</td>\n",
       "      <td>podcasts</td>\n",
       "    </tr>\n",
       "    <tr>\n",
       "      <th>6043792</th>\n",
       "      <td>61064626</td>\n",
       "      <td>Владимир Седельников. Полярные летчики. Летать...</td>\n",
       "      <td>NaN</td>\n",
       "      <td>НЕБОНутые</td>\n",
       "      <td>podcasts</td>\n",
       "    </tr>\n",
       "    <tr>\n",
       "      <th>5685644</th>\n",
       "      <td>51684465</td>\n",
       "      <td>Что не так с сексом на постсоветском пространс...</td>\n",
       "      <td>NaN</td>\n",
       "      <td>Это разве секс? 18+</td>\n",
       "      <td>podcasts</td>\n",
       "    </tr>\n",
       "    <tr>\n",
       "      <th>5611891</th>\n",
       "      <td>50125505</td>\n",
       "      <td>150: Все, что нужно знать о Falcon Heavy</td>\n",
       "      <td>NaN</td>\n",
       "      <td>The Big Beard Theory</td>\n",
       "      <td>podcasts</td>\n",
       "    </tr>\n",
       "    <tr>\n",
       "      <th>6525546</th>\n",
       "      <td>78880824</td>\n",
       "      <td>Рассказы для детей в исполнении автора. (читае...</td>\n",
       "      <td>NaN</td>\n",
       "      <td>Много букв</td>\n",
       "      <td>podcasts</td>\n",
       "    </tr>\n",
       "    <tr>\n",
       "      <th>6307438</th>\n",
       "      <td>69466617</td>\n",
       "      <td>Бритни Спирс в плену у собственного отца</td>\n",
       "      <td>NaN</td>\n",
       "      <td>Сплетни</td>\n",
       "      <td>podcasts</td>\n",
       "    </tr>\n",
       "    <tr>\n",
       "      <th>5785155</th>\n",
       "      <td>53689134</td>\n",
       "      <td>«Хочу, но не могу»: как использовать психологи...</td>\n",
       "      <td>NaN</td>\n",
       "      <td>Игры разума</td>\n",
       "      <td>podcasts</td>\n",
       "    </tr>\n",
       "    <tr>\n",
       "      <th>6063192</th>\n",
       "      <td>61645665</td>\n",
       "      <td>0942 Daily Easy English Lesson PODCAST—to plug...</td>\n",
       "      <td>NaN</td>\n",
       "      <td>Daily Easy English Expression Podcast</td>\n",
       "      <td>podcasts</td>\n",
       "    </tr>\n",
       "  </tbody>\n",
       "</table>\n",
       "</div>"
      ],
      "text/plain": [
       "         track_id                                              track artist  \\\n",
       "6692475  91006543  Женский тайм-менеджмент • Анна Всехсвятская, «...    NaN   \n",
       "6251773  67572186  Комиксы для убогих // Отмена школьных экзамено...    NaN   \n",
       "6562778  80807054              Образование будущего: каким оно будет    NaN   \n",
       "6043792  61064626  Владимир Седельников. Полярные летчики. Летать...    NaN   \n",
       "5685644  51684465  Что не так с сексом на постсоветском пространс...    NaN   \n",
       "5611891  50125505           150: Все, что нужно знать о Falcon Heavy    NaN   \n",
       "6525546  78880824  Рассказы для детей в исполнении автора. (читае...    NaN   \n",
       "6307438  69466617           Бритни Спирс в плену у собственного отца    NaN   \n",
       "5785155  53689134  «Хочу, но не могу»: как использовать психологи...    NaN   \n",
       "6063192  61645665  0942 Daily Easy English Lesson PODCAST—to plug...    NaN   \n",
       "\n",
       "                                         album     genre  \n",
       "6692475                          Потом доделаю  podcasts  \n",
       "6251773                  Самые честные новости  podcasts  \n",
       "6562778                          Smart Reading  podcasts  \n",
       "6043792                              НЕБОНутые  podcasts  \n",
       "5685644                    Это разве секс? 18+  podcasts  \n",
       "5611891                   The Big Beard Theory  podcasts  \n",
       "6525546                             Много букв  podcasts  \n",
       "6307438                                Сплетни  podcasts  \n",
       "5785155                            Игры разума  podcasts  \n",
       "6063192  Daily Easy English Expression Podcast  podcasts  "
      ]
     },
     "execution_count": 26,
     "metadata": {},
     "output_type": "execute_result"
    }
   ],
   "source": [
    "unknown_artists = items[(items.artist.isna() == True)]\n",
    "unknown_artists.sample(10, random_state=RANDOM_STATE)"
   ]
  },
  {
   "cell_type": "code",
   "execution_count": 27,
   "id": "e858bf75-c1a0-450f-bfff-54505b82ed5a",
   "metadata": {},
   "outputs": [
    {
     "data": {
      "text/plain": [
       "genre\n",
       "podcasts            14954\n",
       "fairytales            273\n",
       "fiction                40\n",
       "poemsforchildren       29\n",
       "selfdevelopment        13\n",
       "electronics            13\n",
       "rock                    3\n",
       "country                 2\n",
       "community               2\n",
       "classical               1\n",
       "pop                     1\n",
       "forchildren             1\n",
       "local-indie             1\n",
       "asmr                    1\n",
       "work                    1\n",
       "hls                     1\n",
       "Name: count, dtype: int64"
      ]
     },
     "execution_count": 27,
     "metadata": {},
     "output_type": "execute_result"
    }
   ],
   "source": [
    "unknown_artists.genre.value_counts()"
   ]
  },
  {
   "cell_type": "markdown",
   "id": "8ec70f91-c8b8-4987-8571-37ab8dcd4165",
   "metadata": {},
   "source": [
    "### Неизвестные жанры"
   ]
  },
  {
   "cell_type": "markdown",
   "id": "f856007b-9cd2-42b1-b4cc-bd4e088a9ab6",
   "metadata": {},
   "source": [
    "Взглянем теперь на неизвестные жанры:"
   ]
  },
  {
   "cell_type": "code",
   "execution_count": 28,
   "id": "00a32643-ac2c-4a92-b5ac-57f5fecf0597",
   "metadata": {},
   "outputs": [
    {
     "data": {
      "text/html": [
       "<div>\n",
       "<style scoped>\n",
       "    .dataframe tbody tr th:only-of-type {\n",
       "        vertical-align: middle;\n",
       "    }\n",
       "\n",
       "    .dataframe tbody tr th {\n",
       "        vertical-align: top;\n",
       "    }\n",
       "\n",
       "    .dataframe thead th {\n",
       "        text-align: right;\n",
       "    }\n",
       "</style>\n",
       "<table border=\"1\" class=\"dataframe\">\n",
       "  <thead>\n",
       "    <tr style=\"text-align: right;\">\n",
       "      <th></th>\n",
       "      <th>track_id</th>\n",
       "      <th>track</th>\n",
       "      <th>artist</th>\n",
       "      <th>album</th>\n",
       "      <th>genre</th>\n",
       "    </tr>\n",
       "  </thead>\n",
       "  <tbody>\n",
       "    <tr>\n",
       "      <th>1172203</th>\n",
       "      <td>1956422</td>\n",
       "      <td>All I Want for Christmas Is You</td>\n",
       "      <td>My Chemical Romance</td>\n",
       "      <td>Gift Wrapped: Regifted</td>\n",
       "      <td>NaN</td>\n",
       "    </tr>\n",
       "    <tr>\n",
       "      <th>6662702</th>\n",
       "      <td>88690682</td>\n",
       "      <td>Птеранодон</td>\n",
       "      <td>Pinkfong</td>\n",
       "      <td>Песни Про Динозавров</td>\n",
       "      <td>NaN</td>\n",
       "    </tr>\n",
       "    <tr>\n",
       "      <th>1409172</th>\n",
       "      <td>3861566</td>\n",
       "      <td>She's So Gone</td>\n",
       "      <td>Naomi Scott</td>\n",
       "      <td>Disney Singalong - Lemonade Mouth</td>\n",
       "      <td>NaN</td>\n",
       "    </tr>\n",
       "    <tr>\n",
       "      <th>2669653</th>\n",
       "      <td>19677621</td>\n",
       "      <td>Cannon in D</td>\n",
       "      <td>Classical Lullabies</td>\n",
       "      <td>Classical Lullabies</td>\n",
       "      <td>NaN</td>\n",
       "    </tr>\n",
       "    <tr>\n",
       "      <th>1884705</th>\n",
       "      <td>8656811</td>\n",
       "      <td>It's The Most Wonderful Time Of The Year</td>\n",
       "      <td>Rick Braun</td>\n",
       "      <td>Swingin' In The Snow</td>\n",
       "      <td>NaN</td>\n",
       "    </tr>\n",
       "    <tr>\n",
       "      <th>5462314</th>\n",
       "      <td>44904224</td>\n",
       "      <td>The Fall</td>\n",
       "      <td>My Little Pony</td>\n",
       "      <td>My Little Pony: The Movie</td>\n",
       "      <td>NaN</td>\n",
       "    </tr>\n",
       "    <tr>\n",
       "      <th>1430139</th>\n",
       "      <td>4079626</td>\n",
       "      <td>Bloody Mary</td>\n",
       "      <td>Twinkle Twinkle Little Rock Star</td>\n",
       "      <td>Lullaby Versions of Lady GaGa V.2</td>\n",
       "      <td>NaN</td>\n",
       "    </tr>\n",
       "    <tr>\n",
       "      <th>4256412</th>\n",
       "      <td>25164057</td>\n",
       "      <td>ACADECA</td>\n",
       "      <td>Twilight Sparkle</td>\n",
       "      <td>Friendship Games</td>\n",
       "      <td>NaN</td>\n",
       "    </tr>\n",
       "    <tr>\n",
       "      <th>3083083</th>\n",
       "      <td>21955336</td>\n",
       "      <td>Dance with the Devil</td>\n",
       "      <td>Twinkle Twinkle Little Rock Star</td>\n",
       "      <td>Lullaby Versions of Breaking Benjamin</td>\n",
       "      <td>NaN</td>\n",
       "    </tr>\n",
       "    <tr>\n",
       "      <th>4754746</th>\n",
       "      <td>33189013</td>\n",
       "      <td>That House</td>\n",
       "      <td>Dance With the Dead</td>\n",
       "      <td>B-Sides: Vol. 1</td>\n",
       "      <td>NaN</td>\n",
       "    </tr>\n",
       "  </tbody>\n",
       "</table>\n",
       "</div>"
      ],
      "text/plain": [
       "         track_id                                     track  \\\n",
       "1172203   1956422           All I Want for Christmas Is You   \n",
       "6662702  88690682                                Птеранодон   \n",
       "1409172   3861566                             She's So Gone   \n",
       "2669653  19677621                               Cannon in D   \n",
       "1884705   8656811  It's The Most Wonderful Time Of The Year   \n",
       "5462314  44904224                                  The Fall   \n",
       "1430139   4079626                               Bloody Mary   \n",
       "4256412  25164057                                   ACADECA   \n",
       "3083083  21955336                      Dance with the Devil   \n",
       "4754746  33189013                                That House   \n",
       "\n",
       "                                   artist  \\\n",
       "1172203               My Chemical Romance   \n",
       "6662702                          Pinkfong   \n",
       "1409172                       Naomi Scott   \n",
       "2669653               Classical Lullabies   \n",
       "1884705                        Rick Braun   \n",
       "5462314                    My Little Pony   \n",
       "1430139  Twinkle Twinkle Little Rock Star   \n",
       "4256412                  Twilight Sparkle   \n",
       "3083083  Twinkle Twinkle Little Rock Star   \n",
       "4754746               Dance With the Dead   \n",
       "\n",
       "                                         album genre  \n",
       "1172203                 Gift Wrapped: Regifted   NaN  \n",
       "6662702                   Песни Про Динозавров   NaN  \n",
       "1409172      Disney Singalong - Lemonade Mouth   NaN  \n",
       "2669653                    Classical Lullabies   NaN  \n",
       "1884705                   Swingin' In The Snow   NaN  \n",
       "5462314              My Little Pony: The Movie   NaN  \n",
       "1430139      Lullaby Versions of Lady GaGa V.2   NaN  \n",
       "4256412                       Friendship Games   NaN  \n",
       "3083083  Lullaby Versions of Breaking Benjamin   NaN  \n",
       "4754746                        B-Sides: Vol. 1   NaN  "
      ]
     },
     "execution_count": 28,
     "metadata": {},
     "output_type": "execute_result"
    }
   ],
   "source": [
    "items[(items.genre.isna() == True)].sample(10, random_state=RANDOM_STATE)"
   ]
  },
  {
   "cell_type": "markdown",
   "id": "53026f2b-02ad-4f87-bcfa-927ac151521d",
   "metadata": {},
   "source": [
    "### Завершение анализа"
   ]
  },
  {
   "cell_type": "markdown",
   "id": "cccda785-f49b-4773-9605-75c2f6d93128",
   "metadata": {},
   "source": [
    "Можем визуально представить информацию о жанрах:"
   ]
  },
  {
   "cell_type": "code",
   "execution_count": 29,
   "id": "e011ef89-37b4-4dd4-aa58-b8fb58391d27",
   "metadata": {},
   "outputs": [
    {
     "data": {
      "image/png": "[encoded data removed]",
      "text/plain": [
       "<Figure size 1500x1000 with 1 Axes>"
      ]
     },
     "metadata": {},
     "output_type": "display_data"
    }
   ],
   "source": [
    "plt.figure(figsize=(15, 10))\n",
    "items.genre.value_counts().sort_values().plot(kind=\"barh\")\n",
    "plt.ylabel(\"Genre of a track\", fontsize=14)\n",
    "plt.xlabel(\"Number of tracks\", fontsize=14)\n",
    "plt.title(\"Distribution of track genres of Yandex Music\", fontsize=16)\n",
    "plt.tight_layout()"
   ]
  },
  {
   "cell_type": "markdown",
   "id": "a2dd1729-92c7-428a-a7a8-03dff8247224",
   "metadata": {},
   "source": [
    "Видим, что наибольшие доли музыкальных треков в данных приходятся на треки жанров `pop`, `electronic` и `rusrap`. Посмотрим на общую информацию о данных о треках, при этом фокусируясь на объеме памяти, который занимает датафрейм:"
   ]
  },
  {
   "cell_type": "code",
   "execution_count": 30,
   "id": "906a9b41-007e-4f35-92ac-5ccade5ca7e8",
   "metadata": {},
   "outputs": [
    {
     "name": "stdout",
     "output_type": "stream",
     "text": [
      "<class 'pandas.core.frame.DataFrame'>\n",
      "Index: 1000000 entries, 0 to 6765309\n",
      "Data columns (total 5 columns):\n",
      " #   Column    Non-Null Count    Dtype \n",
      "---  ------    --------------    ----- \n",
      " 0   track_id  1000000 non-null  int64 \n",
      " 1   track     1000000 non-null  object\n",
      " 2   artist    984631 non-null   object\n",
      " 3   album     999982 non-null   object\n",
      " 4   genre     996306 non-null   object\n",
      "dtypes: int64(1), object(4)\n",
      "memory usage: 311.1 MB\n"
     ]
    }
   ],
   "source": [
    "items.info(memory_usage=\"deep\")"
   ]
  },
  {
   "cell_type": "code",
   "execution_count": 31,
   "id": "f8896b4a-0cc5-437d-b0b2-02061ac34819",
   "metadata": {},
   "outputs": [
    {
     "data": {
      "text/plain": [
       "(26, 101521819)"
      ]
     },
     "execution_count": 31,
     "metadata": {},
     "output_type": "execute_result"
    }
   ],
   "source": [
    "items.track_id.min(), items.track_id.max()"
   ]
  },
  {
   "cell_type": "markdown",
   "id": "fef3c7a4-9083-46c5-9eec-11e736a260a5",
   "metadata": {},
   "source": [
    "Мы можем слегка сократить размер данного датафрейма, сделав конвертацию типов данных. Известно, что максимальное значение, которое может содержать тип `int32` составляет порядка двух миллиардов, в регион которого укладывается максимальное значение идентификатора трека, так что можем поменять тип колонки `track_id` с `int64` на `int32`:"
   ]
  },
  {
   "cell_type": "code",
   "execution_count": 32,
   "id": "b4fb6c50-a977-498b-9044-7e971f793279",
   "metadata": {},
   "outputs": [],
   "source": [
    "items[\"track_id\"] = items[\"track_id\"].astype(\"int32\")"
   ]
  },
  {
   "cell_type": "code",
   "execution_count": 33,
   "id": "d873f52a-8f8f-4b0f-82da-778966e7a17c",
   "metadata": {},
   "outputs": [
    {
     "name": "stdout",
     "output_type": "stream",
     "text": [
      "<class 'pandas.core.frame.DataFrame'>\n",
      "Index: 1000000 entries, 0 to 6765309\n",
      "Data columns (total 5 columns):\n",
      " #   Column    Non-Null Count    Dtype \n",
      "---  ------    --------------    ----- \n",
      " 0   track_id  1000000 non-null  int32 \n",
      " 1   track     1000000 non-null  object\n",
      " 2   artist    984631 non-null   object\n",
      " 3   album     999982 non-null   object\n",
      " 4   genre     996306 non-null   object\n",
      "dtypes: int32(1), object(4)\n",
      "memory usage: 307.3 MB\n"
     ]
    }
   ],
   "source": [
    "items.info(memory_usage=\"deep\")"
   ]
  },
  {
   "cell_type": "code",
   "execution_count": 34,
   "id": "9145e68b-e17e-4f76-b852-7ac40ef7c5cd",
   "metadata": {},
   "outputs": [
    {
     "data": {
      "text/html": [
       "<div>\n",
       "<style scoped>\n",
       "    .dataframe tbody tr th:only-of-type {\n",
       "        vertical-align: middle;\n",
       "    }\n",
       "\n",
       "    .dataframe tbody tr th {\n",
       "        vertical-align: top;\n",
       "    }\n",
       "\n",
       "    .dataframe thead th {\n",
       "        text-align: right;\n",
       "    }\n",
       "</style>\n",
       "<table border=\"1\" class=\"dataframe\">\n",
       "  <thead>\n",
       "    <tr style=\"text-align: right;\">\n",
       "      <th></th>\n",
       "      <th>track_id</th>\n",
       "      <th>track</th>\n",
       "      <th>artist</th>\n",
       "      <th>album</th>\n",
       "      <th>genre</th>\n",
       "    </tr>\n",
       "  </thead>\n",
       "  <tbody>\n",
       "    <tr>\n",
       "      <th>0</th>\n",
       "      <td>26</td>\n",
       "      <td>Complimentary Me</td>\n",
       "      <td>Elizabeth &amp; the Catapult</td>\n",
       "      <td>Taller Children</td>\n",
       "      <td>pop</td>\n",
       "    </tr>\n",
       "    <tr>\n",
       "      <th>4</th>\n",
       "      <td>38</td>\n",
       "      <td>Momma's Boy</td>\n",
       "      <td>Elizabeth &amp; the Catapult</td>\n",
       "      <td>Taller Children</td>\n",
       "      <td>pop</td>\n",
       "    </tr>\n",
       "    <tr>\n",
       "      <th>8</th>\n",
       "      <td>135</td>\n",
       "      <td>Atticus</td>\n",
       "      <td>Noisettes</td>\n",
       "      <td>Wild Young Hearts</td>\n",
       "      <td>pop</td>\n",
       "    </tr>\n",
       "    <tr>\n",
       "      <th>11</th>\n",
       "      <td>136</td>\n",
       "      <td>24 Hours</td>\n",
       "      <td>Noisettes</td>\n",
       "      <td>Wild Young Hearts</td>\n",
       "      <td>pop</td>\n",
       "    </tr>\n",
       "    <tr>\n",
       "      <th>14</th>\n",
       "      <td>138</td>\n",
       "      <td>Don't Upset The Rhythm (Go Baby Go)</td>\n",
       "      <td>Noisettes</td>\n",
       "      <td>Wild Young Hearts</td>\n",
       "      <td>pop</td>\n",
       "    </tr>\n",
       "  </tbody>\n",
       "</table>\n",
       "</div>"
      ],
      "text/plain": [
       "    track_id                                track                    artist  \\\n",
       "0         26                     Complimentary Me  Elizabeth & the Catapult   \n",
       "4         38                          Momma's Boy  Elizabeth & the Catapult   \n",
       "8        135                              Atticus                 Noisettes   \n",
       "11       136                             24 Hours                 Noisettes   \n",
       "14       138  Don't Upset The Rhythm (Go Baby Go)                 Noisettes   \n",
       "\n",
       "                album genre  \n",
       "0     Taller Children   pop  \n",
       "4     Taller Children   pop  \n",
       "8   Wild Young Hearts   pop  \n",
       "11  Wild Young Hearts   pop  \n",
       "14  Wild Young Hearts   pop  "
      ]
     },
     "execution_count": 34,
     "metadata": {},
     "output_type": "execute_result"
    }
   ],
   "source": [
    "items.head()"
   ]
  },
  {
   "cell_type": "markdown",
   "id": "a7c39757-73ca-4c7e-95a2-092f3c38cf2c",
   "metadata": {},
   "source": [
    "## Events"
   ]
  },
  {
   "cell_type": "markdown",
   "id": "f84a9cf0-af75-40f5-9238-e8b3f659904e",
   "metadata": {},
   "source": [
    "Теперь мы может перейти к рассмотрению данных о взаимодействиях пользователей с музыкальными треками. Рассмотрим данные:"
   ]
  },
  {
   "cell_type": "code",
   "execution_count": 35,
   "id": "303eac1a-4499-4b73-ae33-c6bd66dddabe",
   "metadata": {},
   "outputs": [
    {
     "name": "stdout",
     "output_type": "stream",
     "text": [
      "<class 'pandas.core.frame.DataFrame'>\n",
      "Index: 222629898 entries, 0 to 291\n",
      "Data columns (total 4 columns):\n",
      " #   Column      Dtype         \n",
      "---  ------      -----         \n",
      " 0   user_id     int32         \n",
      " 1   track_id    int32         \n",
      " 2   track_seq   int16         \n",
      " 3   started_at  datetime64[ns]\n",
      "dtypes: datetime64[ns](1), int16(1), int32(2)\n",
      "memory usage: 5.4 GB\n"
     ]
    }
   ],
   "source": [
    "events.info()"
   ]
  },
  {
   "cell_type": "markdown",
   "id": "72aa8222-d821-419b-990b-ad27b8906d58",
   "metadata": {},
   "source": [
    "В данных присутствует около 222 млн различных действий, которые делали пользователи с треками (в данном случае это прослушивание самого трека). "
   ]
  },
  {
   "cell_type": "code",
   "execution_count": 36,
   "id": "1532999a-0582-4408-9845-2e5bac509b1b",
   "metadata": {},
   "outputs": [
    {
     "data": {
      "text/html": [
       "<div>\n",
       "<style scoped>\n",
       "    .dataframe tbody tr th:only-of-type {\n",
       "        vertical-align: middle;\n",
       "    }\n",
       "\n",
       "    .dataframe tbody tr th {\n",
       "        vertical-align: top;\n",
       "    }\n",
       "\n",
       "    .dataframe thead th {\n",
       "        text-align: right;\n",
       "    }\n",
       "</style>\n",
       "<table border=\"1\" class=\"dataframe\">\n",
       "  <thead>\n",
       "    <tr style=\"text-align: right;\">\n",
       "      <th></th>\n",
       "      <th>user_id</th>\n",
       "      <th>track_id</th>\n",
       "      <th>track_seq</th>\n",
       "      <th>started_at</th>\n",
       "    </tr>\n",
       "  </thead>\n",
       "  <tbody>\n",
       "    <tr>\n",
       "      <th>0</th>\n",
       "      <td>0</td>\n",
       "      <td>99262</td>\n",
       "      <td>1</td>\n",
       "      <td>2022-07-17</td>\n",
       "    </tr>\n",
       "    <tr>\n",
       "      <th>1</th>\n",
       "      <td>0</td>\n",
       "      <td>589498</td>\n",
       "      <td>2</td>\n",
       "      <td>2022-07-19</td>\n",
       "    </tr>\n",
       "    <tr>\n",
       "      <th>2</th>\n",
       "      <td>0</td>\n",
       "      <td>590262</td>\n",
       "      <td>3</td>\n",
       "      <td>2022-07-21</td>\n",
       "    </tr>\n",
       "    <tr>\n",
       "      <th>3</th>\n",
       "      <td>0</td>\n",
       "      <td>590303</td>\n",
       "      <td>4</td>\n",
       "      <td>2022-07-22</td>\n",
       "    </tr>\n",
       "    <tr>\n",
       "      <th>4</th>\n",
       "      <td>0</td>\n",
       "      <td>590692</td>\n",
       "      <td>5</td>\n",
       "      <td>2022-07-22</td>\n",
       "    </tr>\n",
       "  </tbody>\n",
       "</table>\n",
       "</div>"
      ],
      "text/plain": [
       "   user_id  track_id  track_seq started_at\n",
       "0        0     99262          1 2022-07-17\n",
       "1        0    589498          2 2022-07-19\n",
       "2        0    590262          3 2022-07-21\n",
       "3        0    590303          4 2022-07-22\n",
       "4        0    590692          5 2022-07-22"
      ]
     },
     "execution_count": 36,
     "metadata": {},
     "output_type": "execute_result"
    }
   ],
   "source": [
    "events.head()"
   ]
  },
  {
   "cell_type": "code",
   "execution_count": 37,
   "id": "62560c9e-94e0-4bfc-846c-c2cb6cb23e2e",
   "metadata": {},
   "outputs": [
    {
     "name": "stdout",
     "output_type": "stream",
     "text": [
      "Number of unique users: 1,373,221\n",
      "Number of unique tracks: 1,000,000\n"
     ]
    }
   ],
   "source": [
    "print(\"Number of unique users: {:,}\".format(events.user_id.nunique()))\n",
    "print(\"Number of unique tracks: {:,}\".format(events.track_id.nunique()))"
   ]
  },
  {
   "cell_type": "markdown",
   "id": "a20f8605-6fe2-496d-adfb-4b209fbdd564",
   "metadata": {},
   "source": [
    "Во взаимодействиях присутствует больше миллиона уникальных пользователей и ровно миллион уникальных треков, что означает, что все треки из `items` были хотя бы раз воспроизведены пользователями. Удалим ненужную колонку `track_seq`:"
   ]
  },
  {
   "cell_type": "code",
   "execution_count": 38,
   "id": "af8514c8-1e48-4556-a1c7-da127391373a",
   "metadata": {},
   "outputs": [
    {
     "data": {
      "text/html": [
       "<div>\n",
       "<style scoped>\n",
       "    .dataframe tbody tr th:only-of-type {\n",
       "        vertical-align: middle;\n",
       "    }\n",
       "\n",
       "    .dataframe tbody tr th {\n",
       "        vertical-align: top;\n",
       "    }\n",
       "\n",
       "    .dataframe thead th {\n",
       "        text-align: right;\n",
       "    }\n",
       "</style>\n",
       "<table border=\"1\" class=\"dataframe\">\n",
       "  <thead>\n",
       "    <tr style=\"text-align: right;\">\n",
       "      <th></th>\n",
       "      <th>user_id</th>\n",
       "      <th>track_id</th>\n",
       "      <th>started_at</th>\n",
       "    </tr>\n",
       "  </thead>\n",
       "  <tbody>\n",
       "    <tr>\n",
       "      <th>0</th>\n",
       "      <td>0</td>\n",
       "      <td>99262</td>\n",
       "      <td>2022-07-17</td>\n",
       "    </tr>\n",
       "    <tr>\n",
       "      <th>1</th>\n",
       "      <td>0</td>\n",
       "      <td>589498</td>\n",
       "      <td>2022-07-19</td>\n",
       "    </tr>\n",
       "    <tr>\n",
       "      <th>2</th>\n",
       "      <td>0</td>\n",
       "      <td>590262</td>\n",
       "      <td>2022-07-21</td>\n",
       "    </tr>\n",
       "    <tr>\n",
       "      <th>3</th>\n",
       "      <td>0</td>\n",
       "      <td>590303</td>\n",
       "      <td>2022-07-22</td>\n",
       "    </tr>\n",
       "    <tr>\n",
       "      <th>4</th>\n",
       "      <td>0</td>\n",
       "      <td>590692</td>\n",
       "      <td>2022-07-22</td>\n",
       "    </tr>\n",
       "  </tbody>\n",
       "</table>\n",
       "</div>"
      ],
      "text/plain": [
       "   user_id  track_id started_at\n",
       "0        0     99262 2022-07-17\n",
       "1        0    589498 2022-07-19\n",
       "2        0    590262 2022-07-21\n",
       "3        0    590303 2022-07-22\n",
       "4        0    590692 2022-07-22"
      ]
     },
     "execution_count": 38,
     "metadata": {},
     "output_type": "execute_result"
    }
   ],
   "source": [
    "events = events.drop(\"track_seq\", axis=1)\n",
    "events.head()"
   ]
  },
  {
   "cell_type": "code",
   "execution_count": 39,
   "id": "80b332d1-c92a-46e1-b7a1-7bb5cbd7f3d2",
   "metadata": {},
   "outputs": [
    {
     "name": "stdout",
     "output_type": "stream",
     "text": [
      "<class 'pandas.core.frame.DataFrame'>\n",
      "Index: 222629898 entries, 0 to 291\n",
      "Data columns (total 3 columns):\n",
      " #   Column      Dtype         \n",
      "---  ------      -----         \n",
      " 0   user_id     int32         \n",
      " 1   track_id    int32         \n",
      " 2   started_at  datetime64[ns]\n",
      "dtypes: datetime64[ns](1), int32(2)\n",
      "memory usage: 5.0 GB\n"
     ]
    }
   ],
   "source": [
    "events.info()"
   ]
  },
  {
   "cell_type": "markdown",
   "id": "318b573a-9e2d-4808-95db-60cfb8bbdb73",
   "metadata": {
    "editable": true,
    "slideshow": {
     "slide_type": ""
    },
    "tags": []
   },
   "source": [
    "# Выводы"
   ]
  },
  {
   "cell_type": "markdown",
   "id": "caa96e12-36a8-4401-8f11-98627a49ae9d",
   "metadata": {},
   "source": [
    "Приведём выводы по первому знакомству с данными:\n",
    "- есть ли с данными явные проблемы,\n",
    "- какие корректирующие действия (в целом) были предприняты."
   ]
  },
  {
   "cell_type": "markdown",
   "id": "4febae49-dadd-4ce9-9cf5-3c582b6142b9",
   "metadata": {},
   "source": [
    "На данном этапе мы смогли загрузить данные о музыкальных треках и взаимодействиях пользователей с ними и немного начать разбираться с тем, что они собой представляют. \n",
    "\n",
    "Во-первых, мы определили, что формат данных, который у нас был в данных о музыкальных треках, не является удобным для продолжения дальнейшей работы, что было поправлено путем дробления списков (указанных как значения в данных) по идентификатору трека. \n",
    "\n",
    "Во-вторых, еще одна проблема относилась не столько к формату данных, а к тому, что работа с датафреймом, в который включено все подряд, будет проблематична. Это касалось данных каталога, в который были загружены все данные о названиях треков, их исполнителях, жанрах и альбомах. Мы раздробили данный датафрейм на несколько суб-датафреймов, каждый из которых содержит информацию отдельно о названиях треков, исполнителях, альбомах и жанрах. Данная процедура оказалась полезной на следующем этапе слияния датафреймов, что нам дало один датафрейм `items`, где содержится вся информация о музыкальных треков в удобном формате.\n",
    "\n",
    "В-третьих, в результате дробления списков у нас появилось большое количество дубликатов конкретного трека. Для того чтобы иметь возможность уникально идентифицировать каждый трек, был выбран только первый дубликат трека."
   ]
  },
  {
   "cell_type": "markdown",
   "id": "7bc3296b-eba6-4333-a78d-b9304aa87e3d",
   "metadata": {},
   "source": [
    "# === ЭТАП 2 ==="
   ]
  },
  {
   "cell_type": "markdown",
   "id": "68e73960-fd38-4e15-8db0-9a25c35dfd25",
   "metadata": {},
   "source": [
    "# EDA"
   ]
  },
  {
   "cell_type": "markdown",
   "id": "5c288db9-b77e-46b5-9f3d-b85f1a425f20",
   "metadata": {},
   "source": [
    "Как мы видели ранее, в данных о взаимодействиях присутствует более 220 млн записей, что может оказаться проблемой с точки зрения памяти: проведение операций с таким датафреймом (не говоря уже о мерже других таблиц с ним) может привести к *kernel crash* ввиду превышения объема доступной оперативной памяти.\n",
    "\n",
    "К счастью, мы можем получить выводы из исследовательского анализа и на основе выборки. В данном случае (в целях экономии *RAM*) возьмем случайные 25% наблюдений из `events` (при этом для возможности воспроизведения результатов откалибруем генератор случайных чисел с указанным в начале тетрадки `RANDOM_STATE`):"
   ]
  },
  {
   "cell_type": "code",
   "execution_count": 40,
   "id": "448380f2-9625-454b-a4da-7cab20cac1ac",
   "metadata": {},
   "outputs": [
    {
     "name": "stdout",
     "output_type": "stream",
     "text": [
      "CPU times: user 11 s, sys: 666 ms, total: 11.7 s\n",
      "Wall time: 11.6 s\n"
     ]
    },
    {
     "data": {
      "text/html": [
       "<div>\n",
       "<style scoped>\n",
       "    .dataframe tbody tr th:only-of-type {\n",
       "        vertical-align: middle;\n",
       "    }\n",
       "\n",
       "    .dataframe tbody tr th {\n",
       "        vertical-align: top;\n",
       "    }\n",
       "\n",
       "    .dataframe thead th {\n",
       "        text-align: right;\n",
       "    }\n",
       "</style>\n",
       "<table border=\"1\" class=\"dataframe\">\n",
       "  <thead>\n",
       "    <tr style=\"text-align: right;\">\n",
       "      <th></th>\n",
       "      <th>user_id</th>\n",
       "      <th>track_id</th>\n",
       "      <th>started_at</th>\n",
       "    </tr>\n",
       "  </thead>\n",
       "  <tbody>\n",
       "    <tr>\n",
       "      <th>130</th>\n",
       "      <td>844258</td>\n",
       "      <td>3581309</td>\n",
       "      <td>2022-06-05</td>\n",
       "    </tr>\n",
       "    <tr>\n",
       "      <th>433</th>\n",
       "      <td>1091434</td>\n",
       "      <td>14937363</td>\n",
       "      <td>2022-06-29</td>\n",
       "    </tr>\n",
       "    <tr>\n",
       "      <th>526</th>\n",
       "      <td>73981</td>\n",
       "      <td>48591660</td>\n",
       "      <td>2022-09-26</td>\n",
       "    </tr>\n",
       "    <tr>\n",
       "      <th>9</th>\n",
       "      <td>78605</td>\n",
       "      <td>732405</td>\n",
       "      <td>2022-09-14</td>\n",
       "    </tr>\n",
       "    <tr>\n",
       "      <th>1202</th>\n",
       "      <td>1273064</td>\n",
       "      <td>40339506</td>\n",
       "      <td>2022-08-24</td>\n",
       "    </tr>\n",
       "  </tbody>\n",
       "</table>\n",
       "</div>"
      ],
      "text/plain": [
       "      user_id  track_id started_at\n",
       "130    844258   3581309 2022-06-05\n",
       "433   1091434  14937363 2022-06-29\n",
       "526     73981  48591660 2022-09-26\n",
       "9       78605    732405 2022-09-14\n",
       "1202  1273064  40339506 2022-08-24"
      ]
     },
     "execution_count": 40,
     "metadata": {},
     "output_type": "execute_result"
    }
   ],
   "source": [
    "%%time\n",
    "events_sample = events.sample(frac=0.25, random_state=RANDOM_STATE)\n",
    "events_sample.head()"
   ]
  },
  {
   "cell_type": "code",
   "execution_count": 41,
   "id": "a3dec5e8-b540-4ad9-a137-550d637b0ee0",
   "metadata": {},
   "outputs": [
    {
     "name": "stdout",
     "output_type": "stream",
     "text": [
      "Number of unique users: 1,365,137\n",
      "Number of unique tracks: 950,986\n",
      "Number of events: 55,657,474\n"
     ]
    }
   ],
   "source": [
    "print(\"Number of unique users: {:,}\".format(events_sample.user_id.nunique()))\n",
    "print(\"Number of unique tracks: {:,}\".format(events_sample.track_id.nunique()))\n",
    "print(\"Number of events: {:,}\".format(events_sample.shape[0]))"
   ]
  },
  {
   "cell_type": "markdown",
   "id": "a754a2b4-c1b1-4277-9d8a-d67d45f713cc",
   "metadata": {},
   "source": [
    "Мы видим, что даже взяв 25% данных мы сохранили большую часть информации о уникальных пользователях, однако при этом уменьшив размер данных с 220 до 55 млн. Число треков также приуменьшилось, но не слишком сильно.\n",
    "\n",
    "Примержим к выборке информацию о названии трека и его жанре, что нам в дальнейшем понадобится:"
   ]
  },
  {
   "cell_type": "code",
   "execution_count": 42,
   "id": "b5181239-e679-435d-ac2d-8ef43495bdb2",
   "metadata": {},
   "outputs": [
    {
     "data": {
      "text/html": [
       "<div>\n",
       "<style scoped>\n",
       "    .dataframe tbody tr th:only-of-type {\n",
       "        vertical-align: middle;\n",
       "    }\n",
       "\n",
       "    .dataframe tbody tr th {\n",
       "        vertical-align: top;\n",
       "    }\n",
       "\n",
       "    .dataframe thead th {\n",
       "        text-align: right;\n",
       "    }\n",
       "</style>\n",
       "<table border=\"1\" class=\"dataframe\">\n",
       "  <thead>\n",
       "    <tr style=\"text-align: right;\">\n",
       "      <th></th>\n",
       "      <th>user_id</th>\n",
       "      <th>track_id</th>\n",
       "      <th>started_at</th>\n",
       "      <th>track</th>\n",
       "      <th>genre</th>\n",
       "    </tr>\n",
       "  </thead>\n",
       "  <tbody>\n",
       "    <tr>\n",
       "      <th>0</th>\n",
       "      <td>844258</td>\n",
       "      <td>3581309</td>\n",
       "      <td>2022-06-05</td>\n",
       "      <td>Somebody That I Used To Know</td>\n",
       "      <td>pop</td>\n",
       "    </tr>\n",
       "    <tr>\n",
       "      <th>1</th>\n",
       "      <td>1091434</td>\n",
       "      <td>14937363</td>\n",
       "      <td>2022-06-29</td>\n",
       "      <td>The Monster</td>\n",
       "      <td>foreignrap</td>\n",
       "    </tr>\n",
       "    <tr>\n",
       "      <th>2</th>\n",
       "      <td>73981</td>\n",
       "      <td>48591660</td>\n",
       "      <td>2022-09-26</td>\n",
       "      <td>Шар</td>\n",
       "      <td>pop</td>\n",
       "    </tr>\n",
       "    <tr>\n",
       "      <th>3</th>\n",
       "      <td>78605</td>\n",
       "      <td>732405</td>\n",
       "      <td>2022-09-14</td>\n",
       "      <td>ХОЧЕШЬ?</td>\n",
       "      <td>rusrock</td>\n",
       "    </tr>\n",
       "    <tr>\n",
       "      <th>4</th>\n",
       "      <td>1273064</td>\n",
       "      <td>40339506</td>\n",
       "      <td>2022-08-24</td>\n",
       "      <td>Компромисс</td>\n",
       "      <td>rusrock</td>\n",
       "    </tr>\n",
       "  </tbody>\n",
       "</table>\n",
       "</div>"
      ],
      "text/plain": [
       "   user_id  track_id started_at                         track       genre\n",
       "0   844258   3581309 2022-06-05  Somebody That I Used To Know         pop\n",
       "1  1091434  14937363 2022-06-29                   The Monster  foreignrap\n",
       "2    73981  48591660 2022-09-26                           Шар         pop\n",
       "3    78605    732405 2022-09-14                       ХОЧЕШЬ?     rusrock\n",
       "4  1273064  40339506 2022-08-24                    Компромисс     rusrock"
      ]
     },
     "execution_count": 42,
     "metadata": {},
     "output_type": "execute_result"
    }
   ],
   "source": [
    "events_sample = events_sample.merge(\n",
    "    items[[\"track_id\", \"track\", \"genre\"]],\n",
    "    on=\"track_id\",\n",
    "    how=\"left\",\n",
    ")\n",
    "events_sample.head()"
   ]
  },
  {
   "cell_type": "markdown",
   "id": "a30e823e-8e0f-4a76-a02e-8d1ba8bf0f8a",
   "metadata": {},
   "source": [
    "## Распределение количества прослушанных треков"
   ]
  },
  {
   "cell_type": "markdown",
   "id": "6a4a763b-88fd-4196-a512-a8de9eb57a9c",
   "metadata": {},
   "source": [
    "Чтобы посмотреть на распределения количества прослушиваний, нужно построить график. У нас довольно большое количество треков, что будет очень нагружено выглядеть на графике. Как один из вариантов визуализации, можно сначала сгруппировать прослушивания по месяцам, а затем увидеть, как это число изменяется по месяцам. Для начала создадим маппинг номера к названию месяца, что понадобится после для графика."
   ]
  },
  {
   "cell_type": "code",
   "execution_count": 43,
   "id": "9bf5eaba-35f7-4da7-be59-9ab4a34b2423",
   "metadata": {},
   "outputs": [
    {
     "data": {
      "text/plain": [
       "{0: 'January',\n",
       " 1: 'February',\n",
       " 2: 'March',\n",
       " 3: 'April',\n",
       " 4: 'May',\n",
       " 5: 'June',\n",
       " 6: 'July',\n",
       " 7: 'August',\n",
       " 8: 'September',\n",
       " 9: 'October',\n",
       " 10: 'November',\n",
       " 11: 'December'}"
      ]
     },
     "execution_count": 43,
     "metadata": {},
     "output_type": "execute_result"
    }
   ],
   "source": [
    "id2month_mapping = {i: name for i, name in zip(range(12), calendar.month_name[1:])}\n",
    "id2month_mapping"
   ]
  },
  {
   "cell_type": "markdown",
   "id": "de399b74-5ffb-455c-83e0-be7e433b64ba",
   "metadata": {},
   "source": [
    "Поскольку колонка `started_at` является типом `datetime` мы можем легко вытащить из нее порядковый номер месяца:"
   ]
  },
  {
   "cell_type": "code",
   "execution_count": 44,
   "id": "fceb034a-a5f6-4360-82cc-b567c310a1a2",
   "metadata": {},
   "outputs": [
    {
     "data": {
      "text/html": [
       "<div>\n",
       "<style scoped>\n",
       "    .dataframe tbody tr th:only-of-type {\n",
       "        vertical-align: middle;\n",
       "    }\n",
       "\n",
       "    .dataframe tbody tr th {\n",
       "        vertical-align: top;\n",
       "    }\n",
       "\n",
       "    .dataframe thead th {\n",
       "        text-align: right;\n",
       "    }\n",
       "</style>\n",
       "<table border=\"1\" class=\"dataframe\">\n",
       "  <thead>\n",
       "    <tr style=\"text-align: right;\">\n",
       "      <th></th>\n",
       "      <th>user_id</th>\n",
       "      <th>track_id</th>\n",
       "      <th>started_at</th>\n",
       "      <th>track</th>\n",
       "      <th>genre</th>\n",
       "      <th>month</th>\n",
       "    </tr>\n",
       "  </thead>\n",
       "  <tbody>\n",
       "    <tr>\n",
       "      <th>0</th>\n",
       "      <td>844258</td>\n",
       "      <td>3581309</td>\n",
       "      <td>2022-06-05</td>\n",
       "      <td>Somebody That I Used To Know</td>\n",
       "      <td>pop</td>\n",
       "      <td>6</td>\n",
       "    </tr>\n",
       "    <tr>\n",
       "      <th>1</th>\n",
       "      <td>1091434</td>\n",
       "      <td>14937363</td>\n",
       "      <td>2022-06-29</td>\n",
       "      <td>The Monster</td>\n",
       "      <td>foreignrap</td>\n",
       "      <td>6</td>\n",
       "    </tr>\n",
       "    <tr>\n",
       "      <th>2</th>\n",
       "      <td>73981</td>\n",
       "      <td>48591660</td>\n",
       "      <td>2022-09-26</td>\n",
       "      <td>Шар</td>\n",
       "      <td>pop</td>\n",
       "      <td>9</td>\n",
       "    </tr>\n",
       "    <tr>\n",
       "      <th>3</th>\n",
       "      <td>78605</td>\n",
       "      <td>732405</td>\n",
       "      <td>2022-09-14</td>\n",
       "      <td>ХОЧЕШЬ?</td>\n",
       "      <td>rusrock</td>\n",
       "      <td>9</td>\n",
       "    </tr>\n",
       "    <tr>\n",
       "      <th>4</th>\n",
       "      <td>1273064</td>\n",
       "      <td>40339506</td>\n",
       "      <td>2022-08-24</td>\n",
       "      <td>Компромисс</td>\n",
       "      <td>rusrock</td>\n",
       "      <td>8</td>\n",
       "    </tr>\n",
       "  </tbody>\n",
       "</table>\n",
       "</div>"
      ],
      "text/plain": [
       "   user_id  track_id started_at                         track       genre  \\\n",
       "0   844258   3581309 2022-06-05  Somebody That I Used To Know         pop   \n",
       "1  1091434  14937363 2022-06-29                   The Monster  foreignrap   \n",
       "2    73981  48591660 2022-09-26                           Шар         pop   \n",
       "3    78605    732405 2022-09-14                       ХОЧЕШЬ?     rusrock   \n",
       "4  1273064  40339506 2022-08-24                    Компромисс     rusrock   \n",
       "\n",
       "   month  \n",
       "0      6  \n",
       "1      6  \n",
       "2      9  \n",
       "3      9  \n",
       "4      8  "
      ]
     },
     "execution_count": 44,
     "metadata": {},
     "output_type": "execute_result"
    }
   ],
   "source": [
    "events_sample[\"month\"] = events_sample[\"started_at\"].dt.month\n",
    "events_sample.head()"
   ]
  },
  {
   "cell_type": "markdown",
   "id": "319f0e52-5e17-4516-b557-a5d1b8ca0ee8",
   "metadata": {},
   "source": [
    "Теперь мы можем сгруппировать данные по месяцам с расчетом числа прослушивания и использовать созданный ранее маппинг, что наложить на ось X названия месяцев для наглядности:"
   ]
  },
  {
   "cell_type": "code",
   "execution_count": 45,
   "id": "366d8462-d956-458f-b174-9928d427b8cf",
   "metadata": {},
   "outputs": [
    {
     "data": {
      "image/png": "[encoded data removed]",
      "text/plain": [
       "<Figure size 640x480 with 1 Axes>"
      ]
     },
     "metadata": {},
     "output_type": "display_data"
    }
   ],
   "source": [
    "events_sample \\\n",
    "            .groupby(\"month\")[\"track\"] \\\n",
    "            .count() \\\n",
    "            .sort_index() \\\n",
    "            .plot(kind=\"bar\")\n",
    "\n",
    "plt.xlabel(\"Month\")\n",
    "plt.ylabel(\"Tracks listened (in millions)\")\n",
    "plt.title(\"Number of tracks listened (by month)\")\n",
    "plt.xticks(list(id2month_mapping.keys()), list(id2month_mapping.values()), rotation=45)\n",
    "plt.tight_layout()\n",
    "plt.show()"
   ]
  },
  {
   "cell_type": "markdown",
   "id": "d765519a-18dd-4d30-9e29-cc2d84cacd79",
   "metadata": {},
   "source": [
    "## Наиболее популярные треки"
   ]
  },
  {
   "cell_type": "markdown",
   "id": "a9e2a950-cd51-496a-9213-a657452332ca",
   "metadata": {},
   "source": [
    "Рассчитаем топ-30 наиболее популярных треков:"
   ]
  },
  {
   "cell_type": "code",
   "execution_count": 46,
   "id": "aecaf630-fde0-4860-b84a-42c933a9606e",
   "metadata": {},
   "outputs": [
    {
     "data": {
      "text/html": [
       "<div>\n",
       "<style scoped>\n",
       "    .dataframe tbody tr th:only-of-type {\n",
       "        vertical-align: middle;\n",
       "    }\n",
       "\n",
       "    .dataframe tbody tr th {\n",
       "        vertical-align: top;\n",
       "    }\n",
       "\n",
       "    .dataframe thead th {\n",
       "        text-align: right;\n",
       "    }\n",
       "</style>\n",
       "<table border=\"1\" class=\"dataframe\">\n",
       "  <thead>\n",
       "    <tr style=\"text-align: right;\">\n",
       "      <th></th>\n",
       "      <th>track</th>\n",
       "      <th>artist</th>\n",
       "      <th>count</th>\n",
       "    </tr>\n",
       "    <tr>\n",
       "      <th>track_id</th>\n",
       "      <th></th>\n",
       "      <th></th>\n",
       "      <th></th>\n",
       "    </tr>\n",
       "  </thead>\n",
       "  <tbody>\n",
       "    <tr>\n",
       "      <th>53404</th>\n",
       "      <td>Smells Like Teen Spirit</td>\n",
       "      <td>Nirvana</td>\n",
       "      <td>27596</td>\n",
       "    </tr>\n",
       "    <tr>\n",
       "      <th>33311009</th>\n",
       "      <td>Believer</td>\n",
       "      <td>Imagine Dragons</td>\n",
       "      <td>26830</td>\n",
       "    </tr>\n",
       "    <tr>\n",
       "      <th>178529</th>\n",
       "      <td>Numb</td>\n",
       "      <td>Linkin Park</td>\n",
       "      <td>25543</td>\n",
       "    </tr>\n",
       "    <tr>\n",
       "      <th>35505245</th>\n",
       "      <td>I Got Love</td>\n",
       "      <td>Miyagi &amp; Эндшпиль</td>\n",
       "      <td>24684</td>\n",
       "    </tr>\n",
       "    <tr>\n",
       "      <th>65851540</th>\n",
       "      <td>Юность</td>\n",
       "      <td>Dabro</td>\n",
       "      <td>21665</td>\n",
       "    </tr>\n",
       "    <tr>\n",
       "      <th>24692821</th>\n",
       "      <td>Way Down We Go</td>\n",
       "      <td>KALEO</td>\n",
       "      <td>21587</td>\n",
       "    </tr>\n",
       "    <tr>\n",
       "      <th>32947997</th>\n",
       "      <td>Shape of You</td>\n",
       "      <td>Ed Sheeran</td>\n",
       "      <td>21530</td>\n",
       "    </tr>\n",
       "    <tr>\n",
       "      <th>795836</th>\n",
       "      <td>Shape Of My Heart</td>\n",
       "      <td>Sting</td>\n",
       "      <td>21487</td>\n",
       "    </tr>\n",
       "    <tr>\n",
       "      <th>51241318</th>\n",
       "      <td>In The End</td>\n",
       "      <td>Tommee Profitt</td>\n",
       "      <td>21457</td>\n",
       "    </tr>\n",
       "    <tr>\n",
       "      <th>45499814</th>\n",
       "      <td>Life</td>\n",
       "      <td>Zivert</td>\n",
       "      <td>21168</td>\n",
       "    </tr>\n",
       "    <tr>\n",
       "      <th>60292250</th>\n",
       "      <td>Blinding Lights</td>\n",
       "      <td>The Weeknd</td>\n",
       "      <td>21158</td>\n",
       "    </tr>\n",
       "    <tr>\n",
       "      <th>6705392</th>\n",
       "      <td>Seven Nation Army</td>\n",
       "      <td>The White Stripes</td>\n",
       "      <td>20574</td>\n",
       "    </tr>\n",
       "    <tr>\n",
       "      <th>39257277</th>\n",
       "      <td>In My Mind</td>\n",
       "      <td>Dynoro</td>\n",
       "      <td>20497</td>\n",
       "    </tr>\n",
       "    <tr>\n",
       "      <th>29544272</th>\n",
       "      <td>Human</td>\n",
       "      <td>Rag'n'Bone Man</td>\n",
       "      <td>20007</td>\n",
       "    </tr>\n",
       "    <tr>\n",
       "      <th>37384</th>\n",
       "      <td>Zombie</td>\n",
       "      <td>The Cranberries</td>\n",
       "      <td>19892</td>\n",
       "    </tr>\n",
       "    <tr>\n",
       "      <th>2758009</th>\n",
       "      <td>The Show Must Go On</td>\n",
       "      <td>Queen</td>\n",
       "      <td>19576</td>\n",
       "    </tr>\n",
       "    <tr>\n",
       "      <th>51516485</th>\n",
       "      <td>bad guy</td>\n",
       "      <td>Billie Eilish</td>\n",
       "      <td>19486</td>\n",
       "    </tr>\n",
       "    <tr>\n",
       "      <th>47627256</th>\n",
       "      <td>Cradles</td>\n",
       "      <td>Sub Urban</td>\n",
       "      <td>19126</td>\n",
       "    </tr>\n",
       "    <tr>\n",
       "      <th>328683</th>\n",
       "      <td>Bring Me To Life</td>\n",
       "      <td>Evanescence</td>\n",
       "      <td>18813</td>\n",
       "    </tr>\n",
       "    <tr>\n",
       "      <th>49961817</th>\n",
       "      <td>Грустный дэнс</td>\n",
       "      <td>Artik &amp; Asti</td>\n",
       "      <td>18686</td>\n",
       "    </tr>\n",
       "    <tr>\n",
       "      <th>17079396</th>\n",
       "      <td>Take Me To Church</td>\n",
       "      <td>Hozier</td>\n",
       "      <td>18644</td>\n",
       "    </tr>\n",
       "    <tr>\n",
       "      <th>57921154</th>\n",
       "      <td>Комета</td>\n",
       "      <td>JONY</td>\n",
       "      <td>18551</td>\n",
       "    </tr>\n",
       "    <tr>\n",
       "      <th>54798445</th>\n",
       "      <td>Прятки</td>\n",
       "      <td>HammAli &amp; Navai</td>\n",
       "      <td>18518</td>\n",
       "    </tr>\n",
       "    <tr>\n",
       "      <th>56204557</th>\n",
       "      <td>Dance Monkey</td>\n",
       "      <td>Tones And I</td>\n",
       "      <td>18287</td>\n",
       "    </tr>\n",
       "    <tr>\n",
       "      <th>50685843</th>\n",
       "      <td>Кукла колдуна</td>\n",
       "      <td>Король и Шут</td>\n",
       "      <td>18166</td>\n",
       "    </tr>\n",
       "    <tr>\n",
       "      <th>34976783</th>\n",
       "      <td>Thunder</td>\n",
       "      <td>Imagine Dragons</td>\n",
       "      <td>17988</td>\n",
       "    </tr>\n",
       "    <tr>\n",
       "      <th>23559960</th>\n",
       "      <td>Stressed Out</td>\n",
       "      <td>twenty one pilots</td>\n",
       "      <td>17840</td>\n",
       "    </tr>\n",
       "    <tr>\n",
       "      <th>48951</th>\n",
       "      <td>It's My Life</td>\n",
       "      <td>Bon Jovi</td>\n",
       "      <td>17825</td>\n",
       "    </tr>\n",
       "    <tr>\n",
       "      <th>18385776</th>\n",
       "      <td>Freaks</td>\n",
       "      <td>Timmy Trumpet</td>\n",
       "      <td>17752</td>\n",
       "    </tr>\n",
       "    <tr>\n",
       "      <th>43942453</th>\n",
       "      <td>NBA</td>\n",
       "      <td>RSAC</td>\n",
       "      <td>17613</td>\n",
       "    </tr>\n",
       "  </tbody>\n",
       "</table>\n",
       "</div>"
      ],
      "text/plain": [
       "                            track             artist  count\n",
       "track_id                                                   \n",
       "53404     Smells Like Teen Spirit            Nirvana  27596\n",
       "33311009                 Believer    Imagine Dragons  26830\n",
       "178529                       Numb        Linkin Park  25543\n",
       "35505245               I Got Love  Miyagi & Эндшпиль  24684\n",
       "65851540                   Юность              Dabro  21665\n",
       "24692821           Way Down We Go              KALEO  21587\n",
       "32947997             Shape of You         Ed Sheeran  21530\n",
       "795836          Shape Of My Heart              Sting  21487\n",
       "51241318               In The End     Tommee Profitt  21457\n",
       "45499814                     Life             Zivert  21168\n",
       "60292250          Blinding Lights         The Weeknd  21158\n",
       "6705392         Seven Nation Army  The White Stripes  20574\n",
       "39257277               In My Mind             Dynoro  20497\n",
       "29544272                    Human     Rag'n'Bone Man  20007\n",
       "37384                      Zombie    The Cranberries  19892\n",
       "2758009       The Show Must Go On              Queen  19576\n",
       "51516485                  bad guy      Billie Eilish  19486\n",
       "47627256                  Cradles          Sub Urban  19126\n",
       "328683           Bring Me To Life        Evanescence  18813\n",
       "49961817            Грустный дэнс       Artik & Asti  18686\n",
       "17079396        Take Me To Church             Hozier  18644\n",
       "57921154                   Комета               JONY  18551\n",
       "54798445                   Прятки    HammAli & Navai  18518\n",
       "56204557             Dance Monkey        Tones And I  18287\n",
       "50685843            Кукла колдуна       Король и Шут  18166\n",
       "34976783                  Thunder    Imagine Dragons  17988\n",
       "23559960             Stressed Out  twenty one pilots  17840\n",
       "48951                It's My Life           Bon Jovi  17825\n",
       "18385776                   Freaks      Timmy Trumpet  17752\n",
       "43942453                      NBA               RSAC  17613"
      ]
     },
     "execution_count": 46,
     "metadata": {},
     "output_type": "execute_result"
    }
   ],
   "source": [
    "events_sample.track_id \\\n",
    "            .value_counts() \\\n",
    "            .head(30) \\\n",
    "            .reset_index() \\\n",
    "            .merge(\n",
    "                items[[\"track_id\", \"track\", \"artist\"]],\n",
    "                on=\"track_id\",\n",
    "                how=\"left\",\n",
    "            )[[\"track_id\", \"track\", \"artist\", \"count\"]].set_index(\"track_id\")"
   ]
  },
  {
   "cell_type": "markdown",
   "id": "b1c32a5a-d3be-4f96-8dd9-f7860951020c",
   "metadata": {},
   "source": [
    "## Наиболее популярные жанры"
   ]
  },
  {
   "cell_type": "markdown",
   "id": "3a70d7e9-6a44-4474-b2c0-9c730c4e1fb6",
   "metadata": {},
   "source": [
    "Посмотрим на топ-30 наиболее популярных жанров:"
   ]
  },
  {
   "cell_type": "code",
   "execution_count": 47,
   "id": "1bc50491-9235-4d3c-a6c2-297f7c05a959",
   "metadata": {},
   "outputs": [
    {
     "data": {
      "text/plain": [
       "genre\n",
       "pop               13873850\n",
       "rusrap             6327969\n",
       "electronics        4672913\n",
       "dance              3849000\n",
       "rusrock            3290821\n",
       "foreignrap         2951954\n",
       "rock               2588872\n",
       "alternative        2486226\n",
       "metal              1600655\n",
       "indie              1364048\n",
       "rusestrada         1221573\n",
       "local-indie        1017882\n",
       "punk                885731\n",
       "folk                851817\n",
       "numetal             559733\n",
       "shanson             553822\n",
       "soundtrack          547633\n",
       "films               524561\n",
       "hardrock            514213\n",
       "rnb                 481071\n",
       "classicmetal        476886\n",
       "jazz                416389\n",
       "estrada             356269\n",
       "epicmetal           316098\n",
       "classicalmusic      314966\n",
       "classical           295505\n",
       "allrock             294781\n",
       "foreignbard         274326\n",
       "ukrrock             194016\n",
       "folkrock            189807\n",
       "Name: count, dtype: int64"
      ]
     },
     "execution_count": 47,
     "metadata": {},
     "output_type": "execute_result"
    }
   ],
   "source": [
    "events_sample.genre.value_counts().head(30)"
   ]
  },
  {
   "cell_type": "markdown",
   "id": "15254e66-e80e-473b-ba24-abebea5ccac7",
   "metadata": {},
   "source": [
    "## Треки, которые никто не прослушал"
   ]
  },
  {
   "cell_type": "markdown",
   "id": "4cc1e49d-1b07-4842-b55f-6c6e3e8ddc44",
   "metadata": {},
   "source": [
    "Чтобы понять, какие треки никто не слушал в данной выборке, мы можем отсеять идентификаторы треков, которые есть в `events_sample`, из `items` и посмотреть на оставшиеся:"
   ]
  },
  {
   "cell_type": "code",
   "execution_count": 48,
   "id": "50bc50c6-2d83-4c7e-97fa-3e7627978438",
   "metadata": {},
   "outputs": [
    {
     "name": "stdout",
     "output_type": "stream",
     "text": [
      "Number of tracks not listened to: 49,014\n",
      "Share: 4.90%\n"
     ]
    }
   ],
   "source": [
    "items_track_ids = set(items.track_id.values.tolist())\n",
    "events_track_ids = set(events_sample.track_id.values.tolist())\n",
    "\n",
    "no_listens_ids = list(items_track_ids - events_track_ids)\n",
    "\n",
    "print(\"Number of tracks not listened to: {:,}\".format(len(no_listens_ids)))\n",
    "print(\"Share: {:.2%}\".format(len(no_listens_ids) / items.shape[0]))"
   ]
  },
  {
   "cell_type": "code",
   "execution_count": 49,
   "id": "901ff92b-bc0f-4b4b-97d9-9c9f21cc5d35",
   "metadata": {},
   "outputs": [],
   "source": [
    "assert len(events_track_ids) + len(no_listens_ids) == items.shape[0]"
   ]
  },
  {
   "cell_type": "code",
   "execution_count": 50,
   "id": "19ed872e-6a94-4870-b716-e23380fa6efc",
   "metadata": {},
   "outputs": [
    {
     "data": {
      "text/html": [
       "<div>\n",
       "<style scoped>\n",
       "    .dataframe tbody tr th:only-of-type {\n",
       "        vertical-align: middle;\n",
       "    }\n",
       "\n",
       "    .dataframe tbody tr th {\n",
       "        vertical-align: top;\n",
       "    }\n",
       "\n",
       "    .dataframe thead th {\n",
       "        text-align: right;\n",
       "    }\n",
       "</style>\n",
       "<table border=\"1\" class=\"dataframe\">\n",
       "  <thead>\n",
       "    <tr style=\"text-align: right;\">\n",
       "      <th></th>\n",
       "      <th>track_id</th>\n",
       "      <th>track</th>\n",
       "      <th>artist</th>\n",
       "      <th>album</th>\n",
       "      <th>genre</th>\n",
       "    </tr>\n",
       "  </thead>\n",
       "  <tbody>\n",
       "    <tr>\n",
       "      <th>5120396</th>\n",
       "      <td>38363244</td>\n",
       "      <td>Trap Life</td>\n",
       "      <td>Trap</td>\n",
       "      <td>Trap</td>\n",
       "      <td>foreignrap</td>\n",
       "    </tr>\n",
       "    <tr>\n",
       "      <th>5595246</th>\n",
       "      <td>49364277</td>\n",
       "      <td>Motivasyon</td>\n",
       "      <td>Ben Fero</td>\n",
       "      <td>ORMAN KANUNLARI</td>\n",
       "      <td>turkishrap</td>\n",
       "    </tr>\n",
       "    <tr>\n",
       "      <th>4313055</th>\n",
       "      <td>25427236</td>\n",
       "      <td>Волшебница</td>\n",
       "      <td>Центр</td>\n",
       "      <td>Легенды Москвы</td>\n",
       "      <td>rusrock</td>\n",
       "    </tr>\n",
       "    <tr>\n",
       "      <th>6053380</th>\n",
       "      <td>61394657</td>\n",
       "      <td>Set Me Free</td>\n",
       "      <td>Desib-L</td>\n",
       "      <td>Set Me Free</td>\n",
       "      <td>electronics</td>\n",
       "    </tr>\n",
       "    <tr>\n",
       "      <th>4350583</th>\n",
       "      <td>25764755</td>\n",
       "      <td>Money and Run</td>\n",
       "      <td>UNKLE</td>\n",
       "      <td>Global Underground #41: James Lavelle Presents...</td>\n",
       "      <td>electronics</td>\n",
       "    </tr>\n",
       "    <tr>\n",
       "      <th>4360437</th>\n",
       "      <td>25891460</td>\n",
       "      <td>Remembering</td>\n",
       "      <td>Omega</td>\n",
       "      <td>The Beaty Sixties</td>\n",
       "      <td>rock</td>\n",
       "    </tr>\n",
       "    <tr>\n",
       "      <th>5478335</th>\n",
       "      <td>45397998</td>\n",
       "      <td>Elephant March</td>\n",
       "      <td>Wooli</td>\n",
       "      <td>Elephant March</td>\n",
       "      <td>electronics</td>\n",
       "    </tr>\n",
       "    <tr>\n",
       "      <th>4938314</th>\n",
       "      <td>35757780</td>\n",
       "      <td>Страсти по Матфею, Тайная вечеря: Един от вас ...</td>\n",
       "      <td>Московский Синодальный хор, Владимир Федосеев,...</td>\n",
       "      <td>Митрополит Иларион: Музыка для оркестра и хора</td>\n",
       "      <td>classical</td>\n",
       "    </tr>\n",
       "    <tr>\n",
       "      <th>4476292</th>\n",
       "      <td>28345010</td>\n",
       "      <td>This Boy</td>\n",
       "      <td>The Beatles</td>\n",
       "      <td>Anthology 1</td>\n",
       "      <td>rock</td>\n",
       "    </tr>\n",
       "    <tr>\n",
       "      <th>5654642</th>\n",
       "      <td>51186002</td>\n",
       "      <td>Русско- турецкие войны в программе \"Виват Исто...</td>\n",
       "      <td>NaN</td>\n",
       "      <td>Виват, история!</td>\n",
       "      <td>podcasts</td>\n",
       "    </tr>\n",
       "  </tbody>\n",
       "</table>\n",
       "</div>"
      ],
      "text/plain": [
       "         track_id                                              track  \\\n",
       "5120396  38363244                                          Trap Life   \n",
       "5595246  49364277                                         Motivasyon   \n",
       "4313055  25427236                                         Волшебница   \n",
       "6053380  61394657                                        Set Me Free   \n",
       "4350583  25764755                                      Money and Run   \n",
       "4360437  25891460                                        Remembering   \n",
       "5478335  45397998                                     Elephant March   \n",
       "4938314  35757780  Страсти по Матфею, Тайная вечеря: Един от вас ...   \n",
       "4476292  28345010                                           This Boy   \n",
       "5654642  51186002  Русско- турецкие войны в программе \"Виват Исто...   \n",
       "\n",
       "                                                    artist  \\\n",
       "5120396                                               Trap   \n",
       "5595246                                           Ben Fero   \n",
       "4313055                                              Центр   \n",
       "6053380                                            Desib-L   \n",
       "4350583                                              UNKLE   \n",
       "4360437                                              Omega   \n",
       "5478335                                              Wooli   \n",
       "4938314  Московский Синодальный хор, Владимир Федосеев,...   \n",
       "4476292                                        The Beatles   \n",
       "5654642                                                NaN   \n",
       "\n",
       "                                                     album        genre  \n",
       "5120396                                               Trap   foreignrap  \n",
       "5595246                                    ORMAN KANUNLARI   turkishrap  \n",
       "4313055                                     Легенды Москвы      rusrock  \n",
       "6053380                                        Set Me Free  electronics  \n",
       "4350583  Global Underground #41: James Lavelle Presents...  electronics  \n",
       "4360437                                  The Beaty Sixties         rock  \n",
       "5478335                                     Elephant March  electronics  \n",
       "4938314     Митрополит Иларион: Музыка для оркестра и хора    classical  \n",
       "4476292                                        Anthology 1         rock  \n",
       "5654642                                    Виват, история!     podcasts  "
      ]
     },
     "execution_count": 50,
     "metadata": {},
     "output_type": "execute_result"
    }
   ],
   "source": [
    "items[items.track_id.isin(no_listens_ids)].sample(10, random_state=RANDOM_STATE)"
   ]
  },
  {
   "cell_type": "markdown",
   "id": "877137cb-e404-4a18-846d-6be5edf94c9c",
   "metadata": {},
   "source": [
    "Заметим здесь, что мы смогли найти около 50 тыс. непрослушанных треков по причине того, что взяли выборку вместо полного набора данных. Как мы видели ранее, с данных о взаимодействиях присутствовало ровно 1 млн уникальных треков, то есть все треки были прослушаны хотя бы один раз."
   ]
  },
  {
   "cell_type": "markdown",
   "id": "0d850a07-ef1e-462f-891a-1cf89f2e24ef",
   "metadata": {},
   "source": [
    "# Преобразование данных"
   ]
  },
  {
   "cell_type": "markdown",
   "id": "60c4ac43-adc5-4496-9a12-fdfc37dcb2ad",
   "metadata": {},
   "source": [
    "## Items"
   ]
  },
  {
   "cell_type": "markdown",
   "id": "fabcf8d2-1192-4df5-b20b-fbb84689f57a",
   "metadata": {},
   "source": [
    "Преобразуем данные в формат, более пригодный для дальнейшего использования в расчётах рекомендаций. Для начала ресетнем индекс `items`:"
   ]
  },
  {
   "cell_type": "code",
   "execution_count": 51,
   "id": "5310e9e4-8710-412b-bd75-8d919de561ae",
   "metadata": {},
   "outputs": [
    {
     "data": {
      "text/html": [
       "<div>\n",
       "<style scoped>\n",
       "    .dataframe tbody tr th:only-of-type {\n",
       "        vertical-align: middle;\n",
       "    }\n",
       "\n",
       "    .dataframe tbody tr th {\n",
       "        vertical-align: top;\n",
       "    }\n",
       "\n",
       "    .dataframe thead th {\n",
       "        text-align: right;\n",
       "    }\n",
       "</style>\n",
       "<table border=\"1\" class=\"dataframe\">\n",
       "  <thead>\n",
       "    <tr style=\"text-align: right;\">\n",
       "      <th></th>\n",
       "      <th>track_id</th>\n",
       "      <th>track</th>\n",
       "      <th>artist</th>\n",
       "      <th>album</th>\n",
       "      <th>genre</th>\n",
       "    </tr>\n",
       "  </thead>\n",
       "  <tbody>\n",
       "    <tr>\n",
       "      <th>0</th>\n",
       "      <td>26</td>\n",
       "      <td>Complimentary Me</td>\n",
       "      <td>Elizabeth &amp; the Catapult</td>\n",
       "      <td>Taller Children</td>\n",
       "      <td>pop</td>\n",
       "    </tr>\n",
       "    <tr>\n",
       "      <th>4</th>\n",
       "      <td>38</td>\n",
       "      <td>Momma's Boy</td>\n",
       "      <td>Elizabeth &amp; the Catapult</td>\n",
       "      <td>Taller Children</td>\n",
       "      <td>pop</td>\n",
       "    </tr>\n",
       "    <tr>\n",
       "      <th>8</th>\n",
       "      <td>135</td>\n",
       "      <td>Atticus</td>\n",
       "      <td>Noisettes</td>\n",
       "      <td>Wild Young Hearts</td>\n",
       "      <td>pop</td>\n",
       "    </tr>\n",
       "    <tr>\n",
       "      <th>11</th>\n",
       "      <td>136</td>\n",
       "      <td>24 Hours</td>\n",
       "      <td>Noisettes</td>\n",
       "      <td>Wild Young Hearts</td>\n",
       "      <td>pop</td>\n",
       "    </tr>\n",
       "    <tr>\n",
       "      <th>14</th>\n",
       "      <td>138</td>\n",
       "      <td>Don't Upset The Rhythm (Go Baby Go)</td>\n",
       "      <td>Noisettes</td>\n",
       "      <td>Wild Young Hearts</td>\n",
       "      <td>pop</td>\n",
       "    </tr>\n",
       "  </tbody>\n",
       "</table>\n",
       "</div>"
      ],
      "text/plain": [
       "    track_id                                track                    artist  \\\n",
       "0         26                     Complimentary Me  Elizabeth & the Catapult   \n",
       "4         38                          Momma's Boy  Elizabeth & the Catapult   \n",
       "8        135                              Atticus                 Noisettes   \n",
       "11       136                             24 Hours                 Noisettes   \n",
       "14       138  Don't Upset The Rhythm (Go Baby Go)                 Noisettes   \n",
       "\n",
       "                album genre  \n",
       "0     Taller Children   pop  \n",
       "4     Taller Children   pop  \n",
       "8   Wild Young Hearts   pop  \n",
       "11  Wild Young Hearts   pop  \n",
       "14  Wild Young Hearts   pop  "
      ]
     },
     "execution_count": 51,
     "metadata": {},
     "output_type": "execute_result"
    }
   ],
   "source": [
    "items.head()"
   ]
  },
  {
   "cell_type": "code",
   "execution_count": 52,
   "id": "16ea3682-cffc-4b37-8626-65dc462a90aa",
   "metadata": {},
   "outputs": [
    {
     "data": {
      "text/html": [
       "<div>\n",
       "<style scoped>\n",
       "    .dataframe tbody tr th:only-of-type {\n",
       "        vertical-align: middle;\n",
       "    }\n",
       "\n",
       "    .dataframe tbody tr th {\n",
       "        vertical-align: top;\n",
       "    }\n",
       "\n",
       "    .dataframe thead th {\n",
       "        text-align: right;\n",
       "    }\n",
       "</style>\n",
       "<table border=\"1\" class=\"dataframe\">\n",
       "  <thead>\n",
       "    <tr style=\"text-align: right;\">\n",
       "      <th></th>\n",
       "      <th>track_id</th>\n",
       "      <th>track</th>\n",
       "      <th>artist</th>\n",
       "      <th>album</th>\n",
       "      <th>genre</th>\n",
       "    </tr>\n",
       "  </thead>\n",
       "  <tbody>\n",
       "    <tr>\n",
       "      <th>0</th>\n",
       "      <td>26</td>\n",
       "      <td>Complimentary Me</td>\n",
       "      <td>Elizabeth &amp; the Catapult</td>\n",
       "      <td>Taller Children</td>\n",
       "      <td>pop</td>\n",
       "    </tr>\n",
       "    <tr>\n",
       "      <th>1</th>\n",
       "      <td>38</td>\n",
       "      <td>Momma's Boy</td>\n",
       "      <td>Elizabeth &amp; the Catapult</td>\n",
       "      <td>Taller Children</td>\n",
       "      <td>pop</td>\n",
       "    </tr>\n",
       "    <tr>\n",
       "      <th>2</th>\n",
       "      <td>135</td>\n",
       "      <td>Atticus</td>\n",
       "      <td>Noisettes</td>\n",
       "      <td>Wild Young Hearts</td>\n",
       "      <td>pop</td>\n",
       "    </tr>\n",
       "    <tr>\n",
       "      <th>3</th>\n",
       "      <td>136</td>\n",
       "      <td>24 Hours</td>\n",
       "      <td>Noisettes</td>\n",
       "      <td>Wild Young Hearts</td>\n",
       "      <td>pop</td>\n",
       "    </tr>\n",
       "    <tr>\n",
       "      <th>4</th>\n",
       "      <td>138</td>\n",
       "      <td>Don't Upset The Rhythm (Go Baby Go)</td>\n",
       "      <td>Noisettes</td>\n",
       "      <td>Wild Young Hearts</td>\n",
       "      <td>pop</td>\n",
       "    </tr>\n",
       "  </tbody>\n",
       "</table>\n",
       "</div>"
      ],
      "text/plain": [
       "   track_id                                track                    artist  \\\n",
       "0        26                     Complimentary Me  Elizabeth & the Catapult   \n",
       "1        38                          Momma's Boy  Elizabeth & the Catapult   \n",
       "2       135                              Atticus                 Noisettes   \n",
       "3       136                             24 Hours                 Noisettes   \n",
       "4       138  Don't Upset The Rhythm (Go Baby Go)                 Noisettes   \n",
       "\n",
       "               album genre  \n",
       "0    Taller Children   pop  \n",
       "1    Taller Children   pop  \n",
       "2  Wild Young Hearts   pop  \n",
       "3  Wild Young Hearts   pop  \n",
       "4  Wild Young Hearts   pop  "
      ]
     },
     "execution_count": 52,
     "metadata": {},
     "output_type": "execute_result"
    }
   ],
   "source": [
    "items = items.reset_index(drop=True)\n",
    "items.head()"
   ]
  },
  {
   "cell_type": "markdown",
   "id": "b5a880c6-e1fd-48a5-8b29-577fd5a9d1ef",
   "metadata": {},
   "source": [
    "Для удобства дальнейшей работы мы можем перекодировать идентификаторы треков:"
   ]
  },
  {
   "cell_type": "code",
   "execution_count": 53,
   "id": "b429e97f-c9d7-465d-b98e-24ad89108ff6",
   "metadata": {},
   "outputs": [
    {
     "data": {
      "text/html": [
       "<div>\n",
       "<style scoped>\n",
       "    .dataframe tbody tr th:only-of-type {\n",
       "        vertical-align: middle;\n",
       "    }\n",
       "\n",
       "    .dataframe tbody tr th {\n",
       "        vertical-align: top;\n",
       "    }\n",
       "\n",
       "    .dataframe thead th {\n",
       "        text-align: right;\n",
       "    }\n",
       "</style>\n",
       "<table border=\"1\" class=\"dataframe\">\n",
       "  <thead>\n",
       "    <tr style=\"text-align: right;\">\n",
       "      <th></th>\n",
       "      <th>track_id</th>\n",
       "      <th>track</th>\n",
       "      <th>artist</th>\n",
       "      <th>album</th>\n",
       "      <th>genre</th>\n",
       "      <th>track_id_encoded</th>\n",
       "    </tr>\n",
       "  </thead>\n",
       "  <tbody>\n",
       "    <tr>\n",
       "      <th>0</th>\n",
       "      <td>26</td>\n",
       "      <td>Complimentary Me</td>\n",
       "      <td>Elizabeth &amp; the Catapult</td>\n",
       "      <td>Taller Children</td>\n",
       "      <td>pop</td>\n",
       "      <td>0</td>\n",
       "    </tr>\n",
       "    <tr>\n",
       "      <th>1</th>\n",
       "      <td>38</td>\n",
       "      <td>Momma's Boy</td>\n",
       "      <td>Elizabeth &amp; the Catapult</td>\n",
       "      <td>Taller Children</td>\n",
       "      <td>pop</td>\n",
       "      <td>1</td>\n",
       "    </tr>\n",
       "    <tr>\n",
       "      <th>2</th>\n",
       "      <td>135</td>\n",
       "      <td>Atticus</td>\n",
       "      <td>Noisettes</td>\n",
       "      <td>Wild Young Hearts</td>\n",
       "      <td>pop</td>\n",
       "      <td>2</td>\n",
       "    </tr>\n",
       "    <tr>\n",
       "      <th>3</th>\n",
       "      <td>136</td>\n",
       "      <td>24 Hours</td>\n",
       "      <td>Noisettes</td>\n",
       "      <td>Wild Young Hearts</td>\n",
       "      <td>pop</td>\n",
       "      <td>3</td>\n",
       "    </tr>\n",
       "    <tr>\n",
       "      <th>4</th>\n",
       "      <td>138</td>\n",
       "      <td>Don't Upset The Rhythm (Go Baby Go)</td>\n",
       "      <td>Noisettes</td>\n",
       "      <td>Wild Young Hearts</td>\n",
       "      <td>pop</td>\n",
       "      <td>4</td>\n",
       "    </tr>\n",
       "  </tbody>\n",
       "</table>\n",
       "</div>"
      ],
      "text/plain": [
       "   track_id                                track                    artist  \\\n",
       "0        26                     Complimentary Me  Elizabeth & the Catapult   \n",
       "1        38                          Momma's Boy  Elizabeth & the Catapult   \n",
       "2       135                              Atticus                 Noisettes   \n",
       "3       136                             24 Hours                 Noisettes   \n",
       "4       138  Don't Upset The Rhythm (Go Baby Go)                 Noisettes   \n",
       "\n",
       "               album genre  track_id_encoded  \n",
       "0    Taller Children   pop                 0  \n",
       "1    Taller Children   pop                 1  \n",
       "2  Wild Young Hearts   pop                 2  \n",
       "3  Wild Young Hearts   pop                 3  \n",
       "4  Wild Young Hearts   pop                 4  "
      ]
     },
     "execution_count": 53,
     "metadata": {},
     "output_type": "execute_result"
    }
   ],
   "source": [
    "item_encoder = LabelEncoder()\n",
    "item_encoder.fit(items[\"track_id\"])\n",
    "items[\"track_id_encoded\"] = item_encoder.transform(items[\"track_id\"])\n",
    "items.head()"
   ]
  },
  {
   "cell_type": "markdown",
   "id": "15cc55ff-208c-42a5-a8a8-cfad798abc0f",
   "metadata": {},
   "source": [
    "Сохраним кодировщик идентификаторов треков в отдельном файле:"
   ]
  },
  {
   "cell_type": "code",
   "execution_count": 54,
   "id": "9d987e9a-0161-403f-ba8e-f54edc3d28a4",
   "metadata": {},
   "outputs": [],
   "source": [
    "try:\n",
    "    with open(\"encoders/item_encoder.pkl\", \"wb\") as fd:\n",
    "        joblib.dump(item_encoder, fd)\n",
    "except FileNotFoundError:\n",
    "    with open(\"item_encoder.pkl\", \"wb\") as fd:\n",
    "        joblib.dump(item_encoder, fd)"
   ]
  },
  {
   "cell_type": "markdown",
   "id": "88045719-e20d-4b90-9d7a-15112dca6723",
   "metadata": {},
   "source": [
    "Можем также сделать приведение типов для уменьшения объема занимаемой памяти:"
   ]
  },
  {
   "cell_type": "code",
   "execution_count": 55,
   "id": "70b36740-bf81-4277-86ea-5df2c6e9e750",
   "metadata": {},
   "outputs": [
    {
     "name": "stdout",
     "output_type": "stream",
     "text": [
      "<class 'pandas.core.frame.DataFrame'>\n",
      "RangeIndex: 1000000 entries, 0 to 999999\n",
      "Data columns (total 6 columns):\n",
      " #   Column            Non-Null Count    Dtype \n",
      "---  ------            --------------    ----- \n",
      " 0   track_id          1000000 non-null  int32 \n",
      " 1   track             1000000 non-null  object\n",
      " 2   artist            984631 non-null   object\n",
      " 3   album             999982 non-null   object\n",
      " 4   genre             996306 non-null   object\n",
      " 5   track_id_encoded  1000000 non-null  int64 \n",
      "dtypes: int32(1), int64(1), object(4)\n",
      "memory usage: 307.3 MB\n"
     ]
    }
   ],
   "source": [
    "items.info(memory_usage=\"deep\")"
   ]
  },
  {
   "cell_type": "code",
   "execution_count": 56,
   "id": "e74ac3ed-f073-4642-8f8e-4ea0e9a8504f",
   "metadata": {},
   "outputs": [],
   "source": [
    "items[\"track_id_encoded\"] = items[\"track_id_encoded\"].astype(\"int32\")"
   ]
  },
  {
   "cell_type": "code",
   "execution_count": 57,
   "id": "412d6285-3f0e-438e-8267-d6d1b6663501",
   "metadata": {},
   "outputs": [
    {
     "name": "stdout",
     "output_type": "stream",
     "text": [
      "<class 'pandas.core.frame.DataFrame'>\n",
      "RangeIndex: 1000000 entries, 0 to 999999\n",
      "Data columns (total 6 columns):\n",
      " #   Column            Non-Null Count    Dtype \n",
      "---  ------            --------------    ----- \n",
      " 0   track_id          1000000 non-null  int32 \n",
      " 1   track             1000000 non-null  object\n",
      " 2   artist            984631 non-null   object\n",
      " 3   album             999982 non-null   object\n",
      " 4   genre             996306 non-null   object\n",
      " 5   track_id_encoded  1000000 non-null  int32 \n",
      "dtypes: int32(2), object(4)\n",
      "memory usage: 303.5 MB\n"
     ]
    }
   ],
   "source": [
    "items.info(memory_usage=\"deep\")"
   ]
  },
  {
   "cell_type": "markdown",
   "id": "48e1fa5e-470e-4bb0-860c-ca577f3e2818",
   "metadata": {},
   "source": [
    "## Events"
   ]
  },
  {
   "cell_type": "markdown",
   "id": "87777db5-dcb6-496d-8a1c-f65fe5c5a936",
   "metadata": {},
   "source": [
    "Как было упомянуто ранее, будет проблематично работать с полным набором событий. Ранее мы рассматривали случайные 25% наблюдений из `events`, однако такой подход отсеивает некоторые события отдельных пользователей, что может повлиять на рекомендации. В данном случае возьмем не 25% данных, а именно 25% пользователей, чтобы мы смогли иметь все события для таких пользователей."
   ]
  },
  {
   "cell_type": "code",
   "execution_count": 58,
   "id": "6d72ca68-0090-420a-81e4-00ee2c009112",
   "metadata": {},
   "outputs": [
    {
     "data": {
      "text/plain": [
       "array([      0,       1,       2, ..., 1374580, 1374581, 1374582],\n",
       "      dtype=int32)"
      ]
     },
     "execution_count": 58,
     "metadata": {},
     "output_type": "execute_result"
    }
   ],
   "source": [
    "events_user_ids = events.user_id.unique()\n",
    "events_user_ids"
   ]
  },
  {
   "cell_type": "code",
   "execution_count": 59,
   "id": "a80943a2-1bb3-487f-9361-4a5e9cf7d290",
   "metadata": {},
   "outputs": [
    {
     "name": "stdout",
     "output_type": "stream",
     "text": [
      "Number of new unique users: 343,305\n"
     ]
    }
   ],
   "source": [
    "users_share = 0.25\n",
    "num_users = int(users_share * len(events_user_ids))\n",
    "print(\"Number of new unique users: {:,}\".format(num_users))"
   ]
  },
  {
   "cell_type": "code",
   "execution_count": 60,
   "id": "d3861722-14df-430e-9788-ecfbb41c091b",
   "metadata": {},
   "outputs": [
    {
     "data": {
      "text/plain": [
       "array([ 122068,  671804,  132054, ..., 1264082, 1169057,  732620],\n",
       "      dtype=int32)"
      ]
     },
     "execution_count": 60,
     "metadata": {},
     "output_type": "execute_result"
    }
   ],
   "source": [
    "np.random.seed(RANDOM_STATE)\n",
    "events_user_ids_new = np.random.choice(events_user_ids, size=num_users)\n",
    "events_user_ids_new"
   ]
  },
  {
   "cell_type": "code",
   "execution_count": 61,
   "id": "6af7e869-4a5a-4120-a916-1a7d85535c81",
   "metadata": {},
   "outputs": [
    {
     "name": "stdout",
     "output_type": "stream",
     "text": [
      "Number of events: 49,395,087\n"
     ]
    }
   ],
   "source": [
    "events = events[events.user_id.isin(events_user_ids_new)]\n",
    "print(\"Number of events: {:,}\".format(events.shape[0]))"
   ]
  },
  {
   "cell_type": "code",
   "execution_count": 62,
   "id": "56eb54d8-06ba-4392-8479-7081b5c7d2ba",
   "metadata": {},
   "outputs": [
    {
     "name": "stdout",
     "output_type": "stream",
     "text": [
      "<class 'pandas.core.frame.DataFrame'>\n",
      "Index: 49395087 entries, 0 to 23\n",
      "Data columns (total 3 columns):\n",
      " #   Column      Dtype         \n",
      "---  ------      -----         \n",
      " 0   user_id     int32         \n",
      " 1   track_id    int32         \n",
      " 2   started_at  datetime64[ns]\n",
      "dtypes: datetime64[ns](1), int32(2)\n",
      "memory usage: 1.1 GB\n"
     ]
    }
   ],
   "source": [
    "events.info()"
   ]
  },
  {
   "cell_type": "code",
   "execution_count": 63,
   "id": "771ad035-9df4-4c3c-b000-df09ce9243ae",
   "metadata": {},
   "outputs": [
    {
     "data": {
      "text/plain": [
       "user_id       0\n",
       "track_id      0\n",
       "started_at    0\n",
       "dtype: int64"
      ]
     },
     "execution_count": 63,
     "metadata": {},
     "output_type": "execute_result"
    }
   ],
   "source": [
    "events.isna().sum()"
   ]
  },
  {
   "cell_type": "code",
   "execution_count": 64,
   "id": "54e285c8-950b-4d2b-9f5c-e542b119fc7f",
   "metadata": {},
   "outputs": [
    {
     "data": {
      "text/html": [
       "<div>\n",
       "<style scoped>\n",
       "    .dataframe tbody tr th:only-of-type {\n",
       "        vertical-align: middle;\n",
       "    }\n",
       "\n",
       "    .dataframe tbody tr th {\n",
       "        vertical-align: top;\n",
       "    }\n",
       "\n",
       "    .dataframe thead th {\n",
       "        text-align: right;\n",
       "    }\n",
       "</style>\n",
       "<table border=\"1\" class=\"dataframe\">\n",
       "  <thead>\n",
       "    <tr style=\"text-align: right;\">\n",
       "      <th></th>\n",
       "      <th>user_id</th>\n",
       "      <th>track_id</th>\n",
       "      <th>started_at</th>\n",
       "    </tr>\n",
       "  </thead>\n",
       "  <tbody>\n",
       "    <tr>\n",
       "      <th>0</th>\n",
       "      <td>4</td>\n",
       "      <td>966</td>\n",
       "      <td>2022-03-29</td>\n",
       "    </tr>\n",
       "    <tr>\n",
       "      <th>1</th>\n",
       "      <td>4</td>\n",
       "      <td>4094</td>\n",
       "      <td>2022-03-29</td>\n",
       "    </tr>\n",
       "    <tr>\n",
       "      <th>2</th>\n",
       "      <td>4</td>\n",
       "      <td>9760</td>\n",
       "      <td>2022-03-29</td>\n",
       "    </tr>\n",
       "    <tr>\n",
       "      <th>3</th>\n",
       "      <td>4</td>\n",
       "      <td>9769</td>\n",
       "      <td>2022-03-31</td>\n",
       "    </tr>\n",
       "    <tr>\n",
       "      <th>4</th>\n",
       "      <td>4</td>\n",
       "      <td>18392</td>\n",
       "      <td>2022-04-01</td>\n",
       "    </tr>\n",
       "  </tbody>\n",
       "</table>\n",
       "</div>"
      ],
      "text/plain": [
       "   user_id  track_id started_at\n",
       "0        4       966 2022-03-29\n",
       "1        4      4094 2022-03-29\n",
       "2        4      9760 2022-03-29\n",
       "3        4      9769 2022-03-31\n",
       "4        4     18392 2022-04-01"
      ]
     },
     "execution_count": 64,
     "metadata": {},
     "output_type": "execute_result"
    }
   ],
   "source": [
    "events.head()"
   ]
  },
  {
   "cell_type": "markdown",
   "id": "ef2d5165-aa54-4394-bfe7-f31e627de6bd",
   "metadata": {},
   "source": [
    "Поступим таким же образом и перекодируем идентификаторы пользователей для удобства, а для треков используем уже обученный кодировщик треков:"
   ]
  },
  {
   "cell_type": "code",
   "execution_count": 65,
   "id": "00d2bf00-653a-4af3-bd02-e5699627def0",
   "metadata": {},
   "outputs": [
    {
     "name": "stdout",
     "output_type": "stream",
     "text": [
      "CPU times: user 11.1 s, sys: 758 ms, total: 11.9 s\n",
      "Wall time: 11.9 s\n"
     ]
    },
    {
     "data": {
      "text/html": [
       "<div>\n",
       "<style scoped>\n",
       "    .dataframe tbody tr th:only-of-type {\n",
       "        vertical-align: middle;\n",
       "    }\n",
       "\n",
       "    .dataframe tbody tr th {\n",
       "        vertical-align: top;\n",
       "    }\n",
       "\n",
       "    .dataframe thead th {\n",
       "        text-align: right;\n",
       "    }\n",
       "</style>\n",
       "<table border=\"1\" class=\"dataframe\">\n",
       "  <thead>\n",
       "    <tr style=\"text-align: right;\">\n",
       "      <th></th>\n",
       "      <th>user_id</th>\n",
       "      <th>track_id</th>\n",
       "      <th>started_at</th>\n",
       "      <th>user_id_encoded</th>\n",
       "      <th>track_id_encoded</th>\n",
       "    </tr>\n",
       "  </thead>\n",
       "  <tbody>\n",
       "    <tr>\n",
       "      <th>0</th>\n",
       "      <td>4</td>\n",
       "      <td>966</td>\n",
       "      <td>2022-03-29</td>\n",
       "      <td>0</td>\n",
       "      <td>93</td>\n",
       "    </tr>\n",
       "    <tr>\n",
       "      <th>1</th>\n",
       "      <td>4</td>\n",
       "      <td>4094</td>\n",
       "      <td>2022-03-29</td>\n",
       "      <td>0</td>\n",
       "      <td>881</td>\n",
       "    </tr>\n",
       "    <tr>\n",
       "      <th>2</th>\n",
       "      <td>4</td>\n",
       "      <td>9760</td>\n",
       "      <td>2022-03-29</td>\n",
       "      <td>0</td>\n",
       "      <td>1962</td>\n",
       "    </tr>\n",
       "    <tr>\n",
       "      <th>3</th>\n",
       "      <td>4</td>\n",
       "      <td>9769</td>\n",
       "      <td>2022-03-31</td>\n",
       "      <td>0</td>\n",
       "      <td>1966</td>\n",
       "    </tr>\n",
       "    <tr>\n",
       "      <th>4</th>\n",
       "      <td>4</td>\n",
       "      <td>18392</td>\n",
       "      <td>2022-04-01</td>\n",
       "      <td>0</td>\n",
       "      <td>3361</td>\n",
       "    </tr>\n",
       "  </tbody>\n",
       "</table>\n",
       "</div>"
      ],
      "text/plain": [
       "   user_id  track_id started_at  user_id_encoded  track_id_encoded\n",
       "0        4       966 2022-03-29                0                93\n",
       "1        4      4094 2022-03-29                0               881\n",
       "2        4      9760 2022-03-29                0              1962\n",
       "3        4      9769 2022-03-31                0              1966\n",
       "4        4     18392 2022-04-01                0              3361"
      ]
     },
     "execution_count": 65,
     "metadata": {},
     "output_type": "execute_result"
    }
   ],
   "source": [
    "%%time\n",
    "user_encoder = LabelEncoder()\n",
    "user_encoder.fit(events[\"user_id\"])\n",
    "events[\"user_id_encoded\"] = user_encoder.transform(events[\"user_id\"])\n",
    "events[\"track_id_encoded\"] = item_encoder.transform(events[\"track_id\"])\n",
    "events.head()"
   ]
  },
  {
   "cell_type": "markdown",
   "id": "6f7ff14b-f453-4064-81d6-3e165ea4a71d",
   "metadata": {},
   "source": [
    "Сохраним кодировщик идентификаторов пользователей:"
   ]
  },
  {
   "cell_type": "code",
   "execution_count": 66,
   "id": "22e002e2-000c-4dc0-be51-0e855dcf92c5",
   "metadata": {},
   "outputs": [],
   "source": [
    "try:\n",
    "    with open(\"encoders/user_encoder.pkl\", \"wb\") as fd:\n",
    "        joblib.dump(user_encoder, fd)\n",
    "except FileNotFoundError:\n",
    "    with open(\"user_encoder.pkl\", \"wb\") as fd:\n",
    "        joblib.dump(user_encoder, fd)"
   ]
  },
  {
   "cell_type": "markdown",
   "id": "4d1be653-eed8-4fa0-a9c5-3811b080d71d",
   "metadata": {},
   "source": [
    "# Сохранение данных"
   ]
  },
  {
   "cell_type": "markdown",
   "id": "36f1314a-3af3-4faf-a0b1-3045173d1500",
   "metadata": {},
   "source": [
    "Сохраним данные в двух файлах локально в папке `data` и в персональном S3-бакете по пути `recsys/data/`:\n",
    "- `items.parquet` — данные о музыкальных треках,\n",
    "- `events.parquet` — все данные о взаимодействиях (расчет на 25% случайных пользователей)."
   ]
  },
  {
   "cell_type": "code",
   "execution_count": 67,
   "id": "9f77af17-7705-4fae-9aad-db579b39faad",
   "metadata": {},
   "outputs": [],
   "source": [
    "try:\n",
    "    items.to_parquet(\"data/items.parquet\")\n",
    "    events.to_parquet(\"data/events.parquet\")\n",
    "except OSError:\n",
    "    items.to_parquet(\"items.parquet\")\n",
    "    events.to_parquet(\"events.parquet\")"
   ]
  },
  {
   "cell_type": "markdown",
   "id": "72ecbbed-c560-44d9-9c14-86c7dc76f399",
   "metadata": {},
   "source": [
    "# Очистка памяти"
   ]
  },
  {
   "cell_type": "markdown",
   "id": "b5358ede-ba6e-4c4f-bd73-5b9344f0ba79",
   "metadata": {},
   "source": [
    "Здесь, может понадобится очистка памяти для высвобождения ресурсов для выполнения кода ниже. \n",
    "\n",
    "Приведите соответствующие код, комментарии, например:\n",
    "- код для удаление более ненужных переменных,\n",
    "- комментарий, что следует перезапустить kernel, выполнить такие-то начальные секции и продолжить с этапа 3."
   ]
  },
  {
   "cell_type": "markdown",
   "id": "308f34e8-5315-4fdc-96df-d1985adb2cac",
   "metadata": {},
   "source": [
    "**NOTE:** *Чтобы не мучиться удалять все переменные, для продолжения здесь необходимо перезапустить kernel и выполнить самую первую ячейку с импортами.*"
   ]
  },
  {
   "cell_type": "markdown",
   "id": "708503df-ee89-4cf3-8489-093dc478e2a8",
   "metadata": {},
   "source": [
    "# === ЭТАП 3 ==="
   ]
  },
  {
   "cell_type": "markdown",
   "id": "fd77de22-e10f-4b42-85c1-8fb6f805fe68",
   "metadata": {},
   "source": [
    "# Загрузка данных"
   ]
  },
  {
   "cell_type": "markdown",
   "id": "780a4241-1ecd-4a3e-bbb3-fc2f6ca94f68",
   "metadata": {},
   "source": [
    "Загрузим кодировщики и сохраненные на предыдущем этапе данные."
   ]
  },
  {
   "cell_type": "code",
   "execution_count": 2,
   "id": "f19fc8a5-bd2c-40d7-864a-ee75aca6d512",
   "metadata": {},
   "outputs": [
    {
     "data": {
      "text/html": [
       "<div>\n",
       "<style scoped>\n",
       "    .dataframe tbody tr th:only-of-type {\n",
       "        vertical-align: middle;\n",
       "    }\n",
       "\n",
       "    .dataframe tbody tr th {\n",
       "        vertical-align: top;\n",
       "    }\n",
       "\n",
       "    .dataframe thead th {\n",
       "        text-align: right;\n",
       "    }\n",
       "</style>\n",
       "<table border=\"1\" class=\"dataframe\">\n",
       "  <thead>\n",
       "    <tr style=\"text-align: right;\">\n",
       "      <th></th>\n",
       "      <th>track_id</th>\n",
       "      <th>track</th>\n",
       "      <th>artist</th>\n",
       "      <th>album</th>\n",
       "      <th>genre</th>\n",
       "      <th>track_id_encoded</th>\n",
       "    </tr>\n",
       "  </thead>\n",
       "  <tbody>\n",
       "    <tr>\n",
       "      <th>987231</th>\n",
       "      <td>95229664</td>\n",
       "      <td>Have Yourself A Merry Little Christmas</td>\n",
       "      <td>Billy Porter</td>\n",
       "      <td>Have Yourself A Merry Little Christmas</td>\n",
       "      <td>pop</td>\n",
       "      <td>987231</td>\n",
       "    </tr>\n",
       "    <tr>\n",
       "      <th>79954</th>\n",
       "      <td>700056</td>\n",
       "      <td>Баллада о том, кто недожил (Прерванный полёт)</td>\n",
       "      <td>Владимир Высоцкий</td>\n",
       "      <td>Баллады к кинофильму «Бегство мистера Мак-Кинли»</td>\n",
       "      <td>rusbards</td>\n",
       "      <td>79954</td>\n",
       "    </tr>\n",
       "    <tr>\n",
       "      <th>567130</th>\n",
       "      <td>39019190</td>\n",
       "      <td>Осторожно</td>\n",
       "      <td>Группа «ГРЕЙС»</td>\n",
       "      <td>Верю и люблю</td>\n",
       "      <td>shanson</td>\n",
       "      <td>567130</td>\n",
       "    </tr>\n",
       "    <tr>\n",
       "      <th>500891</th>\n",
       "      <td>34625231</td>\n",
       "      <td>In The Air</td>\n",
       "      <td>Raven &amp; Kreyn</td>\n",
       "      <td>In The Air</td>\n",
       "      <td>electronics</td>\n",
       "      <td>500891</td>\n",
       "    </tr>\n",
       "    <tr>\n",
       "      <th>55399</th>\n",
       "      <td>518436</td>\n",
       "      <td>Take It In</td>\n",
       "      <td>Hot Chip</td>\n",
       "      <td>One Life Stand</td>\n",
       "      <td>electronics</td>\n",
       "      <td>55399</td>\n",
       "    </tr>\n",
       "  </tbody>\n",
       "</table>\n",
       "</div>"
      ],
      "text/plain": [
       "        track_id                                          track  \\\n",
       "987231  95229664         Have Yourself A Merry Little Christmas   \n",
       "79954     700056  Баллада о том, кто недожил (Прерванный полёт)   \n",
       "567130  39019190                                      Осторожно   \n",
       "500891  34625231                                     In The Air   \n",
       "55399     518436                                     Take It In   \n",
       "\n",
       "                   artist                                             album  \\\n",
       "987231       Billy Porter            Have Yourself A Merry Little Christmas   \n",
       "79954   Владимир Высоцкий  Баллады к кинофильму «Бегство мистера Мак-Кинли»   \n",
       "567130     Группа «ГРЕЙС»                                      Верю и люблю   \n",
       "500891      Raven & Kreyn                                        In The Air   \n",
       "55399            Hot Chip                                    One Life Stand   \n",
       "\n",
       "              genre  track_id_encoded  \n",
       "987231          pop            987231  \n",
       "79954      rusbards             79954  \n",
       "567130      shanson            567130  \n",
       "500891  electronics            500891  \n",
       "55399   electronics             55399  "
      ]
     },
     "execution_count": 2,
     "metadata": {},
     "output_type": "execute_result"
    }
   ],
   "source": [
    "try:\n",
    "    items = pd.read_parquet(\"data/items.parquet\")\n",
    "except FileNotFoundError:\n",
    "    items = pd.read_parquet(\"items.parquet\")\n",
    "items.sample(5, random_state=RANDOM_STATE)"
   ]
  },
  {
   "cell_type": "code",
   "execution_count": 3,
   "id": "5db1e801-5845-4ce3-86f2-c2fa30f68cc5",
   "metadata": {},
   "outputs": [
    {
     "data": {
      "text/html": [
       "<div>\n",
       "<style scoped>\n",
       "    .dataframe tbody tr th:only-of-type {\n",
       "        vertical-align: middle;\n",
       "    }\n",
       "\n",
       "    .dataframe tbody tr th {\n",
       "        vertical-align: top;\n",
       "    }\n",
       "\n",
       "    .dataframe thead th {\n",
       "        text-align: right;\n",
       "    }\n",
       "</style>\n",
       "<table border=\"1\" class=\"dataframe\">\n",
       "  <thead>\n",
       "    <tr style=\"text-align: right;\">\n",
       "      <th></th>\n",
       "      <th>user_id</th>\n",
       "      <th>track_id</th>\n",
       "      <th>started_at</th>\n",
       "      <th>user_id_encoded</th>\n",
       "      <th>track_id_encoded</th>\n",
       "    </tr>\n",
       "  </thead>\n",
       "  <tbody>\n",
       "    <tr>\n",
       "      <th>381</th>\n",
       "      <td>25406</td>\n",
       "      <td>20712541</td>\n",
       "      <td>2022-07-25</td>\n",
       "      <td>5626</td>\n",
       "      <td>319486</td>\n",
       "    </tr>\n",
       "    <tr>\n",
       "      <th>275</th>\n",
       "      <td>1251371</td>\n",
       "      <td>26405349</td>\n",
       "      <td>2022-08-31</td>\n",
       "      <td>276753</td>\n",
       "      <td>390789</td>\n",
       "    </tr>\n",
       "    <tr>\n",
       "      <th>21</th>\n",
       "      <td>790745</td>\n",
       "      <td>33290410</td>\n",
       "      <td>2022-12-05</td>\n",
       "      <td>174607</td>\n",
       "      <td>483320</td>\n",
       "    </tr>\n",
       "    <tr>\n",
       "      <th>560</th>\n",
       "      <td>388831</td>\n",
       "      <td>17562805</td>\n",
       "      <td>2022-07-18</td>\n",
       "      <td>85925</td>\n",
       "      <td>277908</td>\n",
       "    </tr>\n",
       "    <tr>\n",
       "      <th>7</th>\n",
       "      <td>867911</td>\n",
       "      <td>366707</td>\n",
       "      <td>2022-08-23</td>\n",
       "      <td>191746</td>\n",
       "      <td>43612</td>\n",
       "    </tr>\n",
       "  </tbody>\n",
       "</table>\n",
       "</div>"
      ],
      "text/plain": [
       "     user_id  track_id started_at  user_id_encoded  track_id_encoded\n",
       "381    25406  20712541 2022-07-25             5626            319486\n",
       "275  1251371  26405349 2022-08-31           276753            390789\n",
       "21    790745  33290410 2022-12-05           174607            483320\n",
       "560   388831  17562805 2022-07-18            85925            277908\n",
       "7     867911    366707 2022-08-23           191746             43612"
      ]
     },
     "execution_count": 3,
     "metadata": {},
     "output_type": "execute_result"
    }
   ],
   "source": [
    "try:\n",
    "    events = pd.read_parquet(\"data/events.parquet\")\n",
    "except FileNotFoundError:\n",
    "    events = pd.read_parquet(\"events.parquet\")\n",
    "events.sample(5, random_state=RANDOM_STATE)"
   ]
  },
  {
   "cell_type": "code",
   "execution_count": 4,
   "id": "6e72f861-1fe6-4d85-9224-e1091fba8452",
   "metadata": {},
   "outputs": [],
   "source": [
    "try:\n",
    "    with open(\"encoders/user_encoder.pkl\", \"rb\") as fd:\n",
    "        user_encoder = joblib.load(fd)\n",
    "except FileNotFoundError:\n",
    "    with open(\"user_encoder.pkl\", \"rb\") as fd:\n",
    "        user_encoder = joblib.load(fd)"
   ]
  },
  {
   "cell_type": "code",
   "execution_count": 5,
   "id": "47e684fa-d2b0-49d0-867d-11856ed9743d",
   "metadata": {},
   "outputs": [],
   "source": [
    "try:\n",
    "    with open(\"encoders/item_encoder.pkl\", \"rb\") as fd:\n",
    "        item_encoder = joblib.load(fd)\n",
    "except FileNotFoundError:\n",
    "    with open(\"item_encoder.pkl\", \"rb\") as fd:\n",
    "        item_encoder = joblib.load(fd)"
   ]
  },
  {
   "cell_type": "markdown",
   "id": "a694c023-6477-490b-939d-1cfa6f5f1b72",
   "metadata": {},
   "source": [
    "# Разбиение данных"
   ]
  },
  {
   "cell_type": "markdown",
   "id": "fbd5f6e0-54e7-4428-8678-eabce505d82c",
   "metadata": {},
   "source": [
    "Перед тем как разбить данные на тренировочную и тестовую выборки, необходимо придумать какой-то аналог рейтингу, ведь без него не будет возможно построить рекомендации. В качестве замены мы можем использовать нормализированные числа прослушиваний треков. Иными словами, прослушивания будут служить своеобразным рейтингом популярности треков у пользователей, а нормализация делается, чтобы привести трек к более понятному виду (где *1.0* будет у самого популярного трека)."
   ]
  },
  {
   "cell_type": "code",
   "execution_count": 6,
   "id": "aa86a904-851c-4bcb-aff9-44993aace5b7",
   "metadata": {},
   "outputs": [
    {
     "data": {
      "text/html": [
       "<div>\n",
       "<style scoped>\n",
       "    .dataframe tbody tr th:only-of-type {\n",
       "        vertical-align: middle;\n",
       "    }\n",
       "\n",
       "    .dataframe tbody tr th {\n",
       "        vertical-align: top;\n",
       "    }\n",
       "\n",
       "    .dataframe thead th {\n",
       "        text-align: right;\n",
       "    }\n",
       "</style>\n",
       "<table border=\"1\" class=\"dataframe\">\n",
       "  <thead>\n",
       "    <tr style=\"text-align: right;\">\n",
       "      <th></th>\n",
       "      <th>track_id_encoded</th>\n",
       "      <th>tracks_played</th>\n",
       "    </tr>\n",
       "  </thead>\n",
       "  <tbody>\n",
       "    <tr>\n",
       "      <th>0</th>\n",
       "      <td>1</td>\n",
       "      <td>0.000082</td>\n",
       "    </tr>\n",
       "    <tr>\n",
       "      <th>1</th>\n",
       "      <td>2</td>\n",
       "      <td>0.000367</td>\n",
       "    </tr>\n",
       "    <tr>\n",
       "      <th>2</th>\n",
       "      <td>3</td>\n",
       "      <td>0.000163</td>\n",
       "    </tr>\n",
       "    <tr>\n",
       "      <th>3</th>\n",
       "      <td>4</td>\n",
       "      <td>0.000245</td>\n",
       "    </tr>\n",
       "    <tr>\n",
       "      <th>4</th>\n",
       "      <td>5</td>\n",
       "      <td>0.000163</td>\n",
       "    </tr>\n",
       "    <tr>\n",
       "      <th>...</th>\n",
       "      <td>...</td>\n",
       "      <td>...</td>\n",
       "    </tr>\n",
       "    <tr>\n",
       "      <th>936071</th>\n",
       "      <td>999995</td>\n",
       "      <td>0.000082</td>\n",
       "    </tr>\n",
       "    <tr>\n",
       "      <th>936072</th>\n",
       "      <td>999996</td>\n",
       "      <td>0.000653</td>\n",
       "    </tr>\n",
       "    <tr>\n",
       "      <th>936073</th>\n",
       "      <td>999997</td>\n",
       "      <td>0.000122</td>\n",
       "    </tr>\n",
       "    <tr>\n",
       "      <th>936074</th>\n",
       "      <td>999998</td>\n",
       "      <td>0.000082</td>\n",
       "    </tr>\n",
       "    <tr>\n",
       "      <th>936075</th>\n",
       "      <td>999999</td>\n",
       "      <td>0.000367</td>\n",
       "    </tr>\n",
       "  </tbody>\n",
       "</table>\n",
       "<p>936076 rows × 2 columns</p>\n",
       "</div>"
      ],
      "text/plain": [
       "        track_id_encoded  tracks_played\n",
       "0                      1       0.000082\n",
       "1                      2       0.000367\n",
       "2                      3       0.000163\n",
       "3                      4       0.000245\n",
       "4                      5       0.000163\n",
       "...                  ...            ...\n",
       "936071            999995       0.000082\n",
       "936072            999996       0.000653\n",
       "936073            999997       0.000122\n",
       "936074            999998       0.000082\n",
       "936075            999999       0.000367\n",
       "\n",
       "[936076 rows x 2 columns]"
      ]
     },
     "execution_count": 6,
     "metadata": {},
     "output_type": "execute_result"
    }
   ],
   "source": [
    "# Computing track popularity rating\n",
    "track_popularity = events.groupby(\"track_id_encoded\")[\"user_id_encoded\"].count()\n",
    "track_popularity /= track_popularity.max()\n",
    "track_popularity = track_popularity.reset_index()\n",
    "track_popularity = track_popularity.rename(\n",
    "    columns={\n",
    "        \"user_id_encoded\": \"tracks_played\"\n",
    "    }\n",
    ")\n",
    "track_popularity"
   ]
  },
  {
   "cell_type": "markdown",
   "id": "353dc35a-d766-49bf-86f0-c403215a5146",
   "metadata": {},
   "source": [
    "Добавим рейтинг к данным о взаимодействиях:"
   ]
  },
  {
   "cell_type": "code",
   "execution_count": 7,
   "id": "6c1997c9-c1eb-4895-a4fc-254f18d52370",
   "metadata": {},
   "outputs": [
    {
     "data": {
      "text/html": [
       "<div>\n",
       "<style scoped>\n",
       "    .dataframe tbody tr th:only-of-type {\n",
       "        vertical-align: middle;\n",
       "    }\n",
       "\n",
       "    .dataframe tbody tr th {\n",
       "        vertical-align: top;\n",
       "    }\n",
       "\n",
       "    .dataframe thead th {\n",
       "        text-align: right;\n",
       "    }\n",
       "</style>\n",
       "<table border=\"1\" class=\"dataframe\">\n",
       "  <thead>\n",
       "    <tr style=\"text-align: right;\">\n",
       "      <th></th>\n",
       "      <th>user_id</th>\n",
       "      <th>track_id</th>\n",
       "      <th>started_at</th>\n",
       "      <th>user_id_encoded</th>\n",
       "      <th>track_id_encoded</th>\n",
       "      <th>tracks_played</th>\n",
       "    </tr>\n",
       "  </thead>\n",
       "  <tbody>\n",
       "    <tr>\n",
       "      <th>0</th>\n",
       "      <td>4</td>\n",
       "      <td>966</td>\n",
       "      <td>2022-03-29</td>\n",
       "      <td>0</td>\n",
       "      <td>93</td>\n",
       "      <td>0.019545</td>\n",
       "    </tr>\n",
       "    <tr>\n",
       "      <th>1</th>\n",
       "      <td>4</td>\n",
       "      <td>4094</td>\n",
       "      <td>2022-03-29</td>\n",
       "      <td>0</td>\n",
       "      <td>881</td>\n",
       "      <td>0.117227</td>\n",
       "    </tr>\n",
       "    <tr>\n",
       "      <th>2</th>\n",
       "      <td>4</td>\n",
       "      <td>9760</td>\n",
       "      <td>2022-03-29</td>\n",
       "      <td>0</td>\n",
       "      <td>1962</td>\n",
       "      <td>0.013628</td>\n",
       "    </tr>\n",
       "    <tr>\n",
       "      <th>3</th>\n",
       "      <td>4</td>\n",
       "      <td>9769</td>\n",
       "      <td>2022-03-31</td>\n",
       "      <td>0</td>\n",
       "      <td>1966</td>\n",
       "      <td>0.343561</td>\n",
       "    </tr>\n",
       "    <tr>\n",
       "      <th>4</th>\n",
       "      <td>4</td>\n",
       "      <td>18392</td>\n",
       "      <td>2022-04-01</td>\n",
       "      <td>0</td>\n",
       "      <td>3361</td>\n",
       "      <td>0.064918</td>\n",
       "    </tr>\n",
       "  </tbody>\n",
       "</table>\n",
       "</div>"
      ],
      "text/plain": [
       "   user_id  track_id started_at  user_id_encoded  track_id_encoded  \\\n",
       "0        4       966 2022-03-29                0                93   \n",
       "1        4      4094 2022-03-29                0               881   \n",
       "2        4      9760 2022-03-29                0              1962   \n",
       "3        4      9769 2022-03-31                0              1966   \n",
       "4        4     18392 2022-04-01                0              3361   \n",
       "\n",
       "   tracks_played  \n",
       "0       0.019545  \n",
       "1       0.117227  \n",
       "2       0.013628  \n",
       "3       0.343561  \n",
       "4       0.064918  "
      ]
     },
     "execution_count": 7,
     "metadata": {},
     "output_type": "execute_result"
    }
   ],
   "source": [
    "events = events.merge(\n",
    "    track_popularity,\n",
    "    on=\"track_id_encoded\",\n",
    "    how=\"left\"\n",
    ")\n",
    "events.head()"
   ]
  },
  {
   "cell_type": "markdown",
   "id": "5eca45be-671f-433a-a9d0-32337ddfc29e",
   "metadata": {},
   "source": [
    "Теперь мы можем разделить данные:"
   ]
  },
  {
   "cell_type": "code",
   "execution_count": 8,
   "id": "00c2dfa5-d8a2-47d1-922e-6eefee2c62d1",
   "metadata": {},
   "outputs": [
    {
     "name": "stdout",
     "output_type": "stream",
     "text": [
      "Train set events number: 46,309,577\n",
      "Test set events number: 3,085,510\n"
     ]
    }
   ],
   "source": [
    "train_test_global_time_split_date = pd.to_datetime(\"2022-12-16\")\n",
    "\n",
    "train_test_global_time_split_idx = events[\"started_at\"] < train_test_global_time_split_date\n",
    "events_train = events[train_test_global_time_split_idx].copy()\n",
    "events_test = events[~train_test_global_time_split_idx].copy()\n",
    "\n",
    "print(\"Train set events number: {:,}\".format(events_train.shape[0]))\n",
    "print(\"Test set events number: {:,}\".format(events_test.shape[0]))"
   ]
  },
  {
   "cell_type": "markdown",
   "id": "645dc4dd-fbb7-475b-8c82-e9d365db4d94",
   "metadata": {},
   "source": [
    "Дополнительно можем посмотреть на число уникальных пользователей на трейне и тесте, а также на число общих и холодных пользователей:"
   ]
  },
  {
   "cell_type": "code",
   "execution_count": 9,
   "id": "5bf2efb9-7497-4552-bd22-dec02fe033ee",
   "metadata": {},
   "outputs": [
    {
     "name": "stdout",
     "output_type": "stream",
     "text": [
      "Number of unique train users: 297,170\n",
      "Number of unique test users: 173,677\n",
      "Number of common users: 166,913\n",
      "Number of cold users: 6,764\n"
     ]
    }
   ],
   "source": [
    "users_train = events_train[\"user_id_encoded\"].drop_duplicates().tolist()\n",
    "users_test = events_test[\"user_id_encoded\"].drop_duplicates().tolist()\n",
    "\n",
    "common_users = set(users_train) & set(users_test)\n",
    "cold_users = (set(users_train) | set(users_test)) - set(users_train)\n",
    "\n",
    "print(\"Number of unique train users: {:,}\".format(len(users_train)))\n",
    "print(\"Number of unique test users: {:,}\".format(len(users_test)))\n",
    "print(\"Number of common users: {:,}\".format(len(common_users)))\n",
    "print(\"Number of cold users: {:,}\".format(len(cold_users)))"
   ]
  },
  {
   "cell_type": "markdown",
   "id": "9131c7e6-8852-4556-b510-51f7253cc299",
   "metadata": {},
   "source": [
    "# Топ популярных"
   ]
  },
  {
   "cell_type": "markdown",
   "id": "dd70d43a-88cc-4719-b291-feaed7136f30",
   "metadata": {},
   "source": [
    "Рассчитаем рекомендации как топ популярных (возьмем топ 100)."
   ]
  },
  {
   "cell_type": "code",
   "execution_count": 10,
   "id": "9452d56d-7485-48a4-9591-93e6c7af05e7",
   "metadata": {},
   "outputs": [
    {
     "data": {
      "text/html": [
       "<div>\n",
       "<style scoped>\n",
       "    .dataframe tbody tr th:only-of-type {\n",
       "        vertical-align: middle;\n",
       "    }\n",
       "\n",
       "    .dataframe tbody tr th {\n",
       "        vertical-align: top;\n",
       "    }\n",
       "\n",
       "    .dataframe thead th {\n",
       "        text-align: right;\n",
       "    }\n",
       "</style>\n",
       "<table border=\"1\" class=\"dataframe\">\n",
       "  <thead>\n",
       "    <tr style=\"text-align: right;\">\n",
       "      <th></th>\n",
       "      <th>track_id</th>\n",
       "      <th>track</th>\n",
       "      <th>artist</th>\n",
       "      <th>tracks_played</th>\n",
       "      <th>track_id_encoded</th>\n",
       "    </tr>\n",
       "  </thead>\n",
       "  <tbody>\n",
       "    <tr>\n",
       "      <th>0</th>\n",
       "      <td>53404</td>\n",
       "      <td>Smells Like Teen Spirit</td>\n",
       "      <td>Nirvana</td>\n",
       "      <td>24274</td>\n",
       "      <td>9098</td>\n",
       "    </tr>\n",
       "    <tr>\n",
       "      <th>1</th>\n",
       "      <td>33311009</td>\n",
       "      <td>Believer</td>\n",
       "      <td>Imagine Dragons</td>\n",
       "      <td>22382</td>\n",
       "      <td>483876</td>\n",
       "    </tr>\n",
       "    <tr>\n",
       "      <th>2</th>\n",
       "      <td>178529</td>\n",
       "      <td>Numb</td>\n",
       "      <td>Linkin Park</td>\n",
       "      <td>22198</td>\n",
       "      <td>26665</td>\n",
       "    </tr>\n",
       "    <tr>\n",
       "      <th>3</th>\n",
       "      <td>35505245</td>\n",
       "      <td>I Got Love</td>\n",
       "      <td>Miyagi &amp; Эндшпиль</td>\n",
       "      <td>21120</td>\n",
       "      <td>512157</td>\n",
       "    </tr>\n",
       "    <tr>\n",
       "      <th>4</th>\n",
       "      <td>24692821</td>\n",
       "      <td>Way Down We Go</td>\n",
       "      <td>KALEO</td>\n",
       "      <td>18719</td>\n",
       "      <td>368072</td>\n",
       "    </tr>\n",
       "    <tr>\n",
       "      <th>...</th>\n",
       "      <td>...</td>\n",
       "      <td>...</td>\n",
       "      <td>...</td>\n",
       "      <td>...</td>\n",
       "      <td>...</td>\n",
       "    </tr>\n",
       "    <tr>\n",
       "      <th>95</th>\n",
       "      <td>75944934</td>\n",
       "      <td>Astronaut In The Ocean</td>\n",
       "      <td>Masked Wolf</td>\n",
       "      <td>10550</td>\n",
       "      <td>904055</td>\n",
       "    </tr>\n",
       "    <tr>\n",
       "      <th>96</th>\n",
       "      <td>75642961</td>\n",
       "      <td>Венера-Юпитер</td>\n",
       "      <td>Ваня Дмитриенко</td>\n",
       "      <td>10541</td>\n",
       "      <td>902660</td>\n",
       "    </tr>\n",
       "    <tr>\n",
       "      <th>97</th>\n",
       "      <td>68348389</td>\n",
       "      <td>Minor</td>\n",
       "      <td>Miyagi &amp; Andy Panda</td>\n",
       "      <td>10516</td>\n",
       "      <td>848373</td>\n",
       "    </tr>\n",
       "    <tr>\n",
       "      <th>98</th>\n",
       "      <td>68562711</td>\n",
       "      <td>Сияй</td>\n",
       "      <td>Ramil'</td>\n",
       "      <td>10474</td>\n",
       "      <td>849895</td>\n",
       "    </tr>\n",
       "    <tr>\n",
       "      <th>99</th>\n",
       "      <td>29175370</td>\n",
       "      <td>Рапапам</td>\n",
       "      <td>9 грамм</td>\n",
       "      <td>10416</td>\n",
       "      <td>423054</td>\n",
       "    </tr>\n",
       "  </tbody>\n",
       "</table>\n",
       "<p>100 rows × 5 columns</p>\n",
       "</div>"
      ],
      "text/plain": [
       "    track_id                    track               artist  tracks_played  \\\n",
       "0      53404  Smells Like Teen Spirit              Nirvana          24274   \n",
       "1   33311009                 Believer      Imagine Dragons          22382   \n",
       "2     178529                     Numb          Linkin Park          22198   \n",
       "3   35505245               I Got Love    Miyagi & Эндшпиль          21120   \n",
       "4   24692821           Way Down We Go                KALEO          18719   \n",
       "..       ...                      ...                  ...            ...   \n",
       "95  75944934   Astronaut In The Ocean          Masked Wolf          10550   \n",
       "96  75642961            Венера-Юпитер      Ваня Дмитриенко          10541   \n",
       "97  68348389                    Minor  Miyagi & Andy Panda          10516   \n",
       "98  68562711                     Сияй               Ramil'          10474   \n",
       "99  29175370                  Рапапам              9 грамм          10416   \n",
       "\n",
       "    track_id_encoded  \n",
       "0               9098  \n",
       "1             483876  \n",
       "2              26665  \n",
       "3             512157  \n",
       "4             368072  \n",
       "..               ...  \n",
       "95            904055  \n",
       "96            902660  \n",
       "97            848373  \n",
       "98            849895  \n",
       "99            423054  \n",
       "\n",
       "[100 rows x 5 columns]"
      ]
     },
     "execution_count": 10,
     "metadata": {},
     "output_type": "execute_result"
    }
   ],
   "source": [
    "top_popular = events_train.track_id \\\n",
    "            .value_counts() \\\n",
    "            .head(100) \\\n",
    "            .reset_index() \\\n",
    "            .rename(\n",
    "                columns={\n",
    "                    \"count\": \"tracks_played\",\n",
    "                }\n",
    "            ) \\\n",
    "            .merge(\n",
    "                items[[\"track_id\", \"track\", \"artist\"]],\n",
    "                on=\"track_id\",\n",
    "                how=\"left\",\n",
    "            )[[\"track_id\", \"track\", \"artist\", \"tracks_played\"]]\n",
    "top_popular[\"track_id_encoded\"] = item_encoder.transform(top_popular[\"track_id\"])\n",
    "top_popular"
   ]
  },
  {
   "cell_type": "code",
   "execution_count": 11,
   "id": "b197bb04-6902-43c6-b80c-17b2492369d0",
   "metadata": {},
   "outputs": [],
   "source": [
    "try:\n",
    "    top_popular.to_parquet(\"data/top_popular.parquet\")\n",
    "except OSError:\n",
    "    top_popular.to_parquet(\"top_popular.parquet\")"
   ]
  },
  {
   "cell_type": "markdown",
   "id": "2ad231f2-6158-421a-b7fa-01d8bc3ed572",
   "metadata": {},
   "source": [
    "# Персональные"
   ]
  },
  {
   "cell_type": "markdown",
   "id": "86159460-cd9d-4b63-8248-604ea3c9aebf",
   "metadata": {},
   "source": [
    "Рассчитаем персональные рекомендации. Сначала создадим разреженную матрицу *user-item* со значениями рейтинга популярности как значения."
   ]
  },
  {
   "cell_type": "code",
   "execution_count": 12,
   "id": "d2944822-569c-4f9b-82dc-70a7fa2d542e",
   "metadata": {},
   "outputs": [
    {
     "data": {
      "text/plain": [
       "<Compressed Sparse Row sparse matrix of dtype 'int8'\n",
       "\twith 46309577 stored elements and shape (303934, 1000000)>"
      ]
     },
     "execution_count": 12,
     "metadata": {},
     "output_type": "execute_result"
    }
   ],
   "source": [
    "user_item_matrix_train = scipy.sparse.csr_matrix(\n",
    "    (\n",
    "    events_train[\"tracks_played\"],\n",
    "    (events_train[\"user_id_encoded\"], events_train[\"track_id_encoded\"])\n",
    "    ),\n",
    "    dtype=np.int8\n",
    ")\n",
    "user_item_matrix_train"
   ]
  },
  {
   "cell_type": "markdown",
   "id": "dded1382-d646-40a0-a62b-775a1dedbc84",
   "metadata": {},
   "source": [
    "Видим, что в нашей матрице 303934 строки (пользователи) и 1000000 колонок (треки). Теперь мы можем запустить алгоритм ALS:"
   ]
  },
  {
   "cell_type": "code",
   "execution_count": 13,
   "id": "4a26f2da-7ad0-4c8e-b4d0-5c8bc215a7a1",
   "metadata": {},
   "outputs": [
    {
     "name": "stderr",
     "output_type": "stream",
     "text": [
      "/home/mle-user/mle_projects/final_projects/mle-project-sprint-4-v001/.venv_recsys/lib/python3.10/site-packages/implicit/cpu/als.py:95: RuntimeWarning: OpenBLAS is configured to use 4 threads. It is highly recommended to disable its internal threadpool by setting the environment variable 'OPENBLAS_NUM_THREADS=1' or by calling 'threadpoolctl.threadpool_limits(1, \"blas\")'. Having OpenBLAS use a threadpool can lead to severe performance issues here.\n",
      "  check_blas_config()\n",
      "100%|██████████████████████████████████████████████████████████████████████████| 100/100 [11:11<00:00,  6.71s/it]\n"
     ]
    }
   ],
   "source": [
    "als_params = {\n",
    "    \"factors\": 50,\n",
    "    \"iterations\": 100,\n",
    "    \"regularization\": 0.05,\n",
    "    \"random_state\": RANDOM_STATE,\n",
    "}\n",
    "\n",
    "als_model = AlternatingLeastSquares(**als_params)\n",
    "als_model.fit(user_item_matrix_train)"
   ]
  },
  {
   "cell_type": "markdown",
   "id": "9f604da8-4a20-4452-a740-38ba5ced61c5",
   "metadata": {},
   "source": [
    "Теперь когда у нас есть обученная модель, ее можно использовать для генерации рекомендаций. Следующая ячейка рекомендует каждому пользователю по 10 треков (число 10 было выбрано ради более быстрого исполнения кода). В данной спецификации (25% пользователей + 10 рекомендаций), даже используя меньший объем наблюдений и `N=10`, код исполняется также довольно небыстро. \n",
    "\n",
    "**Note:** *Следующая ячейка генерирует рекомендации всем пользователям около 10 минут.*"
   ]
  },
  {
   "cell_type": "code",
   "execution_count": 14,
   "id": "49debd52-6117-47ee-b7e2-4c0bb691fe3b",
   "metadata": {},
   "outputs": [
    {
     "name": "stdout",
     "output_type": "stream",
     "text": [
      "CPU times: user 30min 3s, sys: 11min 37s, total: 41min 41s\n",
      "Wall time: 10min 36s\n"
     ]
    }
   ],
   "source": [
    "%%time\n",
    "# Retrieving all encoded user identifiers\n",
    "user_ids_encoded = range(len(user_encoder.classes_))\n",
    "\n",
    "# Getting recommendations for all users\n",
    "als_recommendations = als_model.recommend(\n",
    "    user_ids_encoded, \n",
    "    user_item_matrix_train[user_ids_encoded], \n",
    "    filter_already_liked_items=False, \n",
    "    N=10,\n",
    ")"
   ]
  },
  {
   "cell_type": "markdown",
   "id": "178635a1-d9a3-4d26-aa46-b1d3d9fc7c07",
   "metadata": {},
   "source": [
    "Теперь приведем результат метода `recommend` в более понятный вид:"
   ]
  },
  {
   "cell_type": "code",
   "execution_count": 15,
   "id": "eef2c839-aa27-448b-ba79-f8b1b4600317",
   "metadata": {},
   "outputs": [],
   "source": [
    "# Separating identifiers and ALS-scores\n",
    "track_ids_encoded = als_recommendations[0]\n",
    "als_scores = als_recommendations[1]\n",
    "\n",
    "# Building a DataFrame of recommendations\n",
    "als_recommendations = pd.DataFrame({\n",
    "    \"user_id_encoded\": user_ids_encoded,\n",
    "    \"track_id_encoded\": track_ids_encoded.tolist(), \n",
    "    \"score\": als_scores.tolist(),\n",
    "})\n",
    "als_recommendations = als_recommendations.explode([\"track_id_encoded\", \"score\"], ignore_index=True)\n",
    "\n",
    "# Types conversions\n",
    "als_recommendations[\"track_id_encoded\"] = als_recommendations[\"track_id_encoded\"].astype(\"int\")\n",
    "als_recommendations[\"score\"] = als_recommendations[\"score\"].astype(\"float\")\n",
    "\n",
    "# Retrieving the original identifiers\n",
    "als_recommendations[\"user_id\"] = user_encoder.inverse_transform(als_recommendations[\"user_id_encoded\"])\n",
    "als_recommendations[\"track_id\"] = item_encoder.inverse_transform(als_recommendations[\"track_id_encoded\"])\n",
    "als_recommendations = als_recommendations.drop(columns=[\"user_id_encoded\", \"track_id_encoded\"])\n",
    "\n",
    "# Rearranging columns\n",
    "als_recommendations = als_recommendations[[\"user_id\", \"track_id\", \"score\"]]"
   ]
  },
  {
   "cell_type": "code",
   "execution_count": 16,
   "id": "0d71bc8f-0c93-429c-9ab5-5f91fbd15d67",
   "metadata": {},
   "outputs": [
    {
     "data": {
      "text/html": [
       "<div>\n",
       "<style scoped>\n",
       "    .dataframe tbody tr th:only-of-type {\n",
       "        vertical-align: middle;\n",
       "    }\n",
       "\n",
       "    .dataframe tbody tr th {\n",
       "        vertical-align: top;\n",
       "    }\n",
       "\n",
       "    .dataframe thead th {\n",
       "        text-align: right;\n",
       "    }\n",
       "</style>\n",
       "<table border=\"1\" class=\"dataframe\">\n",
       "  <thead>\n",
       "    <tr style=\"text-align: right;\">\n",
       "      <th></th>\n",
       "      <th>user_id</th>\n",
       "      <th>track_id</th>\n",
       "      <th>score</th>\n",
       "    </tr>\n",
       "  </thead>\n",
       "  <tbody>\n",
       "    <tr>\n",
       "      <th>0</th>\n",
       "      <td>4</td>\n",
       "      <td>53404</td>\n",
       "      <td>1.788324e-13</td>\n",
       "    </tr>\n",
       "    <tr>\n",
       "      <th>1</th>\n",
       "      <td>4</td>\n",
       "      <td>50834580</td>\n",
       "      <td>4.845297e-20</td>\n",
       "    </tr>\n",
       "    <tr>\n",
       "      <th>2</th>\n",
       "      <td>4</td>\n",
       "      <td>81848875</td>\n",
       "      <td>4.298855e-20</td>\n",
       "    </tr>\n",
       "    <tr>\n",
       "      <th>3</th>\n",
       "      <td>4</td>\n",
       "      <td>32182642</td>\n",
       "      <td>4.107725e-20</td>\n",
       "    </tr>\n",
       "    <tr>\n",
       "      <th>4</th>\n",
       "      <td>4</td>\n",
       "      <td>49961817</td>\n",
       "      <td>3.987751e-20</td>\n",
       "    </tr>\n",
       "    <tr>\n",
       "      <th>...</th>\n",
       "      <td>...</td>\n",
       "      <td>...</td>\n",
       "      <td>...</td>\n",
       "    </tr>\n",
       "    <tr>\n",
       "      <th>3039335</th>\n",
       "      <td>1374579</td>\n",
       "      <td>88476064</td>\n",
       "      <td>7.005857e-20</td>\n",
       "    </tr>\n",
       "    <tr>\n",
       "      <th>3039336</th>\n",
       "      <td>1374579</td>\n",
       "      <td>43716993</td>\n",
       "      <td>6.977971e-20</td>\n",
       "    </tr>\n",
       "    <tr>\n",
       "      <th>3039337</th>\n",
       "      <td>1374579</td>\n",
       "      <td>628320</td>\n",
       "      <td>6.969311e-20</td>\n",
       "    </tr>\n",
       "    <tr>\n",
       "      <th>3039338</th>\n",
       "      <td>1374579</td>\n",
       "      <td>29611476</td>\n",
       "      <td>6.623787e-20</td>\n",
       "    </tr>\n",
       "    <tr>\n",
       "      <th>3039339</th>\n",
       "      <td>1374579</td>\n",
       "      <td>81275802</td>\n",
       "      <td>6.149881e-20</td>\n",
       "    </tr>\n",
       "  </tbody>\n",
       "</table>\n",
       "<p>3039340 rows × 3 columns</p>\n",
       "</div>"
      ],
      "text/plain": [
       "         user_id  track_id         score\n",
       "0              4     53404  1.788324e-13\n",
       "1              4  50834580  4.845297e-20\n",
       "2              4  81848875  4.298855e-20\n",
       "3              4  32182642  4.107725e-20\n",
       "4              4  49961817  3.987751e-20\n",
       "...          ...       ...           ...\n",
       "3039335  1374579  88476064  7.005857e-20\n",
       "3039336  1374579  43716993  6.977971e-20\n",
       "3039337  1374579    628320  6.969311e-20\n",
       "3039338  1374579  29611476  6.623787e-20\n",
       "3039339  1374579  81275802  6.149881e-20\n",
       "\n",
       "[3039340 rows x 3 columns]"
      ]
     },
     "execution_count": 16,
     "metadata": {},
     "output_type": "execute_result"
    }
   ],
   "source": [
    "als_recommendations"
   ]
  },
  {
   "cell_type": "markdown",
   "id": "1b6daf5e-00b7-4733-aaf4-619f5f659733",
   "metadata": {},
   "source": [
    "То есть теперь для каждого пользователя у нас есть по 10 рекомендаций, например:"
   ]
  },
  {
   "cell_type": "code",
   "execution_count": 17,
   "id": "c143e9b5-5738-44ac-b495-07d4ed50edb0",
   "metadata": {},
   "outputs": [
    {
     "data": {
      "text/html": [
       "<div>\n",
       "<style scoped>\n",
       "    .dataframe tbody tr th:only-of-type {\n",
       "        vertical-align: middle;\n",
       "    }\n",
       "\n",
       "    .dataframe tbody tr th {\n",
       "        vertical-align: top;\n",
       "    }\n",
       "\n",
       "    .dataframe thead th {\n",
       "        text-align: right;\n",
       "    }\n",
       "</style>\n",
       "<table border=\"1\" class=\"dataframe\">\n",
       "  <thead>\n",
       "    <tr style=\"text-align: right;\">\n",
       "      <th></th>\n",
       "      <th>user_id</th>\n",
       "      <th>track_id</th>\n",
       "      <th>score</th>\n",
       "      <th>track</th>\n",
       "      <th>artist</th>\n",
       "      <th>album</th>\n",
       "      <th>genre</th>\n",
       "      <th>track_id_encoded</th>\n",
       "    </tr>\n",
       "  </thead>\n",
       "  <tbody>\n",
       "    <tr>\n",
       "      <th>0</th>\n",
       "      <td>4</td>\n",
       "      <td>53404</td>\n",
       "      <td>1.788324e-13</td>\n",
       "      <td>Smells Like Teen Spirit</td>\n",
       "      <td>Nirvana</td>\n",
       "      <td>Nevermind</td>\n",
       "      <td>alternative</td>\n",
       "      <td>9098</td>\n",
       "    </tr>\n",
       "    <tr>\n",
       "      <th>1</th>\n",
       "      <td>4</td>\n",
       "      <td>50834580</td>\n",
       "      <td>4.845297e-20</td>\n",
       "      <td>Девочка-война</td>\n",
       "      <td>HammAli &amp; Navai</td>\n",
       "      <td>Девочка-война</td>\n",
       "      <td>rusrap</td>\n",
       "      <td>692312</td>\n",
       "    </tr>\n",
       "    <tr>\n",
       "      <th>2</th>\n",
       "      <td>4</td>\n",
       "      <td>81848875</td>\n",
       "      <td>4.298855e-20</td>\n",
       "      <td>Федерико Феллини</td>\n",
       "      <td>Galibri &amp; Mavik</td>\n",
       "      <td>Федерико Феллини</td>\n",
       "      <td>pop</td>\n",
       "      <td>935913</td>\n",
       "    </tr>\n",
       "    <tr>\n",
       "      <th>3</th>\n",
       "      <td>4</td>\n",
       "      <td>32182642</td>\n",
       "      <td>4.107725e-20</td>\n",
       "      <td>Лирика</td>\n",
       "      <td>Filatov &amp; Karas</td>\n",
       "      <td>Лирика</td>\n",
       "      <td>dance</td>\n",
       "      <td>461481</td>\n",
       "    </tr>\n",
       "    <tr>\n",
       "      <th>4</th>\n",
       "      <td>4</td>\n",
       "      <td>49961817</td>\n",
       "      <td>3.987751e-20</td>\n",
       "      <td>Грустный дэнс</td>\n",
       "      <td>Artik &amp; Asti</td>\n",
       "      <td>Грустный дэнс</td>\n",
       "      <td>pop</td>\n",
       "      <td>682662</td>\n",
       "    </tr>\n",
       "    <tr>\n",
       "      <th>5</th>\n",
       "      <td>4</td>\n",
       "      <td>54837415</td>\n",
       "      <td>3.808033e-20</td>\n",
       "      <td>Пчеловод</td>\n",
       "      <td>RASA</td>\n",
       "      <td>Пчеловод</td>\n",
       "      <td>pop</td>\n",
       "      <td>732487</td>\n",
       "    </tr>\n",
       "    <tr>\n",
       "      <th>6</th>\n",
       "      <td>4</td>\n",
       "      <td>48591588</td>\n",
       "      <td>3.772809e-20</td>\n",
       "      <td>Моя игра</td>\n",
       "      <td>Баста</td>\n",
       "      <td>БАСТА 1</td>\n",
       "      <td>rusrap</td>\n",
       "      <td>671818</td>\n",
       "    </tr>\n",
       "    <tr>\n",
       "      <th>7</th>\n",
       "      <td>4</td>\n",
       "      <td>1695498</td>\n",
       "      <td>3.713159e-20</td>\n",
       "      <td>Что такое осень</td>\n",
       "      <td>ДДТ</td>\n",
       "      <td>Актриса Весна</td>\n",
       "      <td>rusrock</td>\n",
       "      <td>110532</td>\n",
       "    </tr>\n",
       "    <tr>\n",
       "      <th>8</th>\n",
       "      <td>4</td>\n",
       "      <td>72055319</td>\n",
       "      <td>3.498404e-20</td>\n",
       "      <td>Снова я напиваюсь</td>\n",
       "      <td>SLAVA MARLOW</td>\n",
       "      <td>Снова я напиваюсь</td>\n",
       "      <td>rusrap</td>\n",
       "      <td>876846</td>\n",
       "    </tr>\n",
       "    <tr>\n",
       "      <th>9</th>\n",
       "      <td>4</td>\n",
       "      <td>68938482</td>\n",
       "      <td>3.366973e-20</td>\n",
       "      <td>Не пускайте танцевать</td>\n",
       "      <td>Timran</td>\n",
       "      <td>Не пускайте танцевать</td>\n",
       "      <td>dance</td>\n",
       "      <td>852574</td>\n",
       "    </tr>\n",
       "  </tbody>\n",
       "</table>\n",
       "</div>"
      ],
      "text/plain": [
       "   user_id  track_id         score                    track           artist  \\\n",
       "0        4     53404  1.788324e-13  Smells Like Teen Spirit          Nirvana   \n",
       "1        4  50834580  4.845297e-20            Девочка-война  HammAli & Navai   \n",
       "2        4  81848875  4.298855e-20         Федерико Феллини  Galibri & Mavik   \n",
       "3        4  32182642  4.107725e-20                   Лирика  Filatov & Karas   \n",
       "4        4  49961817  3.987751e-20            Грустный дэнс     Artik & Asti   \n",
       "5        4  54837415  3.808033e-20                 Пчеловод             RASA   \n",
       "6        4  48591588  3.772809e-20                 Моя игра            Баста   \n",
       "7        4   1695498  3.713159e-20          Что такое осень              ДДТ   \n",
       "8        4  72055319  3.498404e-20        Снова я напиваюсь     SLAVA MARLOW   \n",
       "9        4  68938482  3.366973e-20    Не пускайте танцевать           Timran   \n",
       "\n",
       "                   album        genre  track_id_encoded  \n",
       "0              Nevermind  alternative              9098  \n",
       "1          Девочка-война       rusrap            692312  \n",
       "2       Федерико Феллини          pop            935913  \n",
       "3                 Лирика        dance            461481  \n",
       "4          Грустный дэнс          pop            682662  \n",
       "5               Пчеловод          pop            732487  \n",
       "6                БАСТА 1       rusrap            671818  \n",
       "7          Актриса Весна      rusrock            110532  \n",
       "8      Снова я напиваюсь       rusrap            876846  \n",
       "9  Не пускайте танцевать        dance            852574  "
      ]
     },
     "execution_count": 17,
     "metadata": {},
     "output_type": "execute_result"
    }
   ],
   "source": [
    "als_recommendations.query(\"user_id == 4\").merge(items, on=\"track_id\", how=\"left\")"
   ]
  },
  {
   "cell_type": "code",
   "execution_count": 18,
   "id": "4740667d-11fa-4d42-af7f-5350d3cce5ee",
   "metadata": {},
   "outputs": [
    {
     "name": "stdout",
     "output_type": "stream",
     "text": [
      "<class 'pandas.core.frame.DataFrame'>\n",
      "RangeIndex: 3039340 entries, 0 to 3039339\n",
      "Data columns (total 3 columns):\n",
      " #   Column    Dtype  \n",
      "---  ------    -----  \n",
      " 0   user_id   int32  \n",
      " 1   track_id  int32  \n",
      " 2   score     float64\n",
      "dtypes: float64(1), int32(2)\n",
      "memory usage: 46.4 MB\n"
     ]
    }
   ],
   "source": [
    "als_recommendations.info()"
   ]
  },
  {
   "cell_type": "markdown",
   "id": "ec7a86fd-1421-4c5c-a338-faf90d92439b",
   "metadata": {},
   "source": [
    "Визуально можем также взглянуть как последние действия пользователя соотносятся с сгенерированными рекомендациями:"
   ]
  },
  {
   "cell_type": "code",
   "execution_count": 19,
   "id": "7d835a7a-b35f-421b-9302-03ba333843df",
   "metadata": {},
   "outputs": [
    {
     "name": "stdout",
     "output_type": "stream",
     "text": [
      "Last 10 events for 'user_id=448'\n"
     ]
    },
    {
     "data": {
      "text/html": [
       "<div>\n",
       "<style scoped>\n",
       "    .dataframe tbody tr th:only-of-type {\n",
       "        vertical-align: middle;\n",
       "    }\n",
       "\n",
       "    .dataframe tbody tr th {\n",
       "        vertical-align: top;\n",
       "    }\n",
       "\n",
       "    .dataframe thead th {\n",
       "        text-align: right;\n",
       "    }\n",
       "</style>\n",
       "<table border=\"1\" class=\"dataframe\">\n",
       "  <thead>\n",
       "    <tr style=\"text-align: right;\">\n",
       "      <th></th>\n",
       "      <th>user_id</th>\n",
       "      <th>track_id</th>\n",
       "      <th>track</th>\n",
       "      <th>artist</th>\n",
       "      <th>album</th>\n",
       "      <th>genre</th>\n",
       "    </tr>\n",
       "  </thead>\n",
       "  <tbody>\n",
       "    <tr>\n",
       "      <th>0</th>\n",
       "      <td>448</td>\n",
       "      <td>81160369</td>\n",
       "      <td>Словно Ветер В Степи</td>\n",
       "      <td>G63 BEATS.</td>\n",
       "      <td>Словно Ветер В Степи</td>\n",
       "      <td>electronics</td>\n",
       "    </tr>\n",
       "    <tr>\n",
       "      <th>1</th>\n",
       "      <td>448</td>\n",
       "      <td>82212331</td>\n",
       "      <td>Восемь</td>\n",
       "      <td>Лилу45</td>\n",
       "      <td>Восемь</td>\n",
       "      <td>local-indie</td>\n",
       "    </tr>\n",
       "    <tr>\n",
       "      <th>2</th>\n",
       "      <td>448</td>\n",
       "      <td>86052167</td>\n",
       "      <td>каждый, кто делал тебе больно</td>\n",
       "      <td>забей, лерочка</td>\n",
       "      <td>каждый, кто делал тебе больно</td>\n",
       "      <td>local-indie</td>\n",
       "    </tr>\n",
       "    <tr>\n",
       "      <th>3</th>\n",
       "      <td>448</td>\n",
       "      <td>86324491</td>\n",
       "      <td>Asereje</td>\n",
       "      <td>Dj Quba</td>\n",
       "      <td>Asereje</td>\n",
       "      <td>dance</td>\n",
       "    </tr>\n",
       "    <tr>\n",
       "      <th>4</th>\n",
       "      <td>448</td>\n",
       "      <td>86925158</td>\n",
       "      <td>My Mother Told Me</td>\n",
       "      <td>Cullen Vance</td>\n",
       "      <td>My Mother Told Me</td>\n",
       "      <td>folk</td>\n",
       "    </tr>\n",
       "    <tr>\n",
       "      <th>5</th>\n",
       "      <td>448</td>\n",
       "      <td>88322889</td>\n",
       "      <td>Drive Forever</td>\n",
       "      <td>kingmichaelbeats</td>\n",
       "      <td>Drive Forever</td>\n",
       "      <td>rap</td>\n",
       "    </tr>\n",
       "    <tr>\n",
       "      <th>6</th>\n",
       "      <td>448</td>\n",
       "      <td>89428582</td>\n",
       "      <td>Samedy</td>\n",
       "      <td>Канцлер ГИ</td>\n",
       "      <td>Вуду Tales</td>\n",
       "      <td>rusrock</td>\n",
       "    </tr>\n",
       "    <tr>\n",
       "      <th>7</th>\n",
       "      <td>448</td>\n",
       "      <td>89977237</td>\n",
       "      <td>У России три пути</td>\n",
       "      <td>GSPD</td>\n",
       "      <td>У России три пути</td>\n",
       "      <td>dance</td>\n",
       "    </tr>\n",
       "    <tr>\n",
       "      <th>8</th>\n",
       "      <td>448</td>\n",
       "      <td>91786354</td>\n",
       "      <td>Logobi Type Beat</td>\n",
       "      <td>ParoxingBeatz</td>\n",
       "      <td>Logobi Type Beat</td>\n",
       "      <td>electronics</td>\n",
       "    </tr>\n",
       "    <tr>\n",
       "      <th>9</th>\n",
       "      <td>448</td>\n",
       "      <td>94130071</td>\n",
       "      <td>Слава роду</td>\n",
       "      <td>HELVEGEN</td>\n",
       "      <td>Один из нас</td>\n",
       "      <td>folk</td>\n",
       "    </tr>\n",
       "  </tbody>\n",
       "</table>\n",
       "</div>"
      ],
      "text/plain": [
       "   user_id  track_id                          track            artist  \\\n",
       "0      448  81160369           Словно Ветер В Степи        G63 BEATS.   \n",
       "1      448  82212331                         Восемь            Лилу45   \n",
       "2      448  86052167  каждый, кто делал тебе больно    забей, лерочка   \n",
       "3      448  86324491                        Asereje           Dj Quba   \n",
       "4      448  86925158              My Mother Told Me      Cullen Vance   \n",
       "5      448  88322889                  Drive Forever  kingmichaelbeats   \n",
       "6      448  89428582                         Samedy        Канцлер ГИ   \n",
       "7      448  89977237              У России три пути              GSPD   \n",
       "8      448  91786354               Logobi Type Beat     ParoxingBeatz   \n",
       "9      448  94130071                     Слава роду          HELVEGEN   \n",
       "\n",
       "                           album        genre  \n",
       "0           Словно Ветер В Степи  electronics  \n",
       "1                         Восемь  local-indie  \n",
       "2  каждый, кто делал тебе больно  local-indie  \n",
       "3                        Asereje        dance  \n",
       "4              My Mother Told Me         folk  \n",
       "5                  Drive Forever          rap  \n",
       "6                     Вуду Tales      rusrock  \n",
       "7              У России три пути        dance  \n",
       "8               Logobi Type Beat  electronics  \n",
       "9                    Один из нас         folk  "
      ]
     },
     "metadata": {},
     "output_type": "display_data"
    },
    {
     "name": "stdout",
     "output_type": "stream",
     "text": [
      "Recommendations for 'user_id=448'\n"
     ]
    },
    {
     "data": {
      "text/html": [
       "<div>\n",
       "<style scoped>\n",
       "    .dataframe tbody tr th:only-of-type {\n",
       "        vertical-align: middle;\n",
       "    }\n",
       "\n",
       "    .dataframe tbody tr th {\n",
       "        vertical-align: top;\n",
       "    }\n",
       "\n",
       "    .dataframe thead th {\n",
       "        text-align: right;\n",
       "    }\n",
       "</style>\n",
       "<table border=\"1\" class=\"dataframe\">\n",
       "  <thead>\n",
       "    <tr style=\"text-align: right;\">\n",
       "      <th></th>\n",
       "      <th>user_id</th>\n",
       "      <th>track_id</th>\n",
       "      <th>track</th>\n",
       "      <th>artist</th>\n",
       "      <th>album</th>\n",
       "      <th>genre</th>\n",
       "    </tr>\n",
       "  </thead>\n",
       "  <tbody>\n",
       "    <tr>\n",
       "      <th>0</th>\n",
       "      <td>448</td>\n",
       "      <td>43526313</td>\n",
       "      <td>Детство</td>\n",
       "      <td>Rauf &amp; Faik</td>\n",
       "      <td>Я люблю тебя</td>\n",
       "      <td>pop</td>\n",
       "    </tr>\n",
       "    <tr>\n",
       "      <th>1</th>\n",
       "      <td>448</td>\n",
       "      <td>6024130</td>\n",
       "      <td>Дыхание</td>\n",
       "      <td>Nautilus Pompilius</td>\n",
       "      <td>Крылья</td>\n",
       "      <td>rusrock</td>\n",
       "    </tr>\n",
       "    <tr>\n",
       "      <th>2</th>\n",
       "      <td>448</td>\n",
       "      <td>2786766</td>\n",
       "      <td>We Are Young</td>\n",
       "      <td>Fun.</td>\n",
       "      <td>We Are Young</td>\n",
       "      <td>alternative</td>\n",
       "    </tr>\n",
       "    <tr>\n",
       "      <th>3</th>\n",
       "      <td>448</td>\n",
       "      <td>58515506</td>\n",
       "      <td>Увезите меня на Дип-хаус</td>\n",
       "      <td>GAYAZOV$ BROTHER$</td>\n",
       "      <td>Увезите меня на Дип-хаус</td>\n",
       "      <td>pop</td>\n",
       "    </tr>\n",
       "    <tr>\n",
       "      <th>4</th>\n",
       "      <td>448</td>\n",
       "      <td>47627256</td>\n",
       "      <td>Cradles</td>\n",
       "      <td>Sub Urban</td>\n",
       "      <td>Cradles</td>\n",
       "      <td>electronics</td>\n",
       "    </tr>\n",
       "    <tr>\n",
       "      <th>5</th>\n",
       "      <td>448</td>\n",
       "      <td>73376988</td>\n",
       "      <td>Ягода малинка</td>\n",
       "      <td>ХАБИБ</td>\n",
       "      <td>Ягода малинка</td>\n",
       "      <td>pop</td>\n",
       "    </tr>\n",
       "    <tr>\n",
       "      <th>6</th>\n",
       "      <td>448</td>\n",
       "      <td>48592141</td>\n",
       "      <td>Положение</td>\n",
       "      <td>Скриптонит</td>\n",
       "      <td>Уроборос: Улица 36</td>\n",
       "      <td>rusrap</td>\n",
       "    </tr>\n",
       "    <tr>\n",
       "      <th>7</th>\n",
       "      <td>448</td>\n",
       "      <td>31105795</td>\n",
       "      <td>Молодые ветра</td>\n",
       "      <td>7Б</td>\n",
       "      <td>Новая коллекция. Лучшие песни</td>\n",
       "      <td>rusrock</td>\n",
       "    </tr>\n",
       "    <tr>\n",
       "      <th>8</th>\n",
       "      <td>448</td>\n",
       "      <td>52380688</td>\n",
       "      <td>Любимка</td>\n",
       "      <td>NILETTO</td>\n",
       "      <td>Любимка</td>\n",
       "      <td>pop</td>\n",
       "    </tr>\n",
       "    <tr>\n",
       "      <th>9</th>\n",
       "      <td>448</td>\n",
       "      <td>42727040</td>\n",
       "      <td>Hislerim</td>\n",
       "      <td>Serhat Durmus</td>\n",
       "      <td>Hislerim</td>\n",
       "      <td>electronics</td>\n",
       "    </tr>\n",
       "  </tbody>\n",
       "</table>\n",
       "</div>"
      ],
      "text/plain": [
       "   user_id  track_id                     track              artist  \\\n",
       "0      448  43526313                   Детство         Rauf & Faik   \n",
       "1      448   6024130                   Дыхание  Nautilus Pompilius   \n",
       "2      448   2786766              We Are Young                Fun.   \n",
       "3      448  58515506  Увезите меня на Дип-хаус   GAYAZOV$ BROTHER$   \n",
       "4      448  47627256                   Cradles           Sub Urban   \n",
       "5      448  73376988             Ягода малинка               ХАБИБ   \n",
       "6      448  48592141                 Положение          Скриптонит   \n",
       "7      448  31105795             Молодые ветра                  7Б   \n",
       "8      448  52380688                   Любимка             NILETTO   \n",
       "9      448  42727040                  Hislerim       Serhat Durmus   \n",
       "\n",
       "                           album        genre  \n",
       "0                   Я люблю тебя          pop  \n",
       "1                         Крылья      rusrock  \n",
       "2                   We Are Young  alternative  \n",
       "3       Увезите меня на Дип-хаус          pop  \n",
       "4                        Cradles  electronics  \n",
       "5                  Ягода малинка          pop  \n",
       "6             Уроборос: Улица 36       rusrap  \n",
       "7  Новая коллекция. Лучшие песни      rusrock  \n",
       "8                        Любимка          pop  \n",
       "9                       Hislerim  electronics  "
      ]
     },
     "metadata": {},
     "output_type": "display_data"
    }
   ],
   "source": [
    "# Choosing a random user_id\n",
    "test_user_id = events_train.user_id.drop_duplicates().tolist()[100]\n",
    "\n",
    "# Displaying the last 10 events for the user\n",
    "last_10_events = events_train \\\n",
    "        .query(\"user_id == @test_user_id\") \\\n",
    "        .tail(10) \\\n",
    "        .merge(\n",
    "            items, \n",
    "            on=\"track_id\", \n",
    "            how=\"left\",\n",
    "        )[[\"user_id\", \"track_id\", \"track\", \"artist\", \"album\", \"genre\"]]\n",
    "print(f\"Last 10 events for 'user_id={test_user_id}'\")\n",
    "display(last_10_events)\n",
    "\n",
    "# Displaying the recommendations\n",
    "user_recs = als_recommendations \\\n",
    "            .query(\"user_id == @test_user_id\") \\\n",
    "            .merge(items, on=\"track_id\", how=\"left\").drop([\"score\", \"track_id_encoded\"], axis=1)\n",
    "print(f\"Recommendations for 'user_id={test_user_id}'\")\n",
    "display(user_recs)"
   ]
  },
  {
   "cell_type": "markdown",
   "id": "2becd821-94ea-464c-9585-92ad29fe0ae6",
   "metadata": {},
   "source": [
    "Сохраним персональные рекомендации:"
   ]
  },
  {
   "cell_type": "code",
   "execution_count": 20,
   "id": "198b0372-6bf9-485a-802c-aa8e8d50cd42",
   "metadata": {},
   "outputs": [],
   "source": [
    "try:\n",
    "    als_recommendations.to_parquet(\"data/personal_als.parquet\")\n",
    "except OSError:\n",
    "    als_recommendations.to_parquet(\"personal_als.parquet\")"
   ]
  },
  {
   "cell_type": "markdown",
   "id": "5f09dc7e-7c91-4355-860a-b9cfb9f33f15",
   "metadata": {},
   "source": [
    "# Похожие"
   ]
  },
  {
   "cell_type": "markdown",
   "id": "1dfcb683-b440-40a8-9975-894156a53872",
   "metadata": {},
   "source": [
    "Рассчитаем похожие треки, они позже пригодятся для онлайн-рекомендаций. Ввиду того что, что треков очень много в данных, выполнение следующей ячейки может занять довольно много времени. Поэтому чтобы не ждать очень долго, рассчитаем только для части треков (рассчитаем 5 наиболее схожих треков, то есть ставим `N=6`, поскольку трек сам с собой в любом случае будет схож):"
   ]
  },
  {
   "cell_type": "code",
   "execution_count": 21,
   "id": "a75d07ee-4b12-4ce5-aa85-e45cb7a7a4f0",
   "metadata": {},
   "outputs": [
    {
     "name": "stdout",
     "output_type": "stream",
     "text": [
      "CPU times: user 5min 39s, sys: 2min 54s, total: 8min 34s\n",
      "Wall time: 2min 12s\n"
     ]
    }
   ],
   "source": [
    "%%time\n",
    "train_track_ids_encoded = range(len(item_encoder.classes_))[:50000]\n",
    "\n",
    "similar_items = als_model.similar_items(train_track_ids_encoded, N=6)"
   ]
  },
  {
   "cell_type": "markdown",
   "id": "f5bdbf37-f08d-4059-84dd-45b099c5e644",
   "metadata": {},
   "source": [
    "Как мы делали ранее, приведем все к более понятному виду:"
   ]
  },
  {
   "cell_type": "code",
   "execution_count": 22,
   "id": "c679f8e5-cee7-4a0b-90b2-acb8adc946a8",
   "metadata": {},
   "outputs": [
    {
     "data": {
      "text/html": [
       "<div>\n",
       "<style scoped>\n",
       "    .dataframe tbody tr th:only-of-type {\n",
       "        vertical-align: middle;\n",
       "    }\n",
       "\n",
       "    .dataframe tbody tr th {\n",
       "        vertical-align: top;\n",
       "    }\n",
       "\n",
       "    .dataframe thead th {\n",
       "        text-align: right;\n",
       "    }\n",
       "</style>\n",
       "<table border=\"1\" class=\"dataframe\">\n",
       "  <thead>\n",
       "    <tr style=\"text-align: right;\">\n",
       "      <th></th>\n",
       "      <th>track_id_1</th>\n",
       "      <th>track_id_2</th>\n",
       "      <th>score</th>\n",
       "    </tr>\n",
       "  </thead>\n",
       "  <tbody>\n",
       "    <tr>\n",
       "      <th>0</th>\n",
       "      <td>26</td>\n",
       "      <td>139</td>\n",
       "      <td>0.000000</td>\n",
       "    </tr>\n",
       "    <tr>\n",
       "      <th>1</th>\n",
       "      <td>26</td>\n",
       "      <td>138</td>\n",
       "      <td>0.000000</td>\n",
       "    </tr>\n",
       "    <tr>\n",
       "      <th>2</th>\n",
       "      <td>26</td>\n",
       "      <td>136</td>\n",
       "      <td>0.000000</td>\n",
       "    </tr>\n",
       "    <tr>\n",
       "      <th>3</th>\n",
       "      <td>26</td>\n",
       "      <td>135</td>\n",
       "      <td>0.000000</td>\n",
       "    </tr>\n",
       "    <tr>\n",
       "      <th>4</th>\n",
       "      <td>26</td>\n",
       "      <td>38</td>\n",
       "      <td>0.000000</td>\n",
       "    </tr>\n",
       "    <tr>\n",
       "      <th>...</th>\n",
       "      <td>...</td>\n",
       "      <td>...</td>\n",
       "      <td>...</td>\n",
       "    </tr>\n",
       "    <tr>\n",
       "      <th>299995</th>\n",
       "      <td>446684</td>\n",
       "      <td>53726952</td>\n",
       "      <td>0.757322</td>\n",
       "    </tr>\n",
       "    <tr>\n",
       "      <th>299996</th>\n",
       "      <td>446684</td>\n",
       "      <td>29028731</td>\n",
       "      <td>0.755143</td>\n",
       "    </tr>\n",
       "    <tr>\n",
       "      <th>299997</th>\n",
       "      <td>446684</td>\n",
       "      <td>39178075</td>\n",
       "      <td>0.734521</td>\n",
       "    </tr>\n",
       "    <tr>\n",
       "      <th>299998</th>\n",
       "      <td>446684</td>\n",
       "      <td>38184093</td>\n",
       "      <td>0.722108</td>\n",
       "    </tr>\n",
       "    <tr>\n",
       "      <th>299999</th>\n",
       "      <td>446684</td>\n",
       "      <td>65295499</td>\n",
       "      <td>0.717344</td>\n",
       "    </tr>\n",
       "  </tbody>\n",
       "</table>\n",
       "<p>252910 rows × 3 columns</p>\n",
       "</div>"
      ],
      "text/plain": [
       "        track_id_1  track_id_2     score\n",
       "0               26         139  0.000000\n",
       "1               26         138  0.000000\n",
       "2               26         136  0.000000\n",
       "3               26         135  0.000000\n",
       "4               26          38  0.000000\n",
       "...            ...         ...       ...\n",
       "299995      446684    53726952  0.757322\n",
       "299996      446684    29028731  0.755143\n",
       "299997      446684    39178075  0.734521\n",
       "299998      446684    38184093  0.722108\n",
       "299999      446684    65295499  0.717344\n",
       "\n",
       "[252910 rows x 3 columns]"
      ]
     },
     "execution_count": 22,
     "metadata": {},
     "output_type": "execute_result"
    }
   ],
   "source": [
    "# Separating identifiers from similarity scores\n",
    "sim_item_item_ids_enc = similar_items[0]\n",
    "sim_item_scores = similar_items[1]\n",
    "\n",
    "# Building a DataFrame of track similarities\n",
    "similar_items = pd.DataFrame({\n",
    "    \"track_id_encoded\": train_track_ids_encoded,\n",
    "    \"sim_track_id_encoded\": sim_item_item_ids_enc.tolist(), \n",
    "    \"score\": sim_item_scores.tolist()})\n",
    "similar_items = similar_items.explode([\"sim_track_id_encoded\", \"score\"], ignore_index=True)\n",
    "\n",
    "# Converting types\n",
    "similar_items[\"sim_track_id_encoded\"] = similar_items[\"sim_track_id_encoded\"].astype(\"int64\")\n",
    "similar_items[\"score\"] = similar_items[\"score\"].astype(\"float\")\n",
    "\n",
    "# Retrieving original track identifiers\n",
    "similar_items[\"track_id_1\"] = item_encoder.inverse_transform(similar_items[\"track_id_encoded\"])\n",
    "similar_items[\"track_id_2\"] = item_encoder.inverse_transform(similar_items[\"sim_track_id_encoded\"])\n",
    "similar_items = similar_items.drop(columns=[\"track_id_encoded\", \"sim_track_id_encoded\"])\n",
    "\n",
    "# Filtering out tracks similar to themselves\n",
    "similar_items = similar_items.query(\"track_id_1 != track_id_2\")\n",
    "\n",
    "similar_items = similar_items[[\"track_id_1\", \"track_id_2\", \"score\"]]\n",
    "similar_items"
   ]
  },
  {
   "cell_type": "markdown",
   "id": "d3777582-3ce9-4341-b194-7721310cff99",
   "metadata": {},
   "source": [
    "Можно также визуально посмотреть на схожие треки для какого-то конкретного трека:"
   ]
  },
  {
   "cell_type": "code",
   "execution_count": 23,
   "id": "d77539ea-5fc8-4690-842c-c064d0f141e0",
   "metadata": {},
   "outputs": [
    {
     "data": {
      "text/html": [
       "<div>\n",
       "<style scoped>\n",
       "    .dataframe tbody tr th:only-of-type {\n",
       "        vertical-align: middle;\n",
       "    }\n",
       "\n",
       "    .dataframe tbody tr th {\n",
       "        vertical-align: top;\n",
       "    }\n",
       "\n",
       "    .dataframe thead th {\n",
       "        text-align: right;\n",
       "    }\n",
       "</style>\n",
       "<table border=\"1\" class=\"dataframe\">\n",
       "  <thead>\n",
       "    <tr style=\"text-align: right;\">\n",
       "      <th></th>\n",
       "      <th>track_id</th>\n",
       "      <th>track</th>\n",
       "      <th>artist</th>\n",
       "      <th>album</th>\n",
       "      <th>genre</th>\n",
       "      <th>track_id_encoded</th>\n",
       "    </tr>\n",
       "  </thead>\n",
       "  <tbody>\n",
       "    <tr>\n",
       "      <th>5862</th>\n",
       "      <td>33475</td>\n",
       "      <td>Live Wire</td>\n",
       "      <td>Mötley Crüe</td>\n",
       "      <td>Red White &amp; Crue</td>\n",
       "      <td>classicmetal</td>\n",
       "      <td>5862</td>\n",
       "    </tr>\n",
       "  </tbody>\n",
       "</table>\n",
       "</div>"
      ],
      "text/plain": [
       "      track_id      track       artist             album         genre  \\\n",
       "5862     33475  Live Wire  Mötley Crüe  Red White & Crue  classicmetal   \n",
       "\n",
       "      track_id_encoded  \n",
       "5862              5862  "
      ]
     },
     "metadata": {},
     "output_type": "display_data"
    },
    {
     "data": {
      "text/html": [
       "<div>\n",
       "<style scoped>\n",
       "    .dataframe tbody tr th:only-of-type {\n",
       "        vertical-align: middle;\n",
       "    }\n",
       "\n",
       "    .dataframe tbody tr th {\n",
       "        vertical-align: top;\n",
       "    }\n",
       "\n",
       "    .dataframe thead th {\n",
       "        text-align: right;\n",
       "    }\n",
       "</style>\n",
       "<table border=\"1\" class=\"dataframe\">\n",
       "  <thead>\n",
       "    <tr style=\"text-align: right;\">\n",
       "      <th></th>\n",
       "      <th>track_id_1</th>\n",
       "      <th>track_id_2</th>\n",
       "      <th>score</th>\n",
       "      <th>track_id</th>\n",
       "      <th>track</th>\n",
       "      <th>artist</th>\n",
       "      <th>album</th>\n",
       "      <th>genre</th>\n",
       "      <th>track_id_encoded</th>\n",
       "    </tr>\n",
       "  </thead>\n",
       "  <tbody>\n",
       "    <tr>\n",
       "      <th>0</th>\n",
       "      <td>33475</td>\n",
       "      <td>44103459</td>\n",
       "      <td>0.823887</td>\n",
       "      <td>44103459</td>\n",
       "      <td>Мёртв внутри</td>\n",
       "      <td>White Punk</td>\n",
       "      <td>Вампиръ</td>\n",
       "      <td>rusrock</td>\n",
       "      <td>632935</td>\n",
       "    </tr>\n",
       "    <tr>\n",
       "      <th>1</th>\n",
       "      <td>33475</td>\n",
       "      <td>26244420</td>\n",
       "      <td>0.803185</td>\n",
       "      <td>26244420</td>\n",
       "      <td>Don't You (Forget About Me)</td>\n",
       "      <td>Simple Minds</td>\n",
       "      <td>Once Upon A Time</td>\n",
       "      <td>rock</td>\n",
       "      <td>388894</td>\n",
       "    </tr>\n",
       "    <tr>\n",
       "      <th>2</th>\n",
       "      <td>33475</td>\n",
       "      <td>10367866</td>\n",
       "      <td>0.799439</td>\n",
       "      <td>10367866</td>\n",
       "      <td>Smoking While We Drive</td>\n",
       "      <td>Snoop Dogg</td>\n",
       "      <td>Smoking While We Drive</td>\n",
       "      <td>foreignrap</td>\n",
       "      <td>222994</td>\n",
       "    </tr>\n",
       "    <tr>\n",
       "      <th>3</th>\n",
       "      <td>33475</td>\n",
       "      <td>64254244</td>\n",
       "      <td>0.792232</td>\n",
       "      <td>64254244</td>\n",
       "      <td>Price Right</td>\n",
       "      <td>Biicla</td>\n",
       "      <td>No Place</td>\n",
       "      <td>dance</td>\n",
       "      <td>815525</td>\n",
       "    </tr>\n",
       "    <tr>\n",
       "      <th>4</th>\n",
       "      <td>33475</td>\n",
       "      <td>2166389</td>\n",
       "      <td>0.789514</td>\n",
       "      <td>2166389</td>\n",
       "      <td>Любовь-комета</td>\n",
       "      <td>Наталия Власова</td>\n",
       "      <td>Сборник</td>\n",
       "      <td>pop</td>\n",
       "      <td>119544</td>\n",
       "    </tr>\n",
       "  </tbody>\n",
       "</table>\n",
       "</div>"
      ],
      "text/plain": [
       "   track_id_1  track_id_2     score  track_id                        track  \\\n",
       "0       33475    44103459  0.823887  44103459                 Мёртв внутри   \n",
       "1       33475    26244420  0.803185  26244420  Don't You (Forget About Me)   \n",
       "2       33475    10367866  0.799439  10367866       Smoking While We Drive   \n",
       "3       33475    64254244  0.792232  64254244                  Price Right   \n",
       "4       33475     2166389  0.789514   2166389                Любовь-комета   \n",
       "\n",
       "            artist                   album       genre  track_id_encoded  \n",
       "0       White Punk                 Вампиръ     rusrock            632935  \n",
       "1     Simple Minds        Once Upon A Time        rock            388894  \n",
       "2       Snoop Dogg  Smoking While We Drive  foreignrap            222994  \n",
       "3           Biicla                No Place       dance            815525  \n",
       "4  Наталия Власова                 Сборник         pop            119544  "
      ]
     },
     "metadata": {},
     "output_type": "display_data"
    }
   ],
   "source": [
    "trackid = events_train.track_id.drop_duplicates().tolist()[11]\n",
    "tr = items.query(\"track_id == @trackid\")\n",
    "display(tr)\n",
    "\n",
    "k = similar_items.query(\"track_id_1 == @trackid\").merge(items, left_on=\"track_id_2\", right_on=\"track_id\")\n",
    "display(k)"
   ]
  },
  {
   "cell_type": "code",
   "execution_count": 24,
   "id": "f6aeb59d-f203-432c-b537-91a774a246e8",
   "metadata": {},
   "outputs": [
    {
     "name": "stdout",
     "output_type": "stream",
     "text": [
      "<class 'pandas.core.frame.DataFrame'>\n",
      "Index: 252910 entries, 0 to 299999\n",
      "Data columns (total 3 columns):\n",
      " #   Column      Non-Null Count   Dtype  \n",
      "---  ------      --------------   -----  \n",
      " 0   track_id_1  252910 non-null  int32  \n",
      " 1   track_id_2  252910 non-null  int32  \n",
      " 2   score       252910 non-null  float64\n",
      "dtypes: float64(1), int32(2)\n",
      "memory usage: 5.8 MB\n"
     ]
    }
   ],
   "source": [
    "similar_items.info()"
   ]
  },
  {
   "cell_type": "code",
   "execution_count": 25,
   "id": "70ad4a2f-ccc6-4bfb-8062-bfc65022ba76",
   "metadata": {},
   "outputs": [],
   "source": [
    "try:\n",
    "    similar_items.to_parquet(\"data/similar.parquet\")\n",
    "except OSError:\n",
    "    similar_items.to_parquet(\"similar.parquet\")"
   ]
  },
  {
   "cell_type": "markdown",
   "id": "0087a3e7-ca9f-42cd-944c-944222c1baef",
   "metadata": {},
   "source": [
    "# Построение признаков"
   ]
  },
  {
   "cell_type": "markdown",
   "id": "e82a32e1-b90b-4eaf-9439-fc8deab9f34b",
   "metadata": {},
   "source": [
    "Построим три признака, можно больше, для ранжирующей модели."
   ]
  },
  {
   "cell_type": "markdown",
   "id": "73dcc3d1-7945-475b-b898-677c519cefea",
   "metadata": {},
   "source": [
    "## Training data"
   ]
  },
  {
   "cell_type": "markdown",
   "id": "679f1a15-2dc5-48ee-bc7e-7024fa82762e",
   "metadata": {},
   "source": [
    "Для начала разобьем тестовые данные на еще две выборки:\n",
    "\n",
    "* `events_labels` => для расчета таргетов\n",
    "* `events_test_2` => отложенная выборка для расчетов метрик\n",
    "\n",
    "Ранее мы делили данные по дате 16.12.2023. В данном случае возьмем дату неделю спустя:"
   ]
  },
  {
   "cell_type": "code",
   "execution_count": 26,
   "id": "330d0195-5fbb-4898-9c8a-db280d59690a",
   "metadata": {},
   "outputs": [
    {
     "name": "stdout",
     "output_type": "stream",
     "text": [
      "(1641041, 6) (1444469, 6)\n"
     ]
    }
   ],
   "source": [
    "split_date_for_labels = pd.to_datetime(\"2022-12-23\")\n",
    "\n",
    "split_date_for_labels_idx = events_test[\"started_at\"] < split_date_for_labels\n",
    "events_labels = events_test[split_date_for_labels_idx].copy()\n",
    "events_test_2 = events_test[~split_date_for_labels_idx].copy()\n",
    "\n",
    "print(events_labels.shape, events_test_2.shape)"
   ]
  },
  {
   "cell_type": "markdown",
   "id": "0a228b46-8a3b-4a7b-b6b7-a08c1248c739",
   "metadata": {},
   "source": [
    "Теперь можно разметить данные, где прослушивание трека пользователем будем отмечать как положительный класс (единица), а в противном случае - негативный класс (ноль). Таким образом, мы сможем построить модель, предсказывающую вероятность взаимодействия пользователя с объектом."
   ]
  },
  {
   "cell_type": "code",
   "execution_count": 27,
   "id": "2ac0244e-0367-4c22-a6e6-54cc7d1216b5",
   "metadata": {},
   "outputs": [],
   "source": [
    "# Initially setting all objects to positive class\n",
    "events_labels[\"target\"] = 1\n",
    "\n",
    "# Adding target to the recommendations\n",
    "candidates = als_recommendations.merge(\n",
    "    events_labels[[\"user_id\", \"track_id\", \"target\"]],\n",
    "    on=[\"user_id\", \"track_id\"],\n",
    "    how=\"left\",\n",
    ")\n",
    "\n",
    "# Replacing NaNs with zero (negative class)\n",
    "candidates[\"target\"] = candidates[\"target\"].fillna(0).astype(\"int\")"
   ]
  },
  {
   "cell_type": "markdown",
   "id": "6fe35046-2167-4100-9668-7ab31313996a",
   "metadata": {},
   "source": [
    "Таким методом мы объединили рассчитанные рекомендации с историей взаимодействия пользователей с объектами, где образовавшиеся пустые значения (то есть на месте объектов, с которыми пользователь не взаимодействовал) заменили нулями. Посмотрим на баланс классов:"
   ]
  },
  {
   "cell_type": "code",
   "execution_count": 28,
   "id": "fa80d53e-1248-4ae1-afb8-b8db72a0a6a0",
   "metadata": {},
   "outputs": [
    {
     "data": {
      "text/plain": [
       "target\n",
       "0    0.999024\n",
       "1    0.000976\n",
       "Name: proportion, dtype: float64"
      ]
     },
     "execution_count": 28,
     "metadata": {},
     "output_type": "execute_result"
    }
   ],
   "source": [
    "candidates.target.value_counts(normalize=True)"
   ]
  },
  {
   "cell_type": "markdown",
   "id": "49548aba-9b93-4e6a-a615-5618cf874a9d",
   "metadata": {},
   "source": [
    "Наблюдаем чрезвычайно сильный дисбаланс классов. Модель не сможет научиться хорошо распознавать классы. Возьмем подвыборки: сначала возьмем только тех пользователей, у которых есть хотя бы один положительный таргет, а затем для каждого пользователя оставим только 4 негативных примера:"
   ]
  },
  {
   "cell_type": "code",
   "execution_count": 29,
   "id": "0a3bf737-9b56-4fea-9b0a-f582b7d529c2",
   "metadata": {},
   "outputs": [
    {
     "name": "stdout",
     "output_type": "stream",
     "text": [
      "CPU times: user 21.8 s, sys: 537 ms, total: 22.3 s\n",
      "Wall time: 21.9 s\n"
     ]
    },
    {
     "data": {
      "text/plain": [
       "0"
      ]
     },
     "execution_count": 29,
     "metadata": {},
     "output_type": "execute_result"
    }
   ],
   "source": [
    "%%time\n",
    "# Keeping users with at least 1 positive target\n",
    "candidates = candidates.groupby(\"user_id\").filter(lambda x: x[\"target\"].sum() > 0)\n",
    "\n",
    "# Keeping users with only 4 negative examples\n",
    "candidates_for_train = pd.concat([\n",
    "    candidates.query(\"target == 1\"),\n",
    "    candidates.query(\"target == 0\") \\\n",
    "        .groupby(\"user_id\") \\\n",
    "        .apply(lambda x: x.sample(4, random_state=RANDOM_STATE))\n",
    "])\n",
    "\n",
    "# Deleting `candidates` DataFrame\n",
    "del candidates\n",
    "gc.collect()"
   ]
  },
  {
   "cell_type": "markdown",
   "id": "460ec3eb-0068-424a-bf83-d74342204929",
   "metadata": {},
   "source": [
    "Посмотрим на дисбаланс:"
   ]
  },
  {
   "cell_type": "code",
   "execution_count": 30,
   "id": "192daf87-4c52-4528-928c-57c7deba6876",
   "metadata": {},
   "outputs": [
    {
     "data": {
      "text/plain": [
       "target\n",
       "0    0.792384\n",
       "1    0.207616\n",
       "Name: proportion, dtype: float64"
      ]
     },
     "execution_count": 30,
     "metadata": {},
     "output_type": "execute_result"
    }
   ],
   "source": [
    "candidates_for_train.target.value_counts(normalize=True)"
   ]
  },
  {
   "cell_type": "markdown",
   "id": "68af7ae8-df6d-4982-a86f-4191df08de5b",
   "metadata": {},
   "source": [
    "Ситуация стала слегка лучше, ресетнем индекс и посмотрим на данные:"
   ]
  },
  {
   "cell_type": "code",
   "execution_count": 31,
   "id": "5047acc8-b621-4705-b810-6dae32d871f2",
   "metadata": {},
   "outputs": [
    {
     "data": {
      "text/html": [
       "<div>\n",
       "<style scoped>\n",
       "    .dataframe tbody tr th:only-of-type {\n",
       "        vertical-align: middle;\n",
       "    }\n",
       "\n",
       "    .dataframe tbody tr th {\n",
       "        vertical-align: top;\n",
       "    }\n",
       "\n",
       "    .dataframe thead th {\n",
       "        text-align: right;\n",
       "    }\n",
       "</style>\n",
       "<table border=\"1\" class=\"dataframe\">\n",
       "  <thead>\n",
       "    <tr style=\"text-align: right;\">\n",
       "      <th></th>\n",
       "      <th>user_id</th>\n",
       "      <th>track_id</th>\n",
       "      <th>score</th>\n",
       "      <th>target</th>\n",
       "    </tr>\n",
       "  </thead>\n",
       "  <tbody>\n",
       "    <tr>\n",
       "      <th>0</th>\n",
       "      <td>464</td>\n",
       "      <td>66322065</td>\n",
       "      <td>5.039634e-20</td>\n",
       "      <td>1</td>\n",
       "    </tr>\n",
       "    <tr>\n",
       "      <th>1</th>\n",
       "      <td>503</td>\n",
       "      <td>43942453</td>\n",
       "      <td>6.802856e-20</td>\n",
       "      <td>1</td>\n",
       "    </tr>\n",
       "    <tr>\n",
       "      <th>2</th>\n",
       "      <td>645</td>\n",
       "      <td>60292250</td>\n",
       "      <td>5.851431e-20</td>\n",
       "      <td>1</td>\n",
       "    </tr>\n",
       "    <tr>\n",
       "      <th>3</th>\n",
       "      <td>1209</td>\n",
       "      <td>60292250</td>\n",
       "      <td>5.641042e-21</td>\n",
       "      <td>1</td>\n",
       "    </tr>\n",
       "    <tr>\n",
       "      <th>4</th>\n",
       "      <td>2538</td>\n",
       "      <td>10776533</td>\n",
       "      <td>1.375346e-19</td>\n",
       "      <td>1</td>\n",
       "    </tr>\n",
       "  </tbody>\n",
       "</table>\n",
       "</div>"
      ],
      "text/plain": [
       "   user_id  track_id         score  target\n",
       "0      464  66322065  5.039634e-20       1\n",
       "1      503  43942453  6.802856e-20       1\n",
       "2      645  60292250  5.851431e-20       1\n",
       "3     1209  60292250  5.641042e-21       1\n",
       "4     2538  10776533  1.375346e-19       1"
      ]
     },
     "metadata": {},
     "output_type": "display_data"
    },
    {
     "name": "stdout",
     "output_type": "stream",
     "text": [
      "<class 'pandas.core.frame.DataFrame'>\n",
      "RangeIndex: 14286 entries, 0 to 14285\n",
      "Data columns (total 4 columns):\n",
      " #   Column    Non-Null Count  Dtype  \n",
      "---  ------    --------------  -----  \n",
      " 0   user_id   14286 non-null  int32  \n",
      " 1   track_id  14286 non-null  int32  \n",
      " 2   score     14286 non-null  float64\n",
      " 3   target    14286 non-null  int64  \n",
      "dtypes: float64(1), int32(2), int64(1)\n",
      "memory usage: 335.0 KB\n"
     ]
    },
    {
     "data": {
      "text/plain": [
       "None"
      ]
     },
     "metadata": {},
     "output_type": "display_data"
    }
   ],
   "source": [
    "candidates_for_train = candidates_for_train.reset_index(drop=True)\n",
    "display(candidates_for_train.head())\n",
    "display(candidates_for_train.info())"
   ]
  },
  {
   "cell_type": "markdown",
   "id": "5089b9c9-5daf-47e7-b91b-c7c369763f3b",
   "metadata": {},
   "source": [
    "### Generating features"
   ]
  },
  {
   "cell_type": "markdown",
   "id": "f14c0c95-a5f8-4620-a4b6-7d3c9ed31b47",
   "metadata": {},
   "source": [
    "Следующим шагом начнем создавать признаки, ведь только лишь на основе скора ALS вряд ли построишь надежную модель. \n",
    "\n",
    "Одним из признаков используем жанр трека:"
   ]
  },
  {
   "cell_type": "code",
   "execution_count": 32,
   "id": "2ef2dc3a-b43f-43f2-a4b6-d9057c801d98",
   "metadata": {},
   "outputs": [
    {
     "data": {
      "text/html": [
       "<div>\n",
       "<style scoped>\n",
       "    .dataframe tbody tr th:only-of-type {\n",
       "        vertical-align: middle;\n",
       "    }\n",
       "\n",
       "    .dataframe tbody tr th {\n",
       "        vertical-align: top;\n",
       "    }\n",
       "\n",
       "    .dataframe thead th {\n",
       "        text-align: right;\n",
       "    }\n",
       "</style>\n",
       "<table border=\"1\" class=\"dataframe\">\n",
       "  <thead>\n",
       "    <tr style=\"text-align: right;\">\n",
       "      <th></th>\n",
       "      <th>user_id</th>\n",
       "      <th>track_id</th>\n",
       "      <th>score</th>\n",
       "      <th>target</th>\n",
       "      <th>genre</th>\n",
       "    </tr>\n",
       "  </thead>\n",
       "  <tbody>\n",
       "    <tr>\n",
       "      <th>0</th>\n",
       "      <td>464</td>\n",
       "      <td>66322065</td>\n",
       "      <td>5.039634e-20</td>\n",
       "      <td>1</td>\n",
       "      <td>pop</td>\n",
       "    </tr>\n",
       "    <tr>\n",
       "      <th>1</th>\n",
       "      <td>503</td>\n",
       "      <td>43942453</td>\n",
       "      <td>6.802856e-20</td>\n",
       "      <td>1</td>\n",
       "      <td>local-indie</td>\n",
       "    </tr>\n",
       "    <tr>\n",
       "      <th>2</th>\n",
       "      <td>645</td>\n",
       "      <td>60292250</td>\n",
       "      <td>5.851431e-20</td>\n",
       "      <td>1</td>\n",
       "      <td>rnb</td>\n",
       "    </tr>\n",
       "    <tr>\n",
       "      <th>3</th>\n",
       "      <td>1209</td>\n",
       "      <td>60292250</td>\n",
       "      <td>5.641042e-21</td>\n",
       "      <td>1</td>\n",
       "      <td>rnb</td>\n",
       "    </tr>\n",
       "    <tr>\n",
       "      <th>4</th>\n",
       "      <td>2538</td>\n",
       "      <td>10776533</td>\n",
       "      <td>1.375346e-19</td>\n",
       "      <td>1</td>\n",
       "      <td>rock</td>\n",
       "    </tr>\n",
       "  </tbody>\n",
       "</table>\n",
       "</div>"
      ],
      "text/plain": [
       "   user_id  track_id         score  target        genre\n",
       "0      464  66322065  5.039634e-20       1          pop\n",
       "1      503  43942453  6.802856e-20       1  local-indie\n",
       "2      645  60292250  5.851431e-20       1          rnb\n",
       "3     1209  60292250  5.641042e-21       1          rnb\n",
       "4     2538  10776533  1.375346e-19       1         rock"
      ]
     },
     "execution_count": 32,
     "metadata": {},
     "output_type": "execute_result"
    }
   ],
   "source": [
    "# Adding genre to the training data\n",
    "candidates_for_train = candidates_for_train.merge(\n",
    "    items[[\"track_id\", \"genre\"]],\n",
    "    on=\"track_id\",\n",
    "    how=\"left\"\n",
    ")\n",
    "candidates_for_train.head()"
   ]
  },
  {
   "cell_type": "markdown",
   "id": "ec9daf49-66d4-43d2-82b1-0c4fc12abf2a",
   "metadata": {},
   "source": [
    "Данную фичу конечно нельзя будет напрямую использовать в модели. Вначале нужно будет ее закодировать, но к счастью модели градиентного бустинга *catboost* могут работать с такими признаками напрямую, что будет показано позже.\n",
    "\n",
    "Следующим признаком будет доля конкретного жанра в тренировочных взаимодействиях:"
   ]
  },
  {
   "cell_type": "code",
   "execution_count": 33,
   "id": "b2768353-246d-48a8-8b5b-45d4a934ed54",
   "metadata": {},
   "outputs": [
    {
     "data": {
      "text/html": [
       "<div>\n",
       "<style scoped>\n",
       "    .dataframe tbody tr th:only-of-type {\n",
       "        vertical-align: middle;\n",
       "    }\n",
       "\n",
       "    .dataframe tbody tr th {\n",
       "        vertical-align: top;\n",
       "    }\n",
       "\n",
       "    .dataframe thead th {\n",
       "        text-align: right;\n",
       "    }\n",
       "</style>\n",
       "<table border=\"1\" class=\"dataframe\">\n",
       "  <thead>\n",
       "    <tr style=\"text-align: right;\">\n",
       "      <th></th>\n",
       "      <th>genre</th>\n",
       "      <th>genre_share</th>\n",
       "    </tr>\n",
       "  </thead>\n",
       "  <tbody>\n",
       "    <tr>\n",
       "      <th>42</th>\n",
       "      <td>pop</td>\n",
       "      <td>2.459024e-01</td>\n",
       "    </tr>\n",
       "    <tr>\n",
       "      <th>54</th>\n",
       "      <td>rusrap</td>\n",
       "      <td>1.124665e-01</td>\n",
       "    </tr>\n",
       "    <tr>\n",
       "      <th>15</th>\n",
       "      <td>electronics</td>\n",
       "      <td>8.442541e-02</td>\n",
       "    </tr>\n",
       "    <tr>\n",
       "      <th>13</th>\n",
       "      <td>dance</td>\n",
       "      <td>6.793198e-02</td>\n",
       "    </tr>\n",
       "    <tr>\n",
       "      <th>55</th>\n",
       "      <td>rusrock</td>\n",
       "      <td>6.012076e-02</td>\n",
       "    </tr>\n",
       "    <tr>\n",
       "      <th>...</th>\n",
       "      <td>...</td>\n",
       "      <td>...</td>\n",
       "    </tr>\n",
       "    <tr>\n",
       "      <th>31</th>\n",
       "      <td>israelirap</td>\n",
       "      <td>3.435821e-06</td>\n",
       "    </tr>\n",
       "    <tr>\n",
       "      <th>5</th>\n",
       "      <td>bard</td>\n",
       "      <td>2.485028e-06</td>\n",
       "    </tr>\n",
       "    <tr>\n",
       "      <th>29</th>\n",
       "      <td>hls</td>\n",
       "      <td>2.463419e-06</td>\n",
       "    </tr>\n",
       "    <tr>\n",
       "      <th>4</th>\n",
       "      <td>audiobooks</td>\n",
       "      <td>8.427487e-07</td>\n",
       "    </tr>\n",
       "    <tr>\n",
       "      <th>66</th>\n",
       "      <td>technologies</td>\n",
       "      <td>1.296536e-07</td>\n",
       "    </tr>\n",
       "  </tbody>\n",
       "</table>\n",
       "<p>73 rows × 2 columns</p>\n",
       "</div>"
      ],
      "text/plain": [
       "           genre   genre_share\n",
       "42           pop  2.459024e-01\n",
       "54        rusrap  1.124665e-01\n",
       "15   electronics  8.442541e-02\n",
       "13         dance  6.793198e-02\n",
       "55       rusrock  6.012076e-02\n",
       "..           ...           ...\n",
       "31    israelirap  3.435821e-06\n",
       "5           bard  2.485028e-06\n",
       "29           hls  2.463419e-06\n",
       "4     audiobooks  8.427487e-07\n",
       "66  technologies  1.296536e-07\n",
       "\n",
       "[73 rows x 2 columns]"
      ]
     },
     "execution_count": 33,
     "metadata": {},
     "output_type": "execute_result"
    }
   ],
   "source": [
    "genre_shares = events_train \\\n",
    "                .merge(\n",
    "                    items[[\"track_id\", \"genre\"]], \n",
    "                    on=\"track_id\", \n",
    "                    how=\"left\",\n",
    "                ).groupby(\"genre\")[\"track_id\"].count()\n",
    "genre_shares /= genre_shares.sum()\n",
    "genre_shares = genre_shares.reset_index().rename(columns={\"track_id\": \"genre_share\"})\n",
    "genre_shares.sort_values(by=\"genre_share\", ascending=False)"
   ]
  },
  {
   "cell_type": "markdown",
   "id": "6cab23aa-0116-4168-a6a3-d17d6bcc99f3",
   "metadata": {},
   "source": [
    "Добавим фичу к данным:"
   ]
  },
  {
   "cell_type": "code",
   "execution_count": 34,
   "id": "4f07830e-95f8-41b9-ac04-fbfd2e00c365",
   "metadata": {},
   "outputs": [
    {
     "data": {
      "text/html": [
       "<div>\n",
       "<style scoped>\n",
       "    .dataframe tbody tr th:only-of-type {\n",
       "        vertical-align: middle;\n",
       "    }\n",
       "\n",
       "    .dataframe tbody tr th {\n",
       "        vertical-align: top;\n",
       "    }\n",
       "\n",
       "    .dataframe thead th {\n",
       "        text-align: right;\n",
       "    }\n",
       "</style>\n",
       "<table border=\"1\" class=\"dataframe\">\n",
       "  <thead>\n",
       "    <tr style=\"text-align: right;\">\n",
       "      <th></th>\n",
       "      <th>user_id</th>\n",
       "      <th>track_id</th>\n",
       "      <th>score</th>\n",
       "      <th>target</th>\n",
       "      <th>genre</th>\n",
       "      <th>genre_share</th>\n",
       "    </tr>\n",
       "  </thead>\n",
       "  <tbody>\n",
       "    <tr>\n",
       "      <th>0</th>\n",
       "      <td>464</td>\n",
       "      <td>66322065</td>\n",
       "      <td>5.039634e-20</td>\n",
       "      <td>1</td>\n",
       "      <td>pop</td>\n",
       "      <td>0.245902</td>\n",
       "    </tr>\n",
       "    <tr>\n",
       "      <th>1</th>\n",
       "      <td>503</td>\n",
       "      <td>43942453</td>\n",
       "      <td>6.802856e-20</td>\n",
       "      <td>1</td>\n",
       "      <td>local-indie</td>\n",
       "      <td>0.018300</td>\n",
       "    </tr>\n",
       "    <tr>\n",
       "      <th>2</th>\n",
       "      <td>645</td>\n",
       "      <td>60292250</td>\n",
       "      <td>5.851431e-20</td>\n",
       "      <td>1</td>\n",
       "      <td>rnb</td>\n",
       "      <td>0.008675</td>\n",
       "    </tr>\n",
       "    <tr>\n",
       "      <th>3</th>\n",
       "      <td>1209</td>\n",
       "      <td>60292250</td>\n",
       "      <td>5.641042e-21</td>\n",
       "      <td>1</td>\n",
       "      <td>rnb</td>\n",
       "      <td>0.008675</td>\n",
       "    </tr>\n",
       "    <tr>\n",
       "      <th>4</th>\n",
       "      <td>2538</td>\n",
       "      <td>10776533</td>\n",
       "      <td>1.375346e-19</td>\n",
       "      <td>1</td>\n",
       "      <td>rock</td>\n",
       "      <td>0.047187</td>\n",
       "    </tr>\n",
       "  </tbody>\n",
       "</table>\n",
       "</div>"
      ],
      "text/plain": [
       "   user_id  track_id         score  target        genre  genre_share\n",
       "0      464  66322065  5.039634e-20       1          pop     0.245902\n",
       "1      503  43942453  6.802856e-20       1  local-indie     0.018300\n",
       "2      645  60292250  5.851431e-20       1          rnb     0.008675\n",
       "3     1209  60292250  5.641042e-21       1          rnb     0.008675\n",
       "4     2538  10776533  1.375346e-19       1         rock     0.047187"
      ]
     },
     "execution_count": 34,
     "metadata": {},
     "output_type": "execute_result"
    }
   ],
   "source": [
    "candidates_for_train = candidates_for_train.merge(\n",
    "    genre_shares,\n",
    "    on=\"genre\",\n",
    "    how=\"left\"\n",
    ")\n",
    "candidates_for_train.head()"
   ]
  },
  {
   "cell_type": "code",
   "execution_count": 35,
   "id": "4305f4c8-15f8-433e-b33e-a838c7be3615",
   "metadata": {},
   "outputs": [
    {
     "data": {
      "text/html": [
       "<div>\n",
       "<style scoped>\n",
       "    .dataframe tbody tr th:only-of-type {\n",
       "        vertical-align: middle;\n",
       "    }\n",
       "\n",
       "    .dataframe tbody tr th {\n",
       "        vertical-align: top;\n",
       "    }\n",
       "\n",
       "    .dataframe thead th {\n",
       "        text-align: right;\n",
       "    }\n",
       "</style>\n",
       "<table border=\"1\" class=\"dataframe\">\n",
       "  <thead>\n",
       "    <tr style=\"text-align: right;\">\n",
       "      <th></th>\n",
       "      <th>user_id</th>\n",
       "      <th>track_id</th>\n",
       "      <th>als_score</th>\n",
       "      <th>target</th>\n",
       "      <th>genre</th>\n",
       "      <th>genre_share</th>\n",
       "    </tr>\n",
       "  </thead>\n",
       "  <tbody>\n",
       "    <tr>\n",
       "      <th>0</th>\n",
       "      <td>464</td>\n",
       "      <td>66322065</td>\n",
       "      <td>5.039634e-20</td>\n",
       "      <td>1</td>\n",
       "      <td>pop</td>\n",
       "      <td>0.245902</td>\n",
       "    </tr>\n",
       "    <tr>\n",
       "      <th>1</th>\n",
       "      <td>503</td>\n",
       "      <td>43942453</td>\n",
       "      <td>6.802856e-20</td>\n",
       "      <td>1</td>\n",
       "      <td>local-indie</td>\n",
       "      <td>0.018300</td>\n",
       "    </tr>\n",
       "    <tr>\n",
       "      <th>2</th>\n",
       "      <td>645</td>\n",
       "      <td>60292250</td>\n",
       "      <td>5.851431e-20</td>\n",
       "      <td>1</td>\n",
       "      <td>rnb</td>\n",
       "      <td>0.008675</td>\n",
       "    </tr>\n",
       "    <tr>\n",
       "      <th>3</th>\n",
       "      <td>1209</td>\n",
       "      <td>60292250</td>\n",
       "      <td>5.641042e-21</td>\n",
       "      <td>1</td>\n",
       "      <td>rnb</td>\n",
       "      <td>0.008675</td>\n",
       "    </tr>\n",
       "    <tr>\n",
       "      <th>4</th>\n",
       "      <td>2538</td>\n",
       "      <td>10776533</td>\n",
       "      <td>1.375346e-19</td>\n",
       "      <td>1</td>\n",
       "      <td>rock</td>\n",
       "      <td>0.047187</td>\n",
       "    </tr>\n",
       "  </tbody>\n",
       "</table>\n",
       "</div>"
      ],
      "text/plain": [
       "   user_id  track_id     als_score  target        genre  genre_share\n",
       "0      464  66322065  5.039634e-20       1          pop     0.245902\n",
       "1      503  43942453  6.802856e-20       1  local-indie     0.018300\n",
       "2      645  60292250  5.851431e-20       1          rnb     0.008675\n",
       "3     1209  60292250  5.641042e-21       1          rnb     0.008675\n",
       "4     2538  10776533  1.375346e-19       1         rock     0.047187"
      ]
     },
     "execution_count": 35,
     "metadata": {},
     "output_type": "execute_result"
    }
   ],
   "source": [
    "candidates_for_train = candidates_for_train.rename(\n",
    "    columns={\n",
    "        \"score\": \"als_score\"\n",
    "    }\n",
    ")\n",
    "candidates_for_train.head()"
   ]
  },
  {
   "cell_type": "code",
   "execution_count": 36,
   "id": "4edded33-e424-494d-83aa-df727ab2e077",
   "metadata": {},
   "outputs": [
    {
     "data": {
      "text/plain": [
       "user_id        0\n",
       "track_id       0\n",
       "als_score      0\n",
       "target         0\n",
       "genre          0\n",
       "genre_share    0\n",
       "dtype: int64"
      ]
     },
     "execution_count": 36,
     "metadata": {},
     "output_type": "execute_result"
    }
   ],
   "source": [
    "candidates_for_train.isna().sum()"
   ]
  },
  {
   "cell_type": "code",
   "execution_count": 37,
   "id": "cbbf956c-2a6f-4c91-ba06-5e3a92000830",
   "metadata": {},
   "outputs": [
    {
     "name": "stdout",
     "output_type": "stream",
     "text": [
      "<class 'pandas.core.frame.DataFrame'>\n",
      "RangeIndex: 14286 entries, 0 to 14285\n",
      "Data columns (total 6 columns):\n",
      " #   Column       Non-Null Count  Dtype  \n",
      "---  ------       --------------  -----  \n",
      " 0   user_id      14286 non-null  int32  \n",
      " 1   track_id     14286 non-null  int32  \n",
      " 2   als_score    14286 non-null  float64\n",
      " 3   target       14286 non-null  int64  \n",
      " 4   genre        14286 non-null  object \n",
      " 5   genre_share  14286 non-null  float64\n",
      "dtypes: float64(2), int32(2), int64(1), object(1)\n",
      "memory usage: 1.3 MB\n"
     ]
    }
   ],
   "source": [
    "candidates_for_train.info(memory_usage=\"deep\")"
   ]
  },
  {
   "cell_type": "markdown",
   "id": "42451677-d905-42c1-a368-4c29b19847d5",
   "metadata": {},
   "source": [
    "## Inference data"
   ]
  },
  {
   "cell_type": "markdown",
   "id": "e05f0e8d-a448-4f0b-b0d5-26e84b13dc20",
   "metadata": {},
   "source": [
    "Для того чтобы считать метрики нам необходимо иметь тестовые рекомендации. Предполагается что в таком случае события из `events_labels` уже стали частью тренировочного набора:"
   ]
  },
  {
   "cell_type": "code",
   "execution_count": 38,
   "id": "2dc34fdb-898a-453c-9b96-b00d70a0b1c6",
   "metadata": {},
   "outputs": [
    {
     "name": "stdout",
     "output_type": "stream",
     "text": [
      "<class 'pandas.core.frame.DataFrame'>\n",
      "Index: 46309577 entries, 0 to 49395086\n",
      "Data columns (total 6 columns):\n",
      " #   Column            Dtype         \n",
      "---  ------            -----         \n",
      " 0   user_id           int32         \n",
      " 1   track_id          int32         \n",
      " 2   started_at        datetime64[ns]\n",
      " 3   user_id_encoded   int64         \n",
      " 4   track_id_encoded  int64         \n",
      " 5   tracks_played     float64       \n",
      "dtypes: datetime64[ns](1), float64(1), int32(2), int64(2)\n",
      "memory usage: 2.1 GB\n"
     ]
    }
   ],
   "source": [
    "events_train.info()"
   ]
  },
  {
   "cell_type": "code",
   "execution_count": 39,
   "id": "82fd32f3-634a-4bc7-8d32-adfa1a73611f",
   "metadata": {},
   "outputs": [
    {
     "name": "stdout",
     "output_type": "stream",
     "text": [
      "<class 'pandas.core.frame.DataFrame'>\n",
      "Index: 47950618 entries, 0 to 49395062\n",
      "Data columns (total 7 columns):\n",
      " #   Column            Dtype         \n",
      "---  ------            -----         \n",
      " 0   user_id           int32         \n",
      " 1   track_id          int32         \n",
      " 2   started_at        datetime64[ns]\n",
      " 3   user_id_encoded   int64         \n",
      " 4   track_id_encoded  int64         \n",
      " 5   tracks_played     float64       \n",
      " 6   target            float64       \n",
      "dtypes: datetime64[ns](1), float64(2), int32(2), int64(2)\n",
      "memory usage: 2.5 GB\n"
     ]
    }
   ],
   "source": [
    "inference_data = pd.concat([events_train, events_labels])\n",
    "inference_data.info()"
   ]
  },
  {
   "cell_type": "markdown",
   "id": "b5bf3e3e-49f5-4fe7-8ce5-00bfcaf7f55c",
   "metadata": {},
   "source": [
    "Обучим новую ALS-модель и повторим все преобразования заново:"
   ]
  },
  {
   "cell_type": "code",
   "execution_count": 40,
   "id": "97f3dd12-73f9-4021-ab6b-2dc6ea22e438",
   "metadata": {},
   "outputs": [
    {
     "data": {
      "text/plain": [
       "<Compressed Sparse Row sparse matrix of dtype 'int8'\n",
       "\twith 47950618 stored elements and shape (303934, 1000000)>"
      ]
     },
     "execution_count": 40,
     "metadata": {},
     "output_type": "execute_result"
    }
   ],
   "source": [
    "user_item_matrix_inference = scipy.sparse.csr_matrix(\n",
    "    (\n",
    "    inference_data[\"tracks_played\"],\n",
    "    (inference_data[\"user_id_encoded\"], inference_data[\"track_id_encoded\"])\n",
    "    ),\n",
    "    dtype=np.int8\n",
    ")\n",
    "user_item_matrix_inference"
   ]
  },
  {
   "cell_type": "code",
   "execution_count": 41,
   "id": "e9d0f48e-2bb5-407a-9cd4-ac998c98545d",
   "metadata": {},
   "outputs": [
    {
     "name": "stderr",
     "output_type": "stream",
     "text": [
      "100%|██████████████████████████████████████████████████████████████████████████| 100/100 [11:22<00:00,  6.83s/it]\n"
     ]
    }
   ],
   "source": [
    "als_model_inference = AlternatingLeastSquares(**als_params)\n",
    "als_model_inference.fit(user_item_matrix_inference)"
   ]
  },
  {
   "cell_type": "code",
   "execution_count": 42,
   "id": "b47c21b1-b466-4913-861b-85b68ed0d795",
   "metadata": {},
   "outputs": [
    {
     "name": "stdout",
     "output_type": "stream",
     "text": [
      "CPU times: user 29min 56s, sys: 11min 43s, total: 41min 39s\n",
      "Wall time: 10min 36s\n"
     ]
    }
   ],
   "source": [
    "%%time\n",
    "user_ids_encoded = range(len(user_encoder.classes_))\n",
    "\n",
    "als_recommendations_inference = als_model_inference.recommend(\n",
    "    user_ids_encoded, \n",
    "    user_item_matrix_inference[user_ids_encoded], \n",
    "    filter_already_liked_items=False, \n",
    "    N=10,\n",
    ")"
   ]
  },
  {
   "cell_type": "code",
   "execution_count": 43,
   "id": "90cf4dde-a0aa-431a-ad18-e45ffed662a3",
   "metadata": {},
   "outputs": [
    {
     "data": {
      "text/html": [
       "<div>\n",
       "<style scoped>\n",
       "    .dataframe tbody tr th:only-of-type {\n",
       "        vertical-align: middle;\n",
       "    }\n",
       "\n",
       "    .dataframe tbody tr th {\n",
       "        vertical-align: top;\n",
       "    }\n",
       "\n",
       "    .dataframe thead th {\n",
       "        text-align: right;\n",
       "    }\n",
       "</style>\n",
       "<table border=\"1\" class=\"dataframe\">\n",
       "  <thead>\n",
       "    <tr style=\"text-align: right;\">\n",
       "      <th></th>\n",
       "      <th>user_id</th>\n",
       "      <th>track_id</th>\n",
       "      <th>score</th>\n",
       "    </tr>\n",
       "  </thead>\n",
       "  <tbody>\n",
       "    <tr>\n",
       "      <th>0</th>\n",
       "      <td>4</td>\n",
       "      <td>53404</td>\n",
       "      <td>2.470839e-12</td>\n",
       "    </tr>\n",
       "    <tr>\n",
       "      <th>1</th>\n",
       "      <td>4</td>\n",
       "      <td>23559960</td>\n",
       "      <td>4.552044e-20</td>\n",
       "    </tr>\n",
       "    <tr>\n",
       "      <th>2</th>\n",
       "      <td>4</td>\n",
       "      <td>1710811</td>\n",
       "      <td>3.458561e-20</td>\n",
       "    </tr>\n",
       "    <tr>\n",
       "      <th>3</th>\n",
       "      <td>4</td>\n",
       "      <td>81848875</td>\n",
       "      <td>3.347138e-20</td>\n",
       "    </tr>\n",
       "    <tr>\n",
       "      <th>4</th>\n",
       "      <td>4</td>\n",
       "      <td>60292250</td>\n",
       "      <td>3.272448e-20</td>\n",
       "    </tr>\n",
       "    <tr>\n",
       "      <th>5</th>\n",
       "      <td>4</td>\n",
       "      <td>6679078</td>\n",
       "      <td>3.106566e-20</td>\n",
       "    </tr>\n",
       "    <tr>\n",
       "      <th>6</th>\n",
       "      <td>4</td>\n",
       "      <td>17198795</td>\n",
       "      <td>3.031365e-20</td>\n",
       "    </tr>\n",
       "    <tr>\n",
       "      <th>7</th>\n",
       "      <td>4</td>\n",
       "      <td>78194999</td>\n",
       "      <td>2.905115e-20</td>\n",
       "    </tr>\n",
       "    <tr>\n",
       "      <th>8</th>\n",
       "      <td>4</td>\n",
       "      <td>67538121</td>\n",
       "      <td>2.766610e-20</td>\n",
       "    </tr>\n",
       "    <tr>\n",
       "      <th>9</th>\n",
       "      <td>4</td>\n",
       "      <td>70619465</td>\n",
       "      <td>2.749917e-20</td>\n",
       "    </tr>\n",
       "  </tbody>\n",
       "</table>\n",
       "</div>"
      ],
      "text/plain": [
       "   user_id  track_id         score\n",
       "0        4     53404  2.470839e-12\n",
       "1        4  23559960  4.552044e-20\n",
       "2        4   1710811  3.458561e-20\n",
       "3        4  81848875  3.347138e-20\n",
       "4        4  60292250  3.272448e-20\n",
       "5        4   6679078  3.106566e-20\n",
       "6        4  17198795  3.031365e-20\n",
       "7        4  78194999  2.905115e-20\n",
       "8        4  67538121  2.766610e-20\n",
       "9        4  70619465  2.749917e-20"
      ]
     },
     "execution_count": 43,
     "metadata": {},
     "output_type": "execute_result"
    }
   ],
   "source": [
    "track_ids_encoded = als_recommendations_inference[0]\n",
    "als_scores = als_recommendations_inference[1]\n",
    "\n",
    "als_recommendations_inference = pd.DataFrame({\n",
    "    \"user_id_encoded\": user_ids_encoded,\n",
    "    \"track_id_encoded\": track_ids_encoded.tolist(), \n",
    "    \"score\": als_scores.tolist(),\n",
    "})\n",
    "als_recommendations_inference = als_recommendations_inference.explode(\n",
    "    [\"track_id_encoded\", \"score\"], ignore_index=True\n",
    ")\n",
    "\n",
    "als_recommendations_inference[\"track_id_encoded\"] = als_recommendations_inference[\"track_id_encoded\"].astype(\"int\")\n",
    "als_recommendations_inference[\"score\"] = als_recommendations_inference[\"score\"].astype(\"float\")\n",
    "\n",
    "als_recommendations_inference[\"user_id\"] = user_encoder.inverse_transform(\n",
    "    als_recommendations_inference[\"user_id_encoded\"]\n",
    ")\n",
    "als_recommendations_inference[\"track_id\"] = item_encoder.inverse_transform(\n",
    "    als_recommendations_inference[\"track_id_encoded\"]\n",
    ")\n",
    "als_recommendations_inference = als_recommendations_inference.drop(\n",
    "    columns=[\"user_id_encoded\", \"track_id_encoded\"]\n",
    ")\n",
    "\n",
    "als_recommendations_inference = als_recommendations_inference[[\"user_id\", \"track_id\", \"score\"]]\n",
    "als_recommendations_inference.head(10)"
   ]
  },
  {
   "cell_type": "code",
   "execution_count": 44,
   "id": "a9ed9519-2fd0-474e-a015-3b0ff28e7458",
   "metadata": {},
   "outputs": [],
   "source": [
    "try:\n",
    "    als_recommendations_inference.to_parquet(\"data/personal_als_inference.parquet\")\n",
    "except OSError:\n",
    "    als_recommendations_inference.to_parquet(\"personal_als_inference.parquet\")"
   ]
  },
  {
   "cell_type": "markdown",
   "id": "37443b13-350a-477f-8e40-03ee8d029ed9",
   "metadata": {},
   "source": [
    "Для экономии ресурсов включим только пользователей из `events_test_2`:"
   ]
  },
  {
   "cell_type": "code",
   "execution_count": 45,
   "id": "ad57dd08-7e5f-483c-beef-42c642cb3e84",
   "metadata": {},
   "outputs": [
    {
     "data": {
      "text/html": [
       "<div>\n",
       "<style scoped>\n",
       "    .dataframe tbody tr th:only-of-type {\n",
       "        vertical-align: middle;\n",
       "    }\n",
       "\n",
       "    .dataframe tbody tr th {\n",
       "        vertical-align: top;\n",
       "    }\n",
       "\n",
       "    .dataframe thead th {\n",
       "        text-align: right;\n",
       "    }\n",
       "</style>\n",
       "<table border=\"1\" class=\"dataframe\">\n",
       "  <thead>\n",
       "    <tr style=\"text-align: right;\">\n",
       "      <th></th>\n",
       "      <th>user_id</th>\n",
       "      <th>track_id</th>\n",
       "      <th>score</th>\n",
       "    </tr>\n",
       "  </thead>\n",
       "  <tbody>\n",
       "    <tr>\n",
       "      <th>0</th>\n",
       "      <td>4</td>\n",
       "      <td>53404</td>\n",
       "      <td>2.470839e-12</td>\n",
       "    </tr>\n",
       "    <tr>\n",
       "      <th>1</th>\n",
       "      <td>4</td>\n",
       "      <td>23559960</td>\n",
       "      <td>4.552044e-20</td>\n",
       "    </tr>\n",
       "    <tr>\n",
       "      <th>2</th>\n",
       "      <td>4</td>\n",
       "      <td>1710811</td>\n",
       "      <td>3.458561e-20</td>\n",
       "    </tr>\n",
       "    <tr>\n",
       "      <th>3</th>\n",
       "      <td>4</td>\n",
       "      <td>81848875</td>\n",
       "      <td>3.347138e-20</td>\n",
       "    </tr>\n",
       "    <tr>\n",
       "      <th>4</th>\n",
       "      <td>4</td>\n",
       "      <td>60292250</td>\n",
       "      <td>3.272448e-20</td>\n",
       "    </tr>\n",
       "  </tbody>\n",
       "</table>\n",
       "</div>"
      ],
      "text/plain": [
       "   user_id  track_id         score\n",
       "0        4     53404  2.470839e-12\n",
       "1        4  23559960  4.552044e-20\n",
       "2        4   1710811  3.458561e-20\n",
       "3        4  81848875  3.347138e-20\n",
       "4        4  60292250  3.272448e-20"
      ]
     },
     "execution_count": 45,
     "metadata": {},
     "output_type": "execute_result"
    }
   ],
   "source": [
    "candidates_to_rank = als_recommendations_inference[\n",
    "    als_recommendations_inference.user_id.isin(events_test_2.user_id.drop_duplicates())\n",
    "]\n",
    "candidates_to_rank.head()"
   ]
  },
  {
   "cell_type": "markdown",
   "id": "68ec9843-8540-4aa8-9d1e-c887cb073631",
   "metadata": {},
   "source": [
    "### Adding features"
   ]
  },
  {
   "cell_type": "markdown",
   "id": "12e19763-4f39-48a6-9064-8d0c54872979",
   "metadata": {},
   "source": [
    "Добавим созданные признаки к данным для инференса:"
   ]
  },
  {
   "cell_type": "code",
   "execution_count": 46,
   "id": "13626652-4fbe-410a-a3b5-5c487bd368c2",
   "metadata": {},
   "outputs": [
    {
     "data": {
      "text/html": [
       "<div>\n",
       "<style scoped>\n",
       "    .dataframe tbody tr th:only-of-type {\n",
       "        vertical-align: middle;\n",
       "    }\n",
       "\n",
       "    .dataframe tbody tr th {\n",
       "        vertical-align: top;\n",
       "    }\n",
       "\n",
       "    .dataframe thead th {\n",
       "        text-align: right;\n",
       "    }\n",
       "</style>\n",
       "<table border=\"1\" class=\"dataframe\">\n",
       "  <thead>\n",
       "    <tr style=\"text-align: right;\">\n",
       "      <th></th>\n",
       "      <th>user_id</th>\n",
       "      <th>track_id</th>\n",
       "      <th>score</th>\n",
       "      <th>genre</th>\n",
       "    </tr>\n",
       "  </thead>\n",
       "  <tbody>\n",
       "    <tr>\n",
       "      <th>0</th>\n",
       "      <td>4</td>\n",
       "      <td>53404</td>\n",
       "      <td>2.470839e-12</td>\n",
       "      <td>alternative</td>\n",
       "    </tr>\n",
       "    <tr>\n",
       "      <th>1</th>\n",
       "      <td>4</td>\n",
       "      <td>23559960</td>\n",
       "      <td>4.552044e-20</td>\n",
       "      <td>indie</td>\n",
       "    </tr>\n",
       "    <tr>\n",
       "      <th>2</th>\n",
       "      <td>4</td>\n",
       "      <td>1710811</td>\n",
       "      <td>3.458561e-20</td>\n",
       "      <td>rock</td>\n",
       "    </tr>\n",
       "    <tr>\n",
       "      <th>3</th>\n",
       "      <td>4</td>\n",
       "      <td>81848875</td>\n",
       "      <td>3.347138e-20</td>\n",
       "      <td>pop</td>\n",
       "    </tr>\n",
       "    <tr>\n",
       "      <th>4</th>\n",
       "      <td>4</td>\n",
       "      <td>60292250</td>\n",
       "      <td>3.272448e-20</td>\n",
       "      <td>rnb</td>\n",
       "    </tr>\n",
       "  </tbody>\n",
       "</table>\n",
       "</div>"
      ],
      "text/plain": [
       "   user_id  track_id         score        genre\n",
       "0        4     53404  2.470839e-12  alternative\n",
       "1        4  23559960  4.552044e-20        indie\n",
       "2        4   1710811  3.458561e-20         rock\n",
       "3        4  81848875  3.347138e-20          pop\n",
       "4        4  60292250  3.272448e-20          rnb"
      ]
     },
     "execution_count": 46,
     "metadata": {},
     "output_type": "execute_result"
    }
   ],
   "source": [
    "candidates_to_rank = candidates_to_rank.merge(\n",
    "    items[[\"track_id\", \"genre\"]],\n",
    "    on=\"track_id\",\n",
    "    how=\"left\"\n",
    ")\n",
    "candidates_to_rank.head()"
   ]
  },
  {
   "cell_type": "code",
   "execution_count": 47,
   "id": "7e9653ed-78d8-48ae-8033-b79bb2df1cf9",
   "metadata": {},
   "outputs": [
    {
     "data": {
      "text/html": [
       "<div>\n",
       "<style scoped>\n",
       "    .dataframe tbody tr th:only-of-type {\n",
       "        vertical-align: middle;\n",
       "    }\n",
       "\n",
       "    .dataframe tbody tr th {\n",
       "        vertical-align: top;\n",
       "    }\n",
       "\n",
       "    .dataframe thead th {\n",
       "        text-align: right;\n",
       "    }\n",
       "</style>\n",
       "<table border=\"1\" class=\"dataframe\">\n",
       "  <thead>\n",
       "    <tr style=\"text-align: right;\">\n",
       "      <th></th>\n",
       "      <th>user_id</th>\n",
       "      <th>track_id</th>\n",
       "      <th>score</th>\n",
       "      <th>genre</th>\n",
       "      <th>genre_share</th>\n",
       "    </tr>\n",
       "  </thead>\n",
       "  <tbody>\n",
       "    <tr>\n",
       "      <th>0</th>\n",
       "      <td>4</td>\n",
       "      <td>53404</td>\n",
       "      <td>2.470839e-12</td>\n",
       "      <td>alternative</td>\n",
       "      <td>0.045580</td>\n",
       "    </tr>\n",
       "    <tr>\n",
       "      <th>1</th>\n",
       "      <td>4</td>\n",
       "      <td>23559960</td>\n",
       "      <td>4.552044e-20</td>\n",
       "      <td>indie</td>\n",
       "      <td>0.024834</td>\n",
       "    </tr>\n",
       "    <tr>\n",
       "      <th>2</th>\n",
       "      <td>4</td>\n",
       "      <td>1710811</td>\n",
       "      <td>3.458561e-20</td>\n",
       "      <td>rock</td>\n",
       "      <td>0.047187</td>\n",
       "    </tr>\n",
       "    <tr>\n",
       "      <th>3</th>\n",
       "      <td>4</td>\n",
       "      <td>81848875</td>\n",
       "      <td>3.347138e-20</td>\n",
       "      <td>pop</td>\n",
       "      <td>0.245902</td>\n",
       "    </tr>\n",
       "    <tr>\n",
       "      <th>4</th>\n",
       "      <td>4</td>\n",
       "      <td>60292250</td>\n",
       "      <td>3.272448e-20</td>\n",
       "      <td>rnb</td>\n",
       "      <td>0.008675</td>\n",
       "    </tr>\n",
       "  </tbody>\n",
       "</table>\n",
       "</div>"
      ],
      "text/plain": [
       "   user_id  track_id         score        genre  genre_share\n",
       "0        4     53404  2.470839e-12  alternative     0.045580\n",
       "1        4  23559960  4.552044e-20        indie     0.024834\n",
       "2        4   1710811  3.458561e-20         rock     0.047187\n",
       "3        4  81848875  3.347138e-20          pop     0.245902\n",
       "4        4  60292250  3.272448e-20          rnb     0.008675"
      ]
     },
     "execution_count": 47,
     "metadata": {},
     "output_type": "execute_result"
    }
   ],
   "source": [
    "candidates_to_rank = candidates_to_rank.merge(\n",
    "    genre_shares,\n",
    "    on=\"genre\",\n",
    "    how=\"left\"\n",
    ")\n",
    "candidates_to_rank.head()"
   ]
  },
  {
   "cell_type": "code",
   "execution_count": 48,
   "id": "ddbba84c-5bc5-49a8-a96e-287fb6887e42",
   "metadata": {},
   "outputs": [
    {
     "data": {
      "text/plain": [
       "user_id        0\n",
       "track_id       0\n",
       "score          0\n",
       "genre          0\n",
       "genre_share    0\n",
       "dtype: int64"
      ]
     },
     "execution_count": 48,
     "metadata": {},
     "output_type": "execute_result"
    }
   ],
   "source": [
    "candidates_to_rank.isna().sum()"
   ]
  },
  {
   "cell_type": "code",
   "execution_count": 49,
   "id": "3f527b35-66bc-421b-bae0-88f888fd4f08",
   "metadata": {},
   "outputs": [
    {
     "data": {
      "text/html": [
       "<div>\n",
       "<style scoped>\n",
       "    .dataframe tbody tr th:only-of-type {\n",
       "        vertical-align: middle;\n",
       "    }\n",
       "\n",
       "    .dataframe tbody tr th {\n",
       "        vertical-align: top;\n",
       "    }\n",
       "\n",
       "    .dataframe thead th {\n",
       "        text-align: right;\n",
       "    }\n",
       "</style>\n",
       "<table border=\"1\" class=\"dataframe\">\n",
       "  <thead>\n",
       "    <tr style=\"text-align: right;\">\n",
       "      <th></th>\n",
       "      <th>user_id</th>\n",
       "      <th>track_id</th>\n",
       "      <th>als_score</th>\n",
       "      <th>genre</th>\n",
       "      <th>genre_share</th>\n",
       "    </tr>\n",
       "  </thead>\n",
       "  <tbody>\n",
       "    <tr>\n",
       "      <th>0</th>\n",
       "      <td>4</td>\n",
       "      <td>53404</td>\n",
       "      <td>2.470839e-12</td>\n",
       "      <td>alternative</td>\n",
       "      <td>0.045580</td>\n",
       "    </tr>\n",
       "    <tr>\n",
       "      <th>1</th>\n",
       "      <td>4</td>\n",
       "      <td>23559960</td>\n",
       "      <td>4.552044e-20</td>\n",
       "      <td>indie</td>\n",
       "      <td>0.024834</td>\n",
       "    </tr>\n",
       "    <tr>\n",
       "      <th>2</th>\n",
       "      <td>4</td>\n",
       "      <td>1710811</td>\n",
       "      <td>3.458561e-20</td>\n",
       "      <td>rock</td>\n",
       "      <td>0.047187</td>\n",
       "    </tr>\n",
       "    <tr>\n",
       "      <th>3</th>\n",
       "      <td>4</td>\n",
       "      <td>81848875</td>\n",
       "      <td>3.347138e-20</td>\n",
       "      <td>pop</td>\n",
       "      <td>0.245902</td>\n",
       "    </tr>\n",
       "    <tr>\n",
       "      <th>4</th>\n",
       "      <td>4</td>\n",
       "      <td>60292250</td>\n",
       "      <td>3.272448e-20</td>\n",
       "      <td>rnb</td>\n",
       "      <td>0.008675</td>\n",
       "    </tr>\n",
       "  </tbody>\n",
       "</table>\n",
       "</div>"
      ],
      "text/plain": [
       "   user_id  track_id     als_score        genre  genre_share\n",
       "0        4     53404  2.470839e-12  alternative     0.045580\n",
       "1        4  23559960  4.552044e-20        indie     0.024834\n",
       "2        4   1710811  3.458561e-20         rock     0.047187\n",
       "3        4  81848875  3.347138e-20          pop     0.245902\n",
       "4        4  60292250  3.272448e-20          rnb     0.008675"
      ]
     },
     "execution_count": 49,
     "metadata": {},
     "output_type": "execute_result"
    }
   ],
   "source": [
    "candidates_to_rank = candidates_to_rank.rename(\n",
    "    columns={\n",
    "        \"score\": \"als_score\"\n",
    "    }\n",
    ")\n",
    "candidates_to_rank.head()"
   ]
  },
  {
   "cell_type": "code",
   "execution_count": 50,
   "id": "3a738a57-fc63-4b18-9e25-ec3efbed29ea",
   "metadata": {},
   "outputs": [
    {
     "name": "stdout",
     "output_type": "stream",
     "text": [
      "<class 'pandas.core.frame.DataFrame'>\n",
      "RangeIndex: 1339780 entries, 0 to 1339779\n",
      "Data columns (total 5 columns):\n",
      " #   Column       Non-Null Count    Dtype  \n",
      "---  ------       --------------    -----  \n",
      " 0   user_id      1339780 non-null  int32  \n",
      " 1   track_id     1339780 non-null  int32  \n",
      " 2   als_score    1339780 non-null  float64\n",
      " 3   genre        1339780 non-null  object \n",
      " 4   genre_share  1339780 non-null  float64\n",
      "dtypes: float64(2), int32(2), object(1)\n",
      "memory usage: 40.9+ MB\n"
     ]
    }
   ],
   "source": [
    "candidates_to_rank.info()"
   ]
  },
  {
   "cell_type": "markdown",
   "id": "8298883b-e0bf-43ac-a2b2-698513d08e70",
   "metadata": {},
   "source": [
    "Поскольку в дальнейшем для расчета метрик мы будет использовать разные варианты датафрейма `candidates_to_rank` (для ранжирования персональных рекомендаций и итоговых), сохраним текущее состояние датафрейма, чтобы можно было начать с одной точки: "
   ]
  },
  {
   "cell_type": "code",
   "execution_count": 51,
   "id": "9214bf79-6034-4318-8aed-1c1e81580f9b",
   "metadata": {},
   "outputs": [
    {
     "data": {
      "text/plain": [
       "0"
      ]
     },
     "execution_count": 51,
     "metadata": {},
     "output_type": "execute_result"
    }
   ],
   "source": [
    "candidates_to_rank_personal = candidates_to_rank.copy()\n",
    "candidates_to_rank_final = candidates_to_rank.copy()\n",
    "\n",
    "del candidates_to_rank\n",
    "gc.collect()"
   ]
  },
  {
   "cell_type": "markdown",
   "id": "47bcf88d-b236-46f0-a6f3-38ddd64895fe",
   "metadata": {},
   "source": [
    "# Ранжирование рекомендаций"
   ]
  },
  {
   "cell_type": "markdown",
   "id": "e8cd8223-3418-4493-8c87-1f76286ebda0",
   "metadata": {},
   "source": [
    "Построим ранжирующую модель, чтобы сделать рекомендации более точными. Отранжируем рекомендации."
   ]
  },
  {
   "cell_type": "markdown",
   "id": "48205580-afae-4e79-a937-52fe2efe47f4",
   "metadata": {},
   "source": [
    "## Персональные ALS"
   ]
  },
  {
   "cell_type": "markdown",
   "id": "42fbe1ad-57d5-49d2-8672-ccd3871976eb",
   "metadata": {},
   "source": [
    "Для начала обучим модель на данных без использования топа популярных. Будем использовать стандартные настройки классификатора градиентного бустинга, где добавим несколько новых:\n",
    "\n",
    "* `cat_features` => Поскольку фича `genre` представляет собой категориальный нечисловой признак, воспользуемся встроенным параметром библиотеки `catboost` для работы с таким типом колонок, который укажем в структуре `Pool`;\n",
    "* `one_hot_max_size` => Включение данного параметра с высоким значением позволит принудительно кодировать единственную категориальную фичу при помощи *OHE*, которая имеет около 30 категорий жанров; \n",
    "* `auto_class_weights` => Присутствующий дисбаланс классов модель будет устранять автоматически при помощи расчета весов для каждого класса.  "
   ]
  },
  {
   "cell_type": "code",
   "execution_count": 52,
   "id": "9ca12b98-0e4e-4536-be13-cd7e9ebe80a5",
   "metadata": {},
   "outputs": [
    {
     "name": "stdout",
     "output_type": "stream",
     "text": [
      "0:\tlearn: 0.6803862\ttotal: 54.2ms\tremaining: 1m 32s\n",
      "100:\tlearn: 0.6092438\ttotal: 279ms\tremaining: 4.42s\n",
      "200:\tlearn: 0.6027145\ttotal: 512ms\tremaining: 3.81s\n",
      "300:\tlearn: 0.5979328\ttotal: 746ms\tremaining: 3.47s\n",
      "400:\tlearn: 0.5943741\ttotal: 978ms\tremaining: 3.17s\n",
      "500:\tlearn: 0.5913316\ttotal: 1.21s\tremaining: 2.9s\n",
      "600:\tlearn: 0.5889015\ttotal: 1.45s\tremaining: 2.65s\n",
      "700:\tlearn: 0.5868833\ttotal: 1.68s\tremaining: 2.4s\n",
      "800:\tlearn: 0.5847407\ttotal: 1.92s\tremaining: 2.15s\n",
      "900:\tlearn: 0.5826944\ttotal: 2.14s\tremaining: 1.9s\n",
      "1000:\tlearn: 0.5811877\ttotal: 2.38s\tremaining: 1.66s\n",
      "1100:\tlearn: 0.5796127\ttotal: 2.6s\tremaining: 1.42s\n",
      "1200:\tlearn: 0.5781294\ttotal: 2.83s\tremaining: 1.18s\n",
      "1300:\tlearn: 0.5770091\ttotal: 3.06s\tremaining: 938ms\n",
      "1400:\tlearn: 0.5757182\ttotal: 3.28s\tremaining: 701ms\n",
      "1500:\tlearn: 0.5746807\ttotal: 3.51s\tremaining: 465ms\n",
      "1600:\tlearn: 0.5735558\ttotal: 3.74s\tremaining: 231ms\n",
      "1699:\tlearn: 0.5724701\ttotal: 3.96s\tremaining: 0us\n"
     ]
    },
    {
     "data": {
      "text/plain": [
       "<catboost.core.CatBoostClassifier at 0x7f814baee7a0>"
      ]
     },
     "execution_count": 52,
     "metadata": {},
     "output_type": "execute_result"
    }
   ],
   "source": [
    "# Specifying features and target\n",
    "features = [\"als_score\", \"genre\", \"genre_share\"]\n",
    "cat_features = [\"genre\"]\n",
    "target = [\"target\"]\n",
    "\n",
    "# Pooling training data\n",
    "train_data = Pool(\n",
    "    data=candidates_for_train[features],\n",
    "    label=candidates_for_train[target],\n",
    "    cat_features=cat_features,\n",
    ")\n",
    "\n",
    "# Specifying model parameters\n",
    "catboost_params = {\n",
    "    \"iterations\": 1700,\n",
    "    \"learning_rate\": 0.09,\n",
    "    \"depth\": 3,\n",
    "    \"verbose\": 100,\n",
    "    \"loss_function\": \"Logloss\",\n",
    "    \"one_hot_max_size\": 100,\n",
    "    \"auto_class_weights\": \"Balanced\",\n",
    "    \"random_seed\": RANDOM_STATE,\n",
    "}\n",
    "model = CatBoostClassifier(**catboost_params)\n",
    "\n",
    "# Launching training\n",
    "model.fit(train_data)"
   ]
  },
  {
   "cell_type": "markdown",
   "id": "3cc44088-1f5c-4ace-9c67-fc8e1fd69e47",
   "metadata": {},
   "source": [
    "Теперь можем воспользоваться моделью для инференса, то есть предскажем вероятность того, что пользователь будет взаимодействовать с объектом:"
   ]
  },
  {
   "cell_type": "code",
   "execution_count": 53,
   "id": "d7a2627b-16de-490d-a157-f66a63b4506a",
   "metadata": {},
   "outputs": [],
   "source": [
    "# Predicting interaction probabilities\n",
    "inf_data = Pool(data=candidates_to_rank_personal[features], cat_features=cat_features)\n",
    "predictions = model.predict_proba(inf_data)\n",
    "candidates_to_rank_personal[\"cb_score\"] = predictions[:, 1]\n",
    "\n",
    "# Sorting the DataFrame to create rankings\n",
    "candidates_to_rank_personal = candidates_to_rank_personal.sort_values(\n",
    "    by=[\"user_id\", \"cb_score\"], ascending=[True, False]\n",
    ")\n",
    "\n",
    "# Ranking recommendations\n",
    "candidates_to_rank_personal[\"rank\"] = candidates_to_rank_personal.groupby(\"user_id\").cumcount() + 1"
   ]
  },
  {
   "cell_type": "code",
   "execution_count": 54,
   "id": "928362e2-b6ee-4be8-ba6c-03431c89b8a0",
   "metadata": {},
   "outputs": [
    {
     "data": {
      "text/html": [
       "<div>\n",
       "<style scoped>\n",
       "    .dataframe tbody tr th:only-of-type {\n",
       "        vertical-align: middle;\n",
       "    }\n",
       "\n",
       "    .dataframe tbody tr th {\n",
       "        vertical-align: top;\n",
       "    }\n",
       "\n",
       "    .dataframe thead th {\n",
       "        text-align: right;\n",
       "    }\n",
       "</style>\n",
       "<table border=\"1\" class=\"dataframe\">\n",
       "  <thead>\n",
       "    <tr style=\"text-align: right;\">\n",
       "      <th></th>\n",
       "      <th>user_id</th>\n",
       "      <th>track_id</th>\n",
       "      <th>als_score</th>\n",
       "      <th>genre</th>\n",
       "      <th>genre_share</th>\n",
       "      <th>cb_score</th>\n",
       "      <th>rank</th>\n",
       "    </tr>\n",
       "  </thead>\n",
       "  <tbody>\n",
       "    <tr>\n",
       "      <th>4</th>\n",
       "      <td>4</td>\n",
       "      <td>60292250</td>\n",
       "      <td>3.272448e-20</td>\n",
       "      <td>rnb</td>\n",
       "      <td>0.008675</td>\n",
       "      <td>0.815677</td>\n",
       "      <td>1</td>\n",
       "    </tr>\n",
       "    <tr>\n",
       "      <th>3</th>\n",
       "      <td>4</td>\n",
       "      <td>81848875</td>\n",
       "      <td>3.347138e-20</td>\n",
       "      <td>pop</td>\n",
       "      <td>0.245902</td>\n",
       "      <td>0.623609</td>\n",
       "      <td>2</td>\n",
       "    </tr>\n",
       "    <tr>\n",
       "      <th>6</th>\n",
       "      <td>4</td>\n",
       "      <td>17198795</td>\n",
       "      <td>3.031365e-20</td>\n",
       "      <td>pop</td>\n",
       "      <td>0.245902</td>\n",
       "      <td>0.615930</td>\n",
       "      <td>3</td>\n",
       "    </tr>\n",
       "    <tr>\n",
       "      <th>9</th>\n",
       "      <td>4</td>\n",
       "      <td>70619465</td>\n",
       "      <td>2.749917e-20</td>\n",
       "      <td>pop</td>\n",
       "      <td>0.245902</td>\n",
       "      <td>0.614665</td>\n",
       "      <td>4</td>\n",
       "    </tr>\n",
       "    <tr>\n",
       "      <th>7</th>\n",
       "      <td>4</td>\n",
       "      <td>78194999</td>\n",
       "      <td>2.905115e-20</td>\n",
       "      <td>rusrap</td>\n",
       "      <td>0.112467</td>\n",
       "      <td>0.573623</td>\n",
       "      <td>5</td>\n",
       "    </tr>\n",
       "  </tbody>\n",
       "</table>\n",
       "</div>"
      ],
      "text/plain": [
       "   user_id  track_id     als_score   genre  genre_share  cb_score  rank\n",
       "4        4  60292250  3.272448e-20     rnb     0.008675  0.815677     1\n",
       "3        4  81848875  3.347138e-20     pop     0.245902  0.623609     2\n",
       "6        4  17198795  3.031365e-20     pop     0.245902  0.615930     3\n",
       "9        4  70619465  2.749917e-20     pop     0.245902  0.614665     4\n",
       "7        4  78194999  2.905115e-20  rusrap     0.112467  0.573623     5"
      ]
     },
     "execution_count": 54,
     "metadata": {},
     "output_type": "execute_result"
    }
   ],
   "source": [
    "candidates_to_rank_personal.head()"
   ]
  },
  {
   "cell_type": "markdown",
   "id": "b2dd57b4-9b26-48e9-b080-fbbbd41bffbc",
   "metadata": {},
   "source": [
    "Можем также посмотреть на то, какие признаки оказались важными для предсказаний с точки зрения модели:"
   ]
  },
  {
   "cell_type": "code",
   "execution_count": 55,
   "id": "7706084d-2604-4e78-afc6-843982b112a9",
   "metadata": {},
   "outputs": [
    {
     "data": {
      "image/png": "[encoded data removed]",
      "text/plain": [
       "<Figure size 640x480 with 1 Axes>"
      ]
     },
     "metadata": {},
     "output_type": "display_data"
    }
   ],
   "source": [
    "fi = pd.Series(\n",
    "    model.feature_importances_,\n",
    "    index=features,\n",
    "    name=\"fi_personal_recs\",\n",
    ").sort_values()\n",
    "\n",
    "fi.plot(kind=\"barh\")\n",
    "plt.title(\"Feature importances\")\n",
    "plt.ylabel(\"Feature\")\n",
    "plt.xlabel(\"Importance score\")\n",
    "plt.tight_layout()\n",
    "plt.show()"
   ]
  },
  {
   "cell_type": "markdown",
   "id": "39991228-116d-4f3f-9ada-b7a1de5c33f2",
   "metadata": {},
   "source": [
    "## Итоговые рекомендации"
   ]
  },
  {
   "cell_type": "markdown",
   "id": "18677564-36a7-4c26-b3cc-beead9918627",
   "metadata": {},
   "source": [
    "Для расчета итоговых рекомендаций добавим новую фичу к данным, а именно число прослушиваний. Сначала рассчитаем число прослушиваний треков для каждого из них:"
   ]
  },
  {
   "cell_type": "code",
   "execution_count": 56,
   "id": "a47e806e-a484-43bb-9cae-a06c14405b93",
   "metadata": {},
   "outputs": [
    {
     "data": {
      "text/html": [
       "<div>\n",
       "<style scoped>\n",
       "    .dataframe tbody tr th:only-of-type {\n",
       "        vertical-align: middle;\n",
       "    }\n",
       "\n",
       "    .dataframe tbody tr th {\n",
       "        vertical-align: top;\n",
       "    }\n",
       "\n",
       "    .dataframe thead th {\n",
       "        text-align: right;\n",
       "    }\n",
       "</style>\n",
       "<table border=\"1\" class=\"dataframe\">\n",
       "  <thead>\n",
       "    <tr style=\"text-align: right;\">\n",
       "      <th></th>\n",
       "      <th>track_id</th>\n",
       "      <th>track</th>\n",
       "      <th>artist</th>\n",
       "      <th>count</th>\n",
       "    </tr>\n",
       "  </thead>\n",
       "  <tbody>\n",
       "    <tr>\n",
       "      <th>0</th>\n",
       "      <td>53404</td>\n",
       "      <td>Smells Like Teen Spirit</td>\n",
       "      <td>Nirvana</td>\n",
       "      <td>24274</td>\n",
       "    </tr>\n",
       "    <tr>\n",
       "      <th>1</th>\n",
       "      <td>33311009</td>\n",
       "      <td>Believer</td>\n",
       "      <td>Imagine Dragons</td>\n",
       "      <td>22382</td>\n",
       "    </tr>\n",
       "    <tr>\n",
       "      <th>2</th>\n",
       "      <td>178529</td>\n",
       "      <td>Numb</td>\n",
       "      <td>Linkin Park</td>\n",
       "      <td>22198</td>\n",
       "    </tr>\n",
       "    <tr>\n",
       "      <th>3</th>\n",
       "      <td>35505245</td>\n",
       "      <td>I Got Love</td>\n",
       "      <td>Miyagi &amp; Эндшпиль</td>\n",
       "      <td>21120</td>\n",
       "    </tr>\n",
       "    <tr>\n",
       "      <th>4</th>\n",
       "      <td>24692821</td>\n",
       "      <td>Way Down We Go</td>\n",
       "      <td>KALEO</td>\n",
       "      <td>18719</td>\n",
       "    </tr>\n",
       "    <tr>\n",
       "      <th>...</th>\n",
       "      <td>...</td>\n",
       "      <td>...</td>\n",
       "      <td>...</td>\n",
       "      <td>...</td>\n",
       "    </tr>\n",
       "    <tr>\n",
       "      <th>919736</th>\n",
       "      <td>436749</td>\n",
       "      <td>Taste The Red Hands</td>\n",
       "      <td>Dead Poetic</td>\n",
       "      <td>1</td>\n",
       "    </tr>\n",
       "    <tr>\n",
       "      <th>919737</th>\n",
       "      <td>61690343</td>\n",
       "      <td>Mémoire</td>\n",
       "      <td>Maes</td>\n",
       "      <td>1</td>\n",
       "    </tr>\n",
       "    <tr>\n",
       "      <th>919738</th>\n",
       "      <td>83778917</td>\n",
       "      <td>Я тебя закопаю под снег</td>\n",
       "      <td>prvrln</td>\n",
       "      <td>1</td>\n",
       "    </tr>\n",
       "    <tr>\n",
       "      <th>919739</th>\n",
       "      <td>88718967</td>\n",
       "      <td>IMMORTAL</td>\n",
       "      <td>JUNIOR FERRARI</td>\n",
       "      <td>1</td>\n",
       "    </tr>\n",
       "    <tr>\n",
       "      <th>919740</th>\n",
       "      <td>61108399</td>\n",
       "      <td>Pubg mobile</td>\n",
       "      <td>Sawcher</td>\n",
       "      <td>1</td>\n",
       "    </tr>\n",
       "  </tbody>\n",
       "</table>\n",
       "<p>919741 rows × 4 columns</p>\n",
       "</div>"
      ],
      "text/plain": [
       "        track_id                    track             artist  count\n",
       "0          53404  Smells Like Teen Spirit            Nirvana  24274\n",
       "1       33311009                 Believer    Imagine Dragons  22382\n",
       "2         178529                     Numb        Linkin Park  22198\n",
       "3       35505245               I Got Love  Miyagi & Эндшпиль  21120\n",
       "4       24692821           Way Down We Go              KALEO  18719\n",
       "...          ...                      ...                ...    ...\n",
       "919736    436749      Taste The Red Hands        Dead Poetic      1\n",
       "919737  61690343                  Mémoire               Maes      1\n",
       "919738  83778917  Я тебя закопаю под снег             prvrln      1\n",
       "919739  88718967                 IMMORTAL     JUNIOR FERRARI      1\n",
       "919740  61108399              Pubg mobile            Sawcher      1\n",
       "\n",
       "[919741 rows x 4 columns]"
      ]
     },
     "execution_count": 56,
     "metadata": {},
     "output_type": "execute_result"
    }
   ],
   "source": [
    "popular = events_train.track_id \\\n",
    "            .value_counts() \\\n",
    "            .reset_index() \\\n",
    "            .merge(\n",
    "                items[[\"track_id\", \"track\", \"artist\"]],\n",
    "                on=\"track_id\",\n",
    "                how=\"left\",\n",
    "            )[[\"track_id\", \"track\", \"artist\", \"count\"]]\n",
    "popular"
   ]
  },
  {
   "cell_type": "markdown",
   "id": "f3cd0d7a-1406-4ac1-8a4f-dab42da68749",
   "metadata": {},
   "source": [
    "Теперь смержим эту таблицу с тренировочными и тестовыми рекомендациями."
   ]
  },
  {
   "cell_type": "code",
   "execution_count": 57,
   "id": "97432448-c05b-4195-b8d4-a3e9090b4e46",
   "metadata": {},
   "outputs": [
    {
     "data": {
      "text/html": [
       "<div>\n",
       "<style scoped>\n",
       "    .dataframe tbody tr th:only-of-type {\n",
       "        vertical-align: middle;\n",
       "    }\n",
       "\n",
       "    .dataframe tbody tr th {\n",
       "        vertical-align: top;\n",
       "    }\n",
       "\n",
       "    .dataframe thead th {\n",
       "        text-align: right;\n",
       "    }\n",
       "</style>\n",
       "<table border=\"1\" class=\"dataframe\">\n",
       "  <thead>\n",
       "    <tr style=\"text-align: right;\">\n",
       "      <th></th>\n",
       "      <th>user_id</th>\n",
       "      <th>track_id</th>\n",
       "      <th>als_score</th>\n",
       "      <th>target</th>\n",
       "      <th>genre</th>\n",
       "      <th>genre_share</th>\n",
       "      <th>count</th>\n",
       "    </tr>\n",
       "  </thead>\n",
       "  <tbody>\n",
       "    <tr>\n",
       "      <th>0</th>\n",
       "      <td>464</td>\n",
       "      <td>66322065</td>\n",
       "      <td>5.039634e-20</td>\n",
       "      <td>1</td>\n",
       "      <td>pop</td>\n",
       "      <td>0.245902</td>\n",
       "      <td>11314</td>\n",
       "    </tr>\n",
       "    <tr>\n",
       "      <th>1</th>\n",
       "      <td>503</td>\n",
       "      <td>43942453</td>\n",
       "      <td>6.802856e-20</td>\n",
       "      <td>1</td>\n",
       "      <td>local-indie</td>\n",
       "      <td>0.018300</td>\n",
       "      <td>15098</td>\n",
       "    </tr>\n",
       "    <tr>\n",
       "      <th>2</th>\n",
       "      <td>645</td>\n",
       "      <td>60292250</td>\n",
       "      <td>5.851431e-20</td>\n",
       "      <td>1</td>\n",
       "      <td>rnb</td>\n",
       "      <td>0.008675</td>\n",
       "      <td>16624</td>\n",
       "    </tr>\n",
       "    <tr>\n",
       "      <th>3</th>\n",
       "      <td>1209</td>\n",
       "      <td>60292250</td>\n",
       "      <td>5.641042e-21</td>\n",
       "      <td>1</td>\n",
       "      <td>rnb</td>\n",
       "      <td>0.008675</td>\n",
       "      <td>16624</td>\n",
       "    </tr>\n",
       "    <tr>\n",
       "      <th>4</th>\n",
       "      <td>2538</td>\n",
       "      <td>10776533</td>\n",
       "      <td>1.375346e-19</td>\n",
       "      <td>1</td>\n",
       "      <td>rock</td>\n",
       "      <td>0.047187</td>\n",
       "      <td>8683</td>\n",
       "    </tr>\n",
       "  </tbody>\n",
       "</table>\n",
       "</div>"
      ],
      "text/plain": [
       "   user_id  track_id     als_score  target        genre  genre_share  count\n",
       "0      464  66322065  5.039634e-20       1          pop     0.245902  11314\n",
       "1      503  43942453  6.802856e-20       1  local-indie     0.018300  15098\n",
       "2      645  60292250  5.851431e-20       1          rnb     0.008675  16624\n",
       "3     1209  60292250  5.641042e-21       1          rnb     0.008675  16624\n",
       "4     2538  10776533  1.375346e-19       1         rock     0.047187   8683"
      ]
     },
     "execution_count": 57,
     "metadata": {},
     "output_type": "execute_result"
    }
   ],
   "source": [
    "candidates_for_train = candidates_for_train.merge(\n",
    "    popular[[\"track_id\", \"count\"]],\n",
    "    on=\"track_id\",\n",
    "    how=\"left\",\n",
    ")\n",
    "candidates_for_train.head()"
   ]
  },
  {
   "cell_type": "code",
   "execution_count": 58,
   "id": "2a8c803a-6336-4d57-a81c-52bbe45d48a1",
   "metadata": {},
   "outputs": [
    {
     "data": {
      "text/html": [
       "<div>\n",
       "<style scoped>\n",
       "    .dataframe tbody tr th:only-of-type {\n",
       "        vertical-align: middle;\n",
       "    }\n",
       "\n",
       "    .dataframe tbody tr th {\n",
       "        vertical-align: top;\n",
       "    }\n",
       "\n",
       "    .dataframe thead th {\n",
       "        text-align: right;\n",
       "    }\n",
       "</style>\n",
       "<table border=\"1\" class=\"dataframe\">\n",
       "  <thead>\n",
       "    <tr style=\"text-align: right;\">\n",
       "      <th></th>\n",
       "      <th>user_id</th>\n",
       "      <th>track_id</th>\n",
       "      <th>als_score</th>\n",
       "      <th>genre</th>\n",
       "      <th>genre_share</th>\n",
       "      <th>count</th>\n",
       "    </tr>\n",
       "  </thead>\n",
       "  <tbody>\n",
       "    <tr>\n",
       "      <th>0</th>\n",
       "      <td>4</td>\n",
       "      <td>53404</td>\n",
       "      <td>2.470839e-12</td>\n",
       "      <td>alternative</td>\n",
       "      <td>0.045580</td>\n",
       "      <td>24274.0</td>\n",
       "    </tr>\n",
       "    <tr>\n",
       "      <th>1</th>\n",
       "      <td>4</td>\n",
       "      <td>23559960</td>\n",
       "      <td>4.552044e-20</td>\n",
       "      <td>indie</td>\n",
       "      <td>0.024834</td>\n",
       "      <td>15384.0</td>\n",
       "    </tr>\n",
       "    <tr>\n",
       "      <th>2</th>\n",
       "      <td>4</td>\n",
       "      <td>1710811</td>\n",
       "      <td>3.458561e-20</td>\n",
       "      <td>rock</td>\n",
       "      <td>0.047187</td>\n",
       "      <td>12729.0</td>\n",
       "    </tr>\n",
       "    <tr>\n",
       "      <th>3</th>\n",
       "      <td>4</td>\n",
       "      <td>81848875</td>\n",
       "      <td>3.347138e-20</td>\n",
       "      <td>pop</td>\n",
       "      <td>0.245902</td>\n",
       "      <td>11436.0</td>\n",
       "    </tr>\n",
       "    <tr>\n",
       "      <th>4</th>\n",
       "      <td>4</td>\n",
       "      <td>60292250</td>\n",
       "      <td>3.272448e-20</td>\n",
       "      <td>rnb</td>\n",
       "      <td>0.008675</td>\n",
       "      <td>16624.0</td>\n",
       "    </tr>\n",
       "  </tbody>\n",
       "</table>\n",
       "</div>"
      ],
      "text/plain": [
       "   user_id  track_id     als_score        genre  genre_share    count\n",
       "0        4     53404  2.470839e-12  alternative     0.045580  24274.0\n",
       "1        4  23559960  4.552044e-20        indie     0.024834  15384.0\n",
       "2        4   1710811  3.458561e-20         rock     0.047187  12729.0\n",
       "3        4  81848875  3.347138e-20          pop     0.245902  11436.0\n",
       "4        4  60292250  3.272448e-20          rnb     0.008675  16624.0"
      ]
     },
     "execution_count": 58,
     "metadata": {},
     "output_type": "execute_result"
    }
   ],
   "source": [
    "candidates_to_rank_final = candidates_to_rank_final.merge(\n",
    "    popular[[\"track_id\", \"count\"]],\n",
    "    on=\"track_id\",\n",
    "    how=\"left\",\n",
    ")\n",
    "candidates_to_rank_final.head()"
   ]
  },
  {
   "cell_type": "code",
   "execution_count": 59,
   "id": "35792442-7052-4997-87e3-86f7f2aae113",
   "metadata": {},
   "outputs": [
    {
     "data": {
      "text/plain": [
       "user_id           0\n",
       "track_id          0\n",
       "als_score         0\n",
       "genre             0\n",
       "genre_share       0\n",
       "count          2622\n",
       "dtype: int64"
      ]
     },
     "execution_count": 59,
     "metadata": {},
     "output_type": "execute_result"
    }
   ],
   "source": [
    "candidates_to_rank_final.isna().sum()"
   ]
  },
  {
   "cell_type": "markdown",
   "id": "817ceb35-e40e-4484-862b-0dba46abcc44",
   "metadata": {},
   "source": [
    "Запустим обучение новой модели:"
   ]
  },
  {
   "cell_type": "code",
   "execution_count": 60,
   "id": "23e32974-34db-4b27-84b3-cbca759a16b4",
   "metadata": {},
   "outputs": [
    {
     "name": "stdout",
     "output_type": "stream",
     "text": [
      "0:\tlearn: 0.6798919\ttotal: 2.81ms\tremaining: 4.78s\n",
      "100:\tlearn: 0.5927914\ttotal: 222ms\tremaining: 3.51s\n",
      "200:\tlearn: 0.5733386\ttotal: 443ms\tremaining: 3.3s\n",
      "300:\tlearn: 0.5621892\ttotal: 665ms\tremaining: 3.09s\n",
      "400:\tlearn: 0.5534316\ttotal: 898ms\tremaining: 2.91s\n",
      "500:\tlearn: 0.5467932\ttotal: 1.13s\tremaining: 2.71s\n",
      "600:\tlearn: 0.5421107\ttotal: 1.37s\tremaining: 2.5s\n",
      "700:\tlearn: 0.5367795\ttotal: 1.6s\tremaining: 2.28s\n",
      "800:\tlearn: 0.5322435\ttotal: 1.83s\tremaining: 2.06s\n",
      "900:\tlearn: 0.5284104\ttotal: 2.07s\tremaining: 1.83s\n",
      "1000:\tlearn: 0.5237072\ttotal: 2.3s\tremaining: 1.61s\n",
      "1100:\tlearn: 0.5204380\ttotal: 2.54s\tremaining: 1.38s\n",
      "1200:\tlearn: 0.5176297\ttotal: 2.77s\tremaining: 1.15s\n",
      "1300:\tlearn: 0.5147901\ttotal: 3s\tremaining: 920ms\n",
      "1400:\tlearn: 0.5118787\ttotal: 3.23s\tremaining: 689ms\n",
      "1500:\tlearn: 0.5092981\ttotal: 3.46s\tremaining: 458ms\n",
      "1600:\tlearn: 0.5069761\ttotal: 3.69s\tremaining: 228ms\n",
      "1699:\tlearn: 0.5041308\ttotal: 3.92s\tremaining: 0us\n"
     ]
    },
    {
     "data": {
      "text/plain": [
       "<catboost.core.CatBoostClassifier at 0x7f7f2333d240>"
      ]
     },
     "execution_count": 60,
     "metadata": {},
     "output_type": "execute_result"
    }
   ],
   "source": [
    "features.append(\"count\")\n",
    "target = [\"target\"]\n",
    "\n",
    "train_data = Pool(\n",
    "    data=candidates_for_train[features],\n",
    "    label=candidates_for_train[target],\n",
    "    cat_features=cat_features,\n",
    ")\n",
    "\n",
    "model = CatBoostClassifier(**catboost_params)\n",
    "\n",
    "model.fit(train_data)"
   ]
  },
  {
   "cell_type": "code",
   "execution_count": 61,
   "id": "28f18c00-8526-4775-8086-444e51398e5f",
   "metadata": {},
   "outputs": [],
   "source": [
    "inf_data = Pool(data=candidates_to_rank_final[features], cat_features=cat_features)\n",
    "predictions = model.predict_proba(inf_data)\n",
    "\n",
    "candidates_to_rank_final[\"cb_score\"] = predictions[:, 1]\n",
    "\n",
    "candidates_to_rank_final = candidates_to_rank_final.sort_values(\n",
    "    by=[\"user_id\", \"cb_score\"], ascending=[True, False]\n",
    ")\n",
    "candidates_to_rank_final[\"rank\"] = candidates_to_rank_final.groupby(\"user_id\").cumcount() + 1"
   ]
  },
  {
   "cell_type": "code",
   "execution_count": 62,
   "id": "f35822c3-dbf7-48f9-9023-a587cb8398b1",
   "metadata": {},
   "outputs": [
    {
     "data": {
      "text/html": [
       "<div>\n",
       "<style scoped>\n",
       "    .dataframe tbody tr th:only-of-type {\n",
       "        vertical-align: middle;\n",
       "    }\n",
       "\n",
       "    .dataframe tbody tr th {\n",
       "        vertical-align: top;\n",
       "    }\n",
       "\n",
       "    .dataframe thead th {\n",
       "        text-align: right;\n",
       "    }\n",
       "</style>\n",
       "<table border=\"1\" class=\"dataframe\">\n",
       "  <thead>\n",
       "    <tr style=\"text-align: right;\">\n",
       "      <th></th>\n",
       "      <th>user_id</th>\n",
       "      <th>track_id</th>\n",
       "      <th>als_score</th>\n",
       "      <th>genre</th>\n",
       "      <th>genre_share</th>\n",
       "      <th>count</th>\n",
       "      <th>cb_score</th>\n",
       "      <th>rank</th>\n",
       "    </tr>\n",
       "  </thead>\n",
       "  <tbody>\n",
       "    <tr>\n",
       "      <th>3</th>\n",
       "      <td>4</td>\n",
       "      <td>81848875</td>\n",
       "      <td>3.347138e-20</td>\n",
       "      <td>pop</td>\n",
       "      <td>0.245902</td>\n",
       "      <td>11436.0</td>\n",
       "      <td>0.832675</td>\n",
       "      <td>1</td>\n",
       "    </tr>\n",
       "    <tr>\n",
       "      <th>4</th>\n",
       "      <td>4</td>\n",
       "      <td>60292250</td>\n",
       "      <td>3.272448e-20</td>\n",
       "      <td>rnb</td>\n",
       "      <td>0.008675</td>\n",
       "      <td>16624.0</td>\n",
       "      <td>0.818144</td>\n",
       "      <td>2</td>\n",
       "    </tr>\n",
       "    <tr>\n",
       "      <th>9</th>\n",
       "      <td>4</td>\n",
       "      <td>70619465</td>\n",
       "      <td>2.749917e-20</td>\n",
       "      <td>pop</td>\n",
       "      <td>0.245902</td>\n",
       "      <td>10130.0</td>\n",
       "      <td>0.726640</td>\n",
       "      <td>3</td>\n",
       "    </tr>\n",
       "    <tr>\n",
       "      <th>7</th>\n",
       "      <td>4</td>\n",
       "      <td>78194999</td>\n",
       "      <td>2.905115e-20</td>\n",
       "      <td>rusrap</td>\n",
       "      <td>0.112467</td>\n",
       "      <td>7192.0</td>\n",
       "      <td>0.671969</td>\n",
       "      <td>4</td>\n",
       "    </tr>\n",
       "    <tr>\n",
       "      <th>8</th>\n",
       "      <td>4</td>\n",
       "      <td>67538121</td>\n",
       "      <td>2.766610e-20</td>\n",
       "      <td>rusrap</td>\n",
       "      <td>0.112467</td>\n",
       "      <td>6769.0</td>\n",
       "      <td>0.493854</td>\n",
       "      <td>5</td>\n",
       "    </tr>\n",
       "  </tbody>\n",
       "</table>\n",
       "</div>"
      ],
      "text/plain": [
       "   user_id  track_id     als_score   genre  genre_share    count  cb_score  \\\n",
       "3        4  81848875  3.347138e-20     pop     0.245902  11436.0  0.832675   \n",
       "4        4  60292250  3.272448e-20     rnb     0.008675  16624.0  0.818144   \n",
       "9        4  70619465  2.749917e-20     pop     0.245902  10130.0  0.726640   \n",
       "7        4  78194999  2.905115e-20  rusrap     0.112467   7192.0  0.671969   \n",
       "8        4  67538121  2.766610e-20  rusrap     0.112467   6769.0  0.493854   \n",
       "\n",
       "   rank  \n",
       "3     1  \n",
       "4     2  \n",
       "9     3  \n",
       "7     4  \n",
       "8     5  "
      ]
     },
     "execution_count": 62,
     "metadata": {},
     "output_type": "execute_result"
    }
   ],
   "source": [
    "candidates_to_rank_final.head()"
   ]
  },
  {
   "cell_type": "code",
   "execution_count": 63,
   "id": "9bc9e2b2-7a70-431a-b202-f47e92b41f95",
   "metadata": {},
   "outputs": [
    {
     "data": {
      "image/png": "[encoded data removed]",
      "text/plain": [
       "<Figure size 640x480 with 1 Axes>"
      ]
     },
     "metadata": {},
     "output_type": "display_data"
    }
   ],
   "source": [
    "fi = pd.Series(\n",
    "    model.feature_importances_,\n",
    "    index=features,\n",
    "    name=\"fi_final_recs\",\n",
    ").sort_values()\n",
    "\n",
    "fi.plot(kind=\"barh\")\n",
    "plt.title(\"Feature importances\")\n",
    "plt.ylabel(\"Feature\")\n",
    "plt.xlabel(\"Importance score\")\n",
    "plt.tight_layout()\n",
    "plt.show()"
   ]
  },
  {
   "cell_type": "markdown",
   "id": "b00fd64c-4621-401f-98ad-015001aa2a82",
   "metadata": {},
   "source": [
    "Получившиеся рекомендации, которые были отранжированы и представляют собой итоговые рекомендации, который сохраним в `final_recommendations`."
   ]
  },
  {
   "cell_type": "code",
   "execution_count": 64,
   "id": "159725e9-c806-4e46-b6d5-49759b5a4b32",
   "metadata": {},
   "outputs": [
    {
     "data": {
      "text/plain": [
       "6644"
      ]
     },
     "execution_count": 64,
     "metadata": {},
     "output_type": "execute_result"
    }
   ],
   "source": [
    "final_recommendations = candidates_to_rank_final.copy()\n",
    "\n",
    "del candidates_to_rank_final\n",
    "gc.collect()"
   ]
  },
  {
   "cell_type": "code",
   "execution_count": 65,
   "id": "bb663fef-a6f7-4ef8-87f2-ab09861a0d33",
   "metadata": {},
   "outputs": [
    {
     "name": "stdout",
     "output_type": "stream",
     "text": [
      "<class 'pandas.core.frame.DataFrame'>\n",
      "Index: 1339780 entries, 3 to 1339773\n",
      "Data columns (total 8 columns):\n",
      " #   Column       Non-Null Count    Dtype  \n",
      "---  ------       --------------    -----  \n",
      " 0   user_id      1339780 non-null  int32  \n",
      " 1   track_id     1339780 non-null  int32  \n",
      " 2   als_score    1339780 non-null  float64\n",
      " 3   genre        1339780 non-null  object \n",
      " 4   genre_share  1339780 non-null  float64\n",
      " 5   count        1337158 non-null  float64\n",
      " 6   cb_score     1339780 non-null  float64\n",
      " 7   rank         1339780 non-null  int64  \n",
      "dtypes: float64(4), int32(2), int64(1), object(1)\n",
      "memory usage: 151.4 MB\n"
     ]
    }
   ],
   "source": [
    "final_recommendations.info(memory_usage=\"deep\")"
   ]
  },
  {
   "cell_type": "code",
   "execution_count": 66,
   "id": "a3c3a5f1-c869-41ce-ba1f-af8baab32f74",
   "metadata": {},
   "outputs": [],
   "source": [
    "try:\n",
    "    final_recommendations.to_parquet(\"data/recommendations.parquet\")\n",
    "except OSError:\n",
    "    final_recommendations.to_parquet(\"recommendations.parquet\")"
   ]
  },
  {
   "cell_type": "markdown",
   "id": "b3c84071-45b5-4a15-a683-e0ab034a3128",
   "metadata": {},
   "source": [
    "# Оценка качества"
   ]
  },
  {
   "cell_type": "markdown",
   "id": "1b107fe4-554e-42b1-87d9-c435a52bb77a",
   "metadata": {},
   "source": [
    "Проверим оценку качества трёх типов рекомендаций: \n",
    "\n",
    "- топ популярных,\n",
    "- персональных, полученных при помощи ALS,\n",
    "- итоговых\n",
    "  \n",
    "по четырем метрикам: recall, precision, coverage, novelty."
   ]
  },
  {
   "cell_type": "markdown",
   "id": "a051dbc5-dab1-4edb-ad7e-5fc68456f64d",
   "metadata": {},
   "source": [
    "## Топ популярных"
   ]
  },
  {
   "cell_type": "markdown",
   "id": "903d778b-4ea5-4c7e-bbc9-484a7f6ffe73",
   "metadata": {},
   "source": [
    "Для топа популярных обучать модель нет необходимости. В данном случае возможно лишь рассчитать общий *recall*, который по сути говорит о том, сколько рекомендаций из топа попали во взаимодействия пользователей (рассмотрим здесь холодных)."
   ]
  },
  {
   "cell_type": "code",
   "execution_count": 67,
   "id": "447dbf2d-d85f-462e-aff4-d7b7640b2e89",
   "metadata": {},
   "outputs": [
    {
     "name": "stdout",
     "output_type": "stream",
     "text": [
      "<class 'pandas.core.frame.DataFrame'>\n",
      "Index: 244387 entries, 19859 to 10794098\n",
      "Data columns (total 5 columns):\n",
      " #   Column            Non-Null Count   Dtype         \n",
      "---  ------            --------------   -----         \n",
      " 0   user_id           244387 non-null  int32         \n",
      " 1   track_id          244387 non-null  int32         \n",
      " 2   started_at        244387 non-null  datetime64[ns]\n",
      " 3   user_id_encoded   244387 non-null  int64         \n",
      " 4   track_id_encoded  244387 non-null  int64         \n",
      "dtypes: datetime64[ns](1), int32(2), int64(2)\n",
      "memory usage: 9.3 MB\n"
     ]
    }
   ],
   "source": [
    "events_cold = events[events.user_id.isin(cold_users)].drop(\"tracks_played\", axis=1)\n",
    "events_cold.info()"
   ]
  },
  {
   "cell_type": "code",
   "execution_count": 68,
   "id": "e4a82101-7271-4fa8-8807-fe7af9a4c6ba",
   "metadata": {},
   "outputs": [
    {
     "data": {
      "text/html": [
       "<div>\n",
       "<style scoped>\n",
       "    .dataframe tbody tr th:only-of-type {\n",
       "        vertical-align: middle;\n",
       "    }\n",
       "\n",
       "    .dataframe tbody tr th {\n",
       "        vertical-align: top;\n",
       "    }\n",
       "\n",
       "    .dataframe thead th {\n",
       "        text-align: right;\n",
       "    }\n",
       "</style>\n",
       "<table border=\"1\" class=\"dataframe\">\n",
       "  <thead>\n",
       "    <tr style=\"text-align: right;\">\n",
       "      <th></th>\n",
       "      <th>user_id</th>\n",
       "      <th>track_id</th>\n",
       "      <th>started_at</th>\n",
       "      <th>user_id_encoded</th>\n",
       "      <th>track_id_encoded</th>\n",
       "    </tr>\n",
       "  </thead>\n",
       "  <tbody>\n",
       "    <tr>\n",
       "      <th>19859</th>\n",
       "      <td>353</td>\n",
       "      <td>3735369</td>\n",
       "      <td>2022-04-04</td>\n",
       "      <td>81</td>\n",
       "      <td>152210</td>\n",
       "    </tr>\n",
       "    <tr>\n",
       "      <th>19860</th>\n",
       "      <td>353</td>\n",
       "      <td>5310285</td>\n",
       "      <td>2022-05-23</td>\n",
       "      <td>81</td>\n",
       "      <td>182512</td>\n",
       "    </tr>\n",
       "    <tr>\n",
       "      <th>19861</th>\n",
       "      <td>353</td>\n",
       "      <td>9439965</td>\n",
       "      <td>2022-05-23</td>\n",
       "      <td>81</td>\n",
       "      <td>212793</td>\n",
       "    </tr>\n",
       "    <tr>\n",
       "      <th>19862</th>\n",
       "      <td>353</td>\n",
       "      <td>17198143</td>\n",
       "      <td>2022-06-06</td>\n",
       "      <td>81</td>\n",
       "      <td>272412</td>\n",
       "    </tr>\n",
       "    <tr>\n",
       "      <th>19863</th>\n",
       "      <td>353</td>\n",
       "      <td>17326708</td>\n",
       "      <td>2022-06-25</td>\n",
       "      <td>81</td>\n",
       "      <td>275073</td>\n",
       "    </tr>\n",
       "  </tbody>\n",
       "</table>\n",
       "</div>"
      ],
      "text/plain": [
       "       user_id  track_id started_at  user_id_encoded  track_id_encoded\n",
       "19859      353   3735369 2022-04-04               81            152210\n",
       "19860      353   5310285 2022-05-23               81            182512\n",
       "19861      353   9439965 2022-05-23               81            212793\n",
       "19862      353  17198143 2022-06-06               81            272412\n",
       "19863      353  17326708 2022-06-25               81            275073"
      ]
     },
     "execution_count": 68,
     "metadata": {},
     "output_type": "execute_result"
    }
   ],
   "source": [
    "events_cold.head()"
   ]
  },
  {
   "cell_type": "code",
   "execution_count": 69,
   "id": "b715a7f6-69f6-4a73-8220-2e78cd0286d4",
   "metadata": {},
   "outputs": [
    {
     "data": {
      "text/html": [
       "<div>\n",
       "<style scoped>\n",
       "    .dataframe tbody tr th:only-of-type {\n",
       "        vertical-align: middle;\n",
       "    }\n",
       "\n",
       "    .dataframe tbody tr th {\n",
       "        vertical-align: top;\n",
       "    }\n",
       "\n",
       "    .dataframe thead th {\n",
       "        text-align: right;\n",
       "    }\n",
       "</style>\n",
       "<table border=\"1\" class=\"dataframe\">\n",
       "  <thead>\n",
       "    <tr style=\"text-align: right;\">\n",
       "      <th></th>\n",
       "      <th>user_id</th>\n",
       "      <th>track_id</th>\n",
       "      <th>started_at</th>\n",
       "      <th>user_id_encoded</th>\n",
       "      <th>track_id_encoded</th>\n",
       "      <th>tracks_played</th>\n",
       "    </tr>\n",
       "  </thead>\n",
       "  <tbody>\n",
       "    <tr>\n",
       "      <th>0</th>\n",
       "      <td>353</td>\n",
       "      <td>3735369</td>\n",
       "      <td>2022-04-04</td>\n",
       "      <td>81</td>\n",
       "      <td>152210</td>\n",
       "      <td>NaN</td>\n",
       "    </tr>\n",
       "    <tr>\n",
       "      <th>1</th>\n",
       "      <td>353</td>\n",
       "      <td>5310285</td>\n",
       "      <td>2022-05-23</td>\n",
       "      <td>81</td>\n",
       "      <td>182512</td>\n",
       "      <td>NaN</td>\n",
       "    </tr>\n",
       "    <tr>\n",
       "      <th>2</th>\n",
       "      <td>353</td>\n",
       "      <td>9439965</td>\n",
       "      <td>2022-05-23</td>\n",
       "      <td>81</td>\n",
       "      <td>212793</td>\n",
       "      <td>NaN</td>\n",
       "    </tr>\n",
       "    <tr>\n",
       "      <th>3</th>\n",
       "      <td>353</td>\n",
       "      <td>17198143</td>\n",
       "      <td>2022-06-06</td>\n",
       "      <td>81</td>\n",
       "      <td>272412</td>\n",
       "      <td>NaN</td>\n",
       "    </tr>\n",
       "    <tr>\n",
       "      <th>4</th>\n",
       "      <td>353</td>\n",
       "      <td>17326708</td>\n",
       "      <td>2022-06-25</td>\n",
       "      <td>81</td>\n",
       "      <td>275073</td>\n",
       "      <td>NaN</td>\n",
       "    </tr>\n",
       "  </tbody>\n",
       "</table>\n",
       "</div>"
      ],
      "text/plain": [
       "   user_id  track_id started_at  user_id_encoded  track_id_encoded  \\\n",
       "0      353   3735369 2022-04-04               81            152210   \n",
       "1      353   5310285 2022-05-23               81            182512   \n",
       "2      353   9439965 2022-05-23               81            212793   \n",
       "3      353  17198143 2022-06-06               81            272412   \n",
       "4      353  17326708 2022-06-25               81            275073   \n",
       "\n",
       "   tracks_played  \n",
       "0            NaN  \n",
       "1            NaN  \n",
       "2            NaN  \n",
       "3            NaN  \n",
       "4            NaN  "
      ]
     },
     "execution_count": 69,
     "metadata": {},
     "output_type": "execute_result"
    }
   ],
   "source": [
    "events_cold_top = events_cold.merge(\n",
    "    top_popular[[\"track_id\", \"tracks_played\"]],\n",
    "    on=\"track_id\",\n",
    "    how=\"left\",\n",
    ")\n",
    "events_cold_top.head()"
   ]
  },
  {
   "cell_type": "code",
   "execution_count": 70,
   "id": "98a77b88-0c98-4856-be7e-6c966dd40e3b",
   "metadata": {},
   "outputs": [
    {
     "data": {
      "text/plain": [
       "user_id                  0\n",
       "track_id                 0\n",
       "started_at               0\n",
       "user_id_encoded          0\n",
       "track_id_encoded         0\n",
       "tracks_played       237256\n",
       "dtype: int64"
      ]
     },
     "execution_count": 70,
     "metadata": {},
     "output_type": "execute_result"
    }
   ],
   "source": [
    "events_cold_top.isna().sum()"
   ]
  },
  {
   "cell_type": "code",
   "execution_count": 71,
   "id": "f818ab25-0f84-4756-b4af-790def2bad61",
   "metadata": {},
   "outputs": [
    {
     "data": {
      "text/plain": [
       "user_id\n",
       "353       0.000000\n",
       "786       0.016173\n",
       "794       0.000000\n",
       "883       0.033333\n",
       "1115      0.043478\n",
       "            ...   \n",
       "302292    0.171875\n",
       "302463    0.032258\n",
       "302661    0.045455\n",
       "302930    0.061069\n",
       "303562    0.000000\n",
       "Name: tracks_played, Length: 1487, dtype: float64"
      ]
     },
     "execution_count": 71,
     "metadata": {},
     "output_type": "execute_result"
    }
   ],
   "source": [
    "top_listened_share = events_cold_top \\\n",
    "                            .groupby(\"user_id\")[\"tracks_played\"] \\\n",
    "                            .apply(lambda x: x.notnull().mean())\n",
    "top_listened_share"
   ]
  },
  {
   "cell_type": "code",
   "execution_count": 72,
   "id": "d6475d45-4c20-44cb-9530-bbb05983009c",
   "metadata": {},
   "outputs": [
    {
     "name": "stdout",
     "output_type": "stream",
     "text": [
      "Recall for top popular: 0.05192\n"
     ]
    }
   ],
   "source": [
    "recall_gen = top_listened_share.mean()\n",
    "print(f\"Recall for top popular: {recall_gen:.5f}\")"
   ]
  },
  {
   "cell_type": "markdown",
   "id": "b1e23301-7478-4a72-b842-1ab36f20be3f",
   "metadata": {},
   "source": [
    "## Персональные ALS"
   ]
  },
  {
   "cell_type": "markdown",
   "id": "abb36106-286d-4031-b35e-6c69170d6a28",
   "metadata": {},
   "source": [
    "### Recall / Precision"
   ]
  },
  {
   "cell_type": "code",
   "execution_count": 73,
   "id": "b4d3646c-9616-42e8-a53e-6e1a5b6d5ee3",
   "metadata": {},
   "outputs": [],
   "source": [
    "def process_events_recs_for_binary_metrics(events_train, events_test, recs, top_k=None):\n",
    "    \"\"\"Labels <user_id, track_id> pairs for common users with features:\n",
    "    - gt => ground truth\n",
    "    - pr => prediction\n",
    "    top_k => using top-k recommendations for computation\n",
    "    \"\"\"\n",
    "    \n",
    "    events_test[\"gt\"] = True\n",
    "    common_users = set(events_test[\"user_id\"]) & set(recs[\"user_id\"])\n",
    "\n",
    "    print(f\"Common users: {len(common_users)}\")\n",
    "    \n",
    "    events_for_common_users = events_test[events_test[\"user_id\"].isin(common_users)].copy()\n",
    "    recs_for_common_users = recs[recs[\"user_id\"].isin(common_users)].copy()\n",
    "\n",
    "    recs_for_common_users = recs_for_common_users.sort_values([\"user_id\", \"score\"], ascending=[True, False])\n",
    "\n",
    "    events_for_common_users = events_for_common_users[events_for_common_users[\"track_id\"].isin(\n",
    "        events_train[\"track_id\"].unique()\n",
    "    )\n",
    "    ]\n",
    "\n",
    "    if top_k is not None:\n",
    "        recs_for_common_users = recs_for_common_users.groupby(\"user_id\").head(top_k)\n",
    "    \n",
    "    events_recs_common = events_for_common_users[[\"user_id\", \"track_id\", \"gt\"]].merge(\n",
    "        recs_for_common_users[[\"user_id\", \"track_id\", \"score\"]], \n",
    "        on=[\"user_id\", \"track_id\"], \n",
    "        how=\"outer\",\n",
    "    )    \n",
    "\n",
    "    events_recs_common[\"gt\"] = events_recs_common[\"gt\"].fillna(False)\n",
    "    events_recs_common[\"pr\"] = ~events_recs_common[\"score\"].isnull()\n",
    "    \n",
    "    events_recs_common[\"tp\"] = events_recs_common[\"gt\"] & events_recs_common[\"pr\"]\n",
    "    events_recs_common[\"fp\"] = ~events_recs_common[\"gt\"] & events_recs_common[\"pr\"]\n",
    "    events_recs_common[\"fn\"] = events_recs_common[\"gt\"] & ~events_recs_common[\"pr\"]\n",
    "\n",
    "    return events_recs_common"
   ]
  },
  {
   "cell_type": "code",
   "execution_count": 74,
   "id": "ffd5e69f-29b2-443e-81d2-7a079523f458",
   "metadata": {},
   "outputs": [
    {
     "name": "stdout",
     "output_type": "stream",
     "text": [
      "Common users: 133978\n"
     ]
    }
   ],
   "source": [
    "events_recs_for_binary_metric = process_events_recs_for_binary_metrics(\n",
    "    inference_data,\n",
    "    events_test_2,\n",
    "    candidates_to_rank_personal.rename(columns={\"cb_score\": \"score\"}),\n",
    "    top_k=5,\n",
    ")"
   ]
  },
  {
   "cell_type": "code",
   "execution_count": 75,
   "id": "acab4f47-ecab-4e40-96f3-62b7a937fdeb",
   "metadata": {},
   "outputs": [],
   "source": [
    "def compute_cls_metrics(events_recs_for_binary_metric):\n",
    "    \"\"\"Computes precision and recall.\"\"\"\n",
    "    \n",
    "    groupper = events_recs_for_binary_metric.groupby(\"user_id\")\n",
    "\n",
    "    # Computing precision\n",
    "    precision = groupper[\"tp\"].sum()/(groupper[\"tp\"].sum()+groupper[\"fp\"].sum())\n",
    "    precision = precision.fillna(0).mean()\n",
    "    \n",
    "    # Computing recall\n",
    "    recall = groupper[\"tp\"].sum()/(groupper[\"tp\"].sum()+groupper[\"fn\"].sum())\n",
    "    recall = recall.fillna(0).mean()\n",
    "\n",
    "    return precision, recall"
   ]
  },
  {
   "cell_type": "code",
   "execution_count": 76,
   "id": "c1b72438-1bfe-4617-af36-1f1485b602b9",
   "metadata": {},
   "outputs": [
    {
     "name": "stdout",
     "output_type": "stream",
     "text": [
      "Precision@5 = 0.00288 (0.288%)\n",
      "Recall@5 = 0.00197 (0.197%)\n"
     ]
    }
   ],
   "source": [
    "precision_at_5_personal, recall_at_5_personal = compute_cls_metrics(events_recs_for_binary_metric)\n",
    "\n",
    "print(f\"Precision@5 = {precision_at_5_personal:.5f} ({precision_at_5_personal:.3%})\")\n",
    "print(f\"Recall@5 = {recall_at_5_personal:.5f} ({recall_at_5_personal:.3%})\")"
   ]
  },
  {
   "cell_type": "markdown",
   "id": "9cb4b260-93a2-46ce-bd5e-7d3216af639e",
   "metadata": {},
   "source": [
    "### Coverage"
   ]
  },
  {
   "cell_type": "code",
   "execution_count": 77,
   "id": "852572f7-f78a-4119-bea2-e47336a378e8",
   "metadata": {},
   "outputs": [
    {
     "name": "stdout",
     "output_type": "stream",
     "text": [
      "Coverage = 0.00095 (0.095%)\n"
     ]
    }
   ],
   "source": [
    "coverage_personal = candidates_to_rank_personal.track_id.nunique() / items.shape[0]\n",
    "print(f\"Coverage = {coverage_personal} ({coverage_personal:.3%})\")"
   ]
  },
  {
   "cell_type": "markdown",
   "id": "fcb7e7df-6ebe-4793-8ee3-388563b66406",
   "metadata": {},
   "source": [
    "### Novelty"
   ]
  },
  {
   "cell_type": "code",
   "execution_count": 78,
   "id": "99947fe6-02a2-43c6-93d7-951b5d36eae2",
   "metadata": {},
   "outputs": [],
   "source": [
    "events_train[\"seen\"] = True\n",
    "\n",
    "candidates_to_rank_personal = candidates_to_rank_personal.merge(\n",
    "    events_train, \n",
    "    on=[\"user_id\", \"track_id\"], \n",
    "    how=\"left\"\n",
    ")\n",
    "\n",
    "candidates_to_rank_personal[\"seen\"] = candidates_to_rank_personal[\"seen\"].fillna(False).astype(\"bool\")"
   ]
  },
  {
   "cell_type": "code",
   "execution_count": 79,
   "id": "b4f0bf1a-73a0-4509-b47e-86cf52159743",
   "metadata": {},
   "outputs": [],
   "source": [
    "candidates_to_rank_personal = candidates_to_rank_personal.sort_values(by=\"als_score\", ascending=False)\n",
    "candidates_to_rank_personal[\"rank\"] = candidates_to_rank_personal.groupby(\"user_id\").cumcount() + 1"
   ]
  },
  {
   "cell_type": "code",
   "execution_count": 80,
   "id": "0fe26945-857a-43ce-bb30-09d03db9ab46",
   "metadata": {},
   "outputs": [
    {
     "name": "stdout",
     "output_type": "stream",
     "text": [
      "Novelty@5 = 0.9580\n"
     ]
    }
   ],
   "source": [
    "novelty_at_5_personal = (1 - candidates_to_rank_personal.query(\"rank <= 5\").groupby(\"user_id\")[\"seen\"].mean())\n",
    "novelty_at_5_personal = novelty_at_5_personal.mean()\n",
    "\n",
    "print(f\"Novelty@5 = {novelty_at_5_personal:.4f}\")"
   ]
  },
  {
   "cell_type": "markdown",
   "id": "08fa3bfd-d8b8-407c-97ba-f1492e223b18",
   "metadata": {},
   "source": [
    "## Итоговые рекомендации"
   ]
  },
  {
   "cell_type": "markdown",
   "id": "682432eb-cb82-4cbe-8432-3cc34d1a3882",
   "metadata": {},
   "source": [
    "### Recall/Precision"
   ]
  },
  {
   "cell_type": "code",
   "execution_count": 81,
   "id": "72941f68-3cba-4019-ae23-c7f043392290",
   "metadata": {},
   "outputs": [
    {
     "name": "stdout",
     "output_type": "stream",
     "text": [
      "Common users: 133978\n"
     ]
    }
   ],
   "source": [
    "events_recs_for_binary_metric = process_events_recs_for_binary_metrics(\n",
    "    inference_data,\n",
    "    events_test_2,\n",
    "    final_recommendations.rename(columns={\"cb_score\": \"score\"}),\n",
    "    top_k=5,\n",
    ")"
   ]
  },
  {
   "cell_type": "code",
   "execution_count": 82,
   "id": "cf80d682-f89f-4500-a8c9-925da46782fc",
   "metadata": {},
   "outputs": [
    {
     "name": "stdout",
     "output_type": "stream",
     "text": [
      "Precision@5 = 0.00338 (0.338%)\n",
      "Recall@5 = 0.00241 (0.241%)\n"
     ]
    }
   ],
   "source": [
    "precision_at_5_final, recall_at_5_final = compute_cls_metrics(events_recs_for_binary_metric)\n",
    "\n",
    "print(f\"Precision@5 = {precision_at_5_final:.5f} ({precision_at_5_final:.3%})\")\n",
    "print(f\"Recall@5 = {recall_at_5_final:.5f} ({recall_at_5_final:.3%})\")"
   ]
  },
  {
   "cell_type": "markdown",
   "id": "c0aa9dfb-9db5-4f25-8fc3-c93211d02f43",
   "metadata": {},
   "source": [
    "### Coverage"
   ]
  },
  {
   "cell_type": "code",
   "execution_count": 83,
   "id": "0c532931-55dd-4868-a537-317f64c3bb9b",
   "metadata": {},
   "outputs": [
    {
     "name": "stdout",
     "output_type": "stream",
     "text": [
      "Coverage = 0.00095 (0.095%)\n"
     ]
    }
   ],
   "source": [
    "coverage_final = final_recommendations.track_id.nunique() / items.shape[0]\n",
    "print(f\"Coverage = {coverage_final} ({coverage_final:.3%})\")"
   ]
  },
  {
   "cell_type": "markdown",
   "id": "94cc15b3-8cb3-4372-a9f9-2e47fc20f16c",
   "metadata": {},
   "source": [
    "### Novelty"
   ]
  },
  {
   "cell_type": "code",
   "execution_count": 84,
   "id": "2f7ea370-7f61-480e-be67-3cfd670fc24e",
   "metadata": {},
   "outputs": [],
   "source": [
    "events_train[\"seen\"] = True\n",
    "\n",
    "final_recommendations = final_recommendations.merge(\n",
    "    events_train, \n",
    "    on=[\"user_id\", \"track_id\"], \n",
    "    how=\"left\"\n",
    ")\n",
    "\n",
    "final_recommendations[\"seen\"] = final_recommendations[\"seen\"].fillna(False).astype(\"bool\")"
   ]
  },
  {
   "cell_type": "code",
   "execution_count": 85,
   "id": "7a50961b-b371-401e-835d-e7d699afb856",
   "metadata": {},
   "outputs": [],
   "source": [
    "final_recommendations = final_recommendations.sort_values(by=\"als_score\", ascending=False)\n",
    "final_recommendations[\"rank\"] = final_recommendations.groupby(\"user_id\").cumcount() + 1"
   ]
  },
  {
   "cell_type": "code",
   "execution_count": 86,
   "id": "45a242ac-e520-4d74-a711-d45345e4b534",
   "metadata": {},
   "outputs": [
    {
     "name": "stdout",
     "output_type": "stream",
     "text": [
      "Novelty@5 = 0.9580\n"
     ]
    }
   ],
   "source": [
    "novelty_at_5_final = (1 - final_recommendations.query(\"rank <= 5\").groupby(\"user_id\")[\"seen\"].mean())\n",
    "novelty_at_5_final = novelty_at_5_final.mean()\n",
    "\n",
    "print(f\"Novelty@5 = {novelty_at_5_personal:.4f}\")"
   ]
  },
  {
   "cell_type": "markdown",
   "id": "f1c8d38c-32b0-46a4-96f0-cd01dac708bc",
   "metadata": {},
   "source": [
    "# === Выводы, метрики ==="
   ]
  },
  {
   "cell_type": "markdown",
   "id": "f7d7d5d8-7d1e-4fdf-a6cd-83e5ce92c684",
   "metadata": {},
   "source": [
    "Основные выводы при работе над расчётом рекомендаций, рассчитанные метрики."
   ]
  },
  {
   "cell_type": "markdown",
   "id": "ee37aa56-65f3-4c80-b2a9-50d38f3feb18",
   "metadata": {},
   "source": [
    "Соберем рассчитанные метрики в одной таблице:"
   ]
  },
  {
   "cell_type": "code",
   "execution_count": 87,
   "id": "77796458-dd6f-405b-bce8-5bb3e9e51ae3",
   "metadata": {},
   "outputs": [
    {
     "data": {
      "text/html": [
       "<div>\n",
       "<style scoped>\n",
       "    .dataframe tbody tr th:only-of-type {\n",
       "        vertical-align: middle;\n",
       "    }\n",
       "\n",
       "    .dataframe tbody tr th {\n",
       "        vertical-align: top;\n",
       "    }\n",
       "\n",
       "    .dataframe thead th {\n",
       "        text-align: right;\n",
       "    }\n",
       "</style>\n",
       "<table border=\"1\" class=\"dataframe\">\n",
       "  <thead>\n",
       "    <tr style=\"text-align: right;\">\n",
       "      <th></th>\n",
       "      <th>top_popular</th>\n",
       "      <th>personal_als</th>\n",
       "      <th>final_recs</th>\n",
       "    </tr>\n",
       "  </thead>\n",
       "  <tbody>\n",
       "    <tr>\n",
       "      <th>recall_gen</th>\n",
       "      <td>0.051925</td>\n",
       "      <td>NaN</td>\n",
       "      <td>NaN</td>\n",
       "    </tr>\n",
       "    <tr>\n",
       "      <th>precision_at_5</th>\n",
       "      <td>NaN</td>\n",
       "      <td>0.002875</td>\n",
       "      <td>0.003375</td>\n",
       "    </tr>\n",
       "    <tr>\n",
       "      <th>recall_at_5</th>\n",
       "      <td>NaN</td>\n",
       "      <td>0.001967</td>\n",
       "      <td>0.002412</td>\n",
       "    </tr>\n",
       "    <tr>\n",
       "      <th>coverage</th>\n",
       "      <td>NaN</td>\n",
       "      <td>0.000950</td>\n",
       "      <td>0.000950</td>\n",
       "    </tr>\n",
       "    <tr>\n",
       "      <th>novelty_at_5</th>\n",
       "      <td>NaN</td>\n",
       "      <td>0.958026</td>\n",
       "      <td>0.958026</td>\n",
       "    </tr>\n",
       "  </tbody>\n",
       "</table>\n",
       "</div>"
      ],
      "text/plain": [
       "                top_popular  personal_als  final_recs\n",
       "recall_gen         0.051925           NaN         NaN\n",
       "precision_at_5          NaN      0.002875    0.003375\n",
       "recall_at_5             NaN      0.001967    0.002412\n",
       "coverage                NaN      0.000950    0.000950\n",
       "novelty_at_5            NaN      0.958026    0.958026"
      ]
     },
     "execution_count": 87,
     "metadata": {},
     "output_type": "execute_result"
    }
   ],
   "source": [
    "top_popular_metrics = pd.Series([recall_gen], index=[\"recall_gen\"], name=\"top_popular\")\n",
    "\n",
    "personal_als_metrics = pd.Series(\n",
    "    [\n",
    "        precision_at_5_personal, \n",
    "        recall_at_5_personal, \n",
    "        coverage_personal, \n",
    "        novelty_at_5_personal\n",
    "    ], \n",
    "    index=[\"precision_at_5\", \"recall_at_5\", \"coverage\", \"novelty_at_5\"],\n",
    "    name=\"personal_als\"\n",
    ")\n",
    "\n",
    "final_recs_metrics = pd.Series(\n",
    "    [\n",
    "        precision_at_5_final, \n",
    "        recall_at_5_final, \n",
    "        coverage_final, \n",
    "        novelty_at_5_final\n",
    "    ], \n",
    "    index=[\"precision_at_5\", \"recall_at_5\", \"coverage\", \"novelty_at_5\"],\n",
    "    name=\"final_recs\",\n",
    ")\n",
    "\n",
    "pd.concat([top_popular_metrics, personal_als_metrics, final_recs_metrics], axis=1)"
   ]
  },
  {
   "cell_type": "markdown",
   "id": "4884425e-93c1-4401-b166-ff957036922e",
   "metadata": {},
   "source": [
    "Видим, что привнесение числа прослушиваний как дополнительной фичи позволило немного увеличить качество по метрикам *precision* и *recall*. \n",
    "\n",
    "Если поглядеть на единственную метрику топа популярных, то можно заключить, что просто рекомендуя наиболее популярные треки можно более эффективнее угадывать предпочтения пользователя. Конечно мы не использовали весь предоставленный набор взаимодействий (25% пользователей), что возможно повлияло и привело к низким метрикам методов, основанных на ALS. \n",
    "\n",
    "Тем не менее такие методы позволяют рекомендовать треки, который пользователь ранее не видел (метрика *novelty* довольно высока). К тому же с другой стороны, рекомендуя случайные треки, тоже можно было бы добиться высоких значений *novelty*. \n",
    "\n",
    "Судя по низким метрикам *coverage*, заключим, что в рекомендациях представлена малая часть треков из общего набора в `items`. Тем не менее, возможно это и не настолько плохой результат, учитывая то, что пользователи не обязательно слушают много треков и не все им может быть интересно. Повлияло здесь еще и то, что ради экономии времени мы брали только топ-10 рекомендаций для расчета."
   ]
  }
 ],
 "metadata": {
  "kernelspec": {
   "display_name": "Python 3 (ipykernel)",
   "language": "python",
   "name": "python3"
  },
  "language_info": {
   "codemirror_mode": {
    "name": "ipython",
    "version": 3
   },
   "file_extension": ".py",
   "mimetype": "text/x-python",
   "name": "python",
   "nbconvert_exporter": "python",
   "pygments_lexer": "ipython3",
   "version": "3.10.12"
  }
 },
 "nbformat": 4,
 "nbformat_minor": 5
}
